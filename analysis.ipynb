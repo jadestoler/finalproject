{
 "cells": [
  {
   "cell_type": "code",
   "execution_count": 35,
   "id": "95f88f58-ae7f-4d0a-a6d8-5b59b4c841f5",
   "metadata": {},
   "outputs": [],
   "source": [
    "import pandas as pd\n",
    "import sqlite3\n",
    "import plotly.express as px"
   ]
  },
  {
   "cell_type": "code",
   "execution_count": 3,
   "id": "44fc710f-0feb-4ccf-b800-c97c0046604a",
   "metadata": {
    "jupyter": {
     "source_hidden": true
    },
    "tags": []
   },
   "outputs": [],
   "source": [
    "conn = sqlite3.connect('Data/finalproject.db')\n",
    "query = \"\"\"\n",
    "select * from gym_locations\n",
    "\n",
    "\"\"\"\n",
    "\n",
    "\n",
    "\n",
    "health = pd.read_sql(query, conn, index_col = 'index')"
   ]
  },
  {
   "cell_type": "code",
   "execution_count": 4,
   "id": "e36b3793-7e39-4522-844f-7eebce4bf245",
   "metadata": {},
   "outputs": [
    {
     "data": {
      "text/html": [
       "<div>\n",
       "<style scoped>\n",
       "    .dataframe tbody tr th:only-of-type {\n",
       "        vertical-align: middle;\n",
       "    }\n",
       "\n",
       "    .dataframe tbody tr th {\n",
       "        vertical-align: top;\n",
       "    }\n",
       "\n",
       "    .dataframe thead th {\n",
       "        text-align: right;\n",
       "    }\n",
       "</style>\n",
       "<table border=\"1\" class=\"dataframe\">\n",
       "  <thead>\n",
       "    <tr style=\"text-align: right;\">\n",
       "      <th></th>\n",
       "      <th>cc</th>\n",
       "      <th>state</th>\n",
       "      <th>city</th>\n",
       "      <th>zip</th>\n",
       "      <th>a1</th>\n",
       "      <th>abbr</th>\n",
       "      <th>State_ID_fk</th>\n",
       "    </tr>\n",
       "    <tr>\n",
       "      <th>index</th>\n",
       "      <th></th>\n",
       "      <th></th>\n",
       "      <th></th>\n",
       "      <th></th>\n",
       "      <th></th>\n",
       "      <th></th>\n",
       "      <th></th>\n",
       "    </tr>\n",
       "  </thead>\n",
       "  <tbody>\n",
       "    <tr>\n",
       "      <th>0</th>\n",
       "      <td>US</td>\n",
       "      <td>RI</td>\n",
       "      <td>Pawtucket</td>\n",
       "      <td>02860</td>\n",
       "      <td>50 Ann Mary St</td>\n",
       "      <td>RI</td>\n",
       "      <td>44</td>\n",
       "    </tr>\n",
       "    <tr>\n",
       "      <th>1</th>\n",
       "      <td>US</td>\n",
       "      <td>RI</td>\n",
       "      <td>Warwick</td>\n",
       "      <td>02888</td>\n",
       "      <td>1222 Warwick Ave</td>\n",
       "      <td>RI</td>\n",
       "      <td>44</td>\n",
       "    </tr>\n",
       "    <tr>\n",
       "      <th>2</th>\n",
       "      <td>US</td>\n",
       "      <td>RI</td>\n",
       "      <td>Woonsocket</td>\n",
       "      <td>02895</td>\n",
       "      <td>1500 Diamond Hill Rd</td>\n",
       "      <td>RI</td>\n",
       "      <td>44</td>\n",
       "    </tr>\n",
       "    <tr>\n",
       "      <th>3</th>\n",
       "      <td>US</td>\n",
       "      <td>RI</td>\n",
       "      <td>East Providence</td>\n",
       "      <td>02914</td>\n",
       "      <td>585 Taunton Ave</td>\n",
       "      <td>RI</td>\n",
       "      <td>44</td>\n",
       "    </tr>\n",
       "    <tr>\n",
       "      <th>4</th>\n",
       "      <td>US</td>\n",
       "      <td>RI</td>\n",
       "      <td>Cumberland</td>\n",
       "      <td>02864</td>\n",
       "      <td>1800 Mendon Rd</td>\n",
       "      <td>RI</td>\n",
       "      <td>44</td>\n",
       "    </tr>\n",
       "    <tr>\n",
       "      <th>...</th>\n",
       "      <td>...</td>\n",
       "      <td>...</td>\n",
       "      <td>...</td>\n",
       "      <td>...</td>\n",
       "      <td>...</td>\n",
       "      <td>...</td>\n",
       "      <td>...</td>\n",
       "    </tr>\n",
       "    <tr>\n",
       "      <th>2369</th>\n",
       "      <td>US</td>\n",
       "      <td>MT</td>\n",
       "      <td>Helena</td>\n",
       "      <td>59601</td>\n",
       "      <td>3035 N Sanders St</td>\n",
       "      <td>MT</td>\n",
       "      <td>30</td>\n",
       "    </tr>\n",
       "    <tr>\n",
       "      <th>2370</th>\n",
       "      <td>US</td>\n",
       "      <td>MT</td>\n",
       "      <td>Missoula</td>\n",
       "      <td>59808</td>\n",
       "      <td>2640 N Reserve St</td>\n",
       "      <td>MT</td>\n",
       "      <td>30</td>\n",
       "    </tr>\n",
       "    <tr>\n",
       "      <th>2371</th>\n",
       "      <td>US</td>\n",
       "      <td>MT</td>\n",
       "      <td>Great Falls</td>\n",
       "      <td>59405</td>\n",
       "      <td>726 10th Ave S</td>\n",
       "      <td>MT</td>\n",
       "      <td>30</td>\n",
       "    </tr>\n",
       "    <tr>\n",
       "      <th>2372</th>\n",
       "      <td>US</td>\n",
       "      <td>MT</td>\n",
       "      <td>Billings</td>\n",
       "      <td>59102</td>\n",
       "      <td>640 S 24th Street W</td>\n",
       "      <td>MT</td>\n",
       "      <td>30</td>\n",
       "    </tr>\n",
       "    <tr>\n",
       "      <th>2373</th>\n",
       "      <td>US</td>\n",
       "      <td>MT</td>\n",
       "      <td>Billings</td>\n",
       "      <td>59105</td>\n",
       "      <td>1321 Main St</td>\n",
       "      <td>MT</td>\n",
       "      <td>30</td>\n",
       "    </tr>\n",
       "  </tbody>\n",
       "</table>\n",
       "<p>2374 rows × 7 columns</p>\n",
       "</div>"
      ],
      "text/plain": [
       "       cc state             city     zip                    a1 abbr  \\\n",
       "index                                                                 \n",
       "0      US    RI        Pawtucket  02860         50 Ann Mary St   RI   \n",
       "1      US    RI          Warwick  02888       1222 Warwick Ave   RI   \n",
       "2      US    RI       Woonsocket  02895   1500 Diamond Hill Rd   RI   \n",
       "3      US    RI  East Providence  02914        585 Taunton Ave   RI   \n",
       "4      US    RI       Cumberland  02864         1800 Mendon Rd   RI   \n",
       "...    ..   ...              ...     ...                   ...  ...   \n",
       "2369   US    MT           Helena  59601      3035 N Sanders St   MT   \n",
       "2370   US    MT         Missoula  59808      2640 N Reserve St   MT   \n",
       "2371   US    MT      Great Falls  59405         726 10th Ave S   MT   \n",
       "2372   US    MT         Billings  59102    640 S 24th Street W   MT   \n",
       "2373   US    MT         Billings  59105           1321 Main St   MT   \n",
       "\n",
       "      State_ID_fk  \n",
       "index              \n",
       "0              44  \n",
       "1              44  \n",
       "2              44  \n",
       "3              44  \n",
       "4              44  \n",
       "...           ...  \n",
       "2369           30  \n",
       "2370           30  \n",
       "2371           30  \n",
       "2372           30  \n",
       "2373           30  \n",
       "\n",
       "[2374 rows x 7 columns]"
      ]
     },
     "execution_count": 4,
     "metadata": {},
     "output_type": "execute_result"
    }
   ],
   "source": [
    "health"
   ]
  },
  {
   "cell_type": "code",
   "execution_count": 97,
   "id": "a29dc91a-cbcb-499d-8cad-1a170515c6c2",
   "metadata": {},
   "outputs": [],
   "source": [
    "query = \"\"\"\n",
    "select * from health\n",
    "\"\"\""
   ]
  },
  {
   "cell_type": "code",
   "execution_count": 98,
   "id": "2308f460-846e-4069-ba0c-cd3b44dabfde",
   "metadata": {},
   "outputs": [],
   "source": [
    "health = pd.read_sql(query, conn, index_col = 'index')"
   ]
  },
  {
   "cell_type": "code",
   "execution_count": 100,
   "id": "011f0e76-8bc1-43f2-824e-c2a72ac01cee",
   "metadata": {},
   "outputs": [
    {
     "data": {
      "text/plain": [
       "array(['AGEYR', 'EDU', 'INC', 'RACE', 'GEN', 'OVR'], dtype=object)"
      ]
     },
     "execution_count": 100,
     "metadata": {},
     "output_type": "execute_result"
    }
   ],
   "source": [
    "health.stratificationcategoryid1.unique()"
   ]
  },
  {
   "cell_type": "code",
   "execution_count": 13,
   "id": "f323187c-9123-4bd1-8b26-7a5d1b5d9247",
   "metadata": {},
   "outputs": [
    {
     "data": {
      "text/html": [
       "<div>\n",
       "<style scoped>\n",
       "    .dataframe tbody tr th:only-of-type {\n",
       "        vertical-align: middle;\n",
       "    }\n",
       "\n",
       "    .dataframe tbody tr th {\n",
       "        vertical-align: top;\n",
       "    }\n",
       "\n",
       "    .dataframe thead th {\n",
       "        text-align: right;\n",
       "    }\n",
       "</style>\n",
       "<table border=\"1\" class=\"dataframe\">\n",
       "  <thead>\n",
       "    <tr style=\"text-align: right;\">\n",
       "      <th></th>\n",
       "      <th>abbr</th>\n",
       "      <th>State_ID_fk</th>\n",
       "      <th>index</th>\n",
       "      <th>yearstart</th>\n",
       "      <th>yearend</th>\n",
       "      <th>locationabbr</th>\n",
       "      <th>locationdesc</th>\n",
       "      <th>datasource</th>\n",
       "      <th>class</th>\n",
       "      <th>topic</th>\n",
       "      <th>...</th>\n",
       "      <th>stratificationid1</th>\n",
       "      <th>education</th>\n",
       "      <th>income</th>\n",
       "      <th>race_ethnicity</th>\n",
       "      <th>gender</th>\n",
       "      <th>data_value_footnote_symbol</th>\n",
       "      <th>data_value_footnote</th>\n",
       "      <th>total</th>\n",
       "      <th>abbr</th>\n",
       "      <th>State_ID_fk</th>\n",
       "    </tr>\n",
       "  </thead>\n",
       "  <tbody>\n",
       "    <tr>\n",
       "      <th>0</th>\n",
       "      <td>RI</td>\n",
       "      <td>44</td>\n",
       "      <td>1372</td>\n",
       "      <td>2021</td>\n",
       "      <td>2021</td>\n",
       "      <td>RI</td>\n",
       "      <td>Rhode Island</td>\n",
       "      <td>Behavioral Risk Factor Surveillance System</td>\n",
       "      <td>Obesity / Weight Status</td>\n",
       "      <td>Obesity / Weight Status</td>\n",
       "      <td>...</td>\n",
       "      <td>AGEYR5564</td>\n",
       "      <td>None</td>\n",
       "      <td>None</td>\n",
       "      <td>None</td>\n",
       "      <td>None</td>\n",
       "      <td>None</td>\n",
       "      <td>None</td>\n",
       "      <td>None</td>\n",
       "      <td>RI</td>\n",
       "      <td>44</td>\n",
       "    </tr>\n",
       "    <tr>\n",
       "      <th>1</th>\n",
       "      <td>RI</td>\n",
       "      <td>44</td>\n",
       "      <td>1373</td>\n",
       "      <td>2021</td>\n",
       "      <td>2021</td>\n",
       "      <td>RI</td>\n",
       "      <td>Rhode Island</td>\n",
       "      <td>Behavioral Risk Factor Surveillance System</td>\n",
       "      <td>Obesity / Weight Status</td>\n",
       "      <td>Obesity / Weight Status</td>\n",
       "      <td>...</td>\n",
       "      <td>EDUCOGRAD</td>\n",
       "      <td>College graduate</td>\n",
       "      <td>None</td>\n",
       "      <td>None</td>\n",
       "      <td>None</td>\n",
       "      <td>None</td>\n",
       "      <td>None</td>\n",
       "      <td>None</td>\n",
       "      <td>RI</td>\n",
       "      <td>44</td>\n",
       "    </tr>\n",
       "    <tr>\n",
       "      <th>2</th>\n",
       "      <td>RI</td>\n",
       "      <td>44</td>\n",
       "      <td>1374</td>\n",
       "      <td>2021</td>\n",
       "      <td>2021</td>\n",
       "      <td>RI</td>\n",
       "      <td>Rhode Island</td>\n",
       "      <td>Behavioral Risk Factor Surveillance System</td>\n",
       "      <td>Obesity / Weight Status</td>\n",
       "      <td>Obesity / Weight Status</td>\n",
       "      <td>...</td>\n",
       "      <td>RACENAA</td>\n",
       "      <td>None</td>\n",
       "      <td>None</td>\n",
       "      <td>American Indian/Alaska Native</td>\n",
       "      <td>None</td>\n",
       "      <td>~</td>\n",
       "      <td>Data not available because sample size is insu...</td>\n",
       "      <td>None</td>\n",
       "      <td>RI</td>\n",
       "      <td>44</td>\n",
       "    </tr>\n",
       "    <tr>\n",
       "      <th>3</th>\n",
       "      <td>RI</td>\n",
       "      <td>44</td>\n",
       "      <td>1375</td>\n",
       "      <td>2021</td>\n",
       "      <td>2021</td>\n",
       "      <td>RI</td>\n",
       "      <td>Rhode Island</td>\n",
       "      <td>Behavioral Risk Factor Surveillance System</td>\n",
       "      <td>Obesity / Weight Status</td>\n",
       "      <td>Obesity / Weight Status</td>\n",
       "      <td>...</td>\n",
       "      <td>RACEWHT</td>\n",
       "      <td>None</td>\n",
       "      <td>None</td>\n",
       "      <td>Non-Hispanic White</td>\n",
       "      <td>None</td>\n",
       "      <td>None</td>\n",
       "      <td>None</td>\n",
       "      <td>None</td>\n",
       "      <td>RI</td>\n",
       "      <td>44</td>\n",
       "    </tr>\n",
       "    <tr>\n",
       "      <th>4</th>\n",
       "      <td>RI</td>\n",
       "      <td>44</td>\n",
       "      <td>1376</td>\n",
       "      <td>2021</td>\n",
       "      <td>2021</td>\n",
       "      <td>RI</td>\n",
       "      <td>Rhode Island</td>\n",
       "      <td>Behavioral Risk Factor Surveillance System</td>\n",
       "      <td>Obesity / Weight Status</td>\n",
       "      <td>Obesity / Weight Status</td>\n",
       "      <td>...</td>\n",
       "      <td>AGEYR4554</td>\n",
       "      <td>None</td>\n",
       "      <td>None</td>\n",
       "      <td>None</td>\n",
       "      <td>None</td>\n",
       "      <td>None</td>\n",
       "      <td>None</td>\n",
       "      <td>None</td>\n",
       "      <td>RI</td>\n",
       "      <td>44</td>\n",
       "    </tr>\n",
       "    <tr>\n",
       "      <th>...</th>\n",
       "      <td>...</td>\n",
       "      <td>...</td>\n",
       "      <td>...</td>\n",
       "      <td>...</td>\n",
       "      <td>...</td>\n",
       "      <td>...</td>\n",
       "      <td>...</td>\n",
       "      <td>...</td>\n",
       "      <td>...</td>\n",
       "      <td>...</td>\n",
       "      <td>...</td>\n",
       "      <td>...</td>\n",
       "      <td>...</td>\n",
       "      <td>...</td>\n",
       "      <td>...</td>\n",
       "      <td>...</td>\n",
       "      <td>...</td>\n",
       "      <td>...</td>\n",
       "      <td>...</td>\n",
       "      <td>...</td>\n",
       "      <td>...</td>\n",
       "    </tr>\n",
       "    <tr>\n",
       "      <th>66467</th>\n",
       "      <td>MT</td>\n",
       "      <td>30</td>\n",
       "      <td>443</td>\n",
       "      <td>2021</td>\n",
       "      <td>2021</td>\n",
       "      <td>MT</td>\n",
       "      <td>Montana</td>\n",
       "      <td>Behavioral Risk Factor Surveillance System</td>\n",
       "      <td>Obesity / Weight Status</td>\n",
       "      <td>Obesity / Weight Status</td>\n",
       "      <td>...</td>\n",
       "      <td>INCLESS15</td>\n",
       "      <td>None</td>\n",
       "      <td>Less than $15,000</td>\n",
       "      <td>None</td>\n",
       "      <td>None</td>\n",
       "      <td>None</td>\n",
       "      <td>None</td>\n",
       "      <td>None</td>\n",
       "      <td>MT</td>\n",
       "      <td>30</td>\n",
       "    </tr>\n",
       "    <tr>\n",
       "      <th>66468</th>\n",
       "      <td>MT</td>\n",
       "      <td>30</td>\n",
       "      <td>444</td>\n",
       "      <td>2021</td>\n",
       "      <td>2021</td>\n",
       "      <td>MT</td>\n",
       "      <td>Montana</td>\n",
       "      <td>Behavioral Risk Factor Surveillance System</td>\n",
       "      <td>Obesity / Weight Status</td>\n",
       "      <td>Obesity / Weight Status</td>\n",
       "      <td>...</td>\n",
       "      <td>EDUCOTEC</td>\n",
       "      <td>Some college or technical school</td>\n",
       "      <td>None</td>\n",
       "      <td>None</td>\n",
       "      <td>None</td>\n",
       "      <td>None</td>\n",
       "      <td>None</td>\n",
       "      <td>None</td>\n",
       "      <td>MT</td>\n",
       "      <td>30</td>\n",
       "    </tr>\n",
       "    <tr>\n",
       "      <th>66469</th>\n",
       "      <td>MT</td>\n",
       "      <td>30</td>\n",
       "      <td>445</td>\n",
       "      <td>2021</td>\n",
       "      <td>2021</td>\n",
       "      <td>MT</td>\n",
       "      <td>Montana</td>\n",
       "      <td>Behavioral Risk Factor Surveillance System</td>\n",
       "      <td>Obesity / Weight Status</td>\n",
       "      <td>Obesity / Weight Status</td>\n",
       "      <td>...</td>\n",
       "      <td>AGEYR4554</td>\n",
       "      <td>None</td>\n",
       "      <td>None</td>\n",
       "      <td>None</td>\n",
       "      <td>None</td>\n",
       "      <td>None</td>\n",
       "      <td>None</td>\n",
       "      <td>None</td>\n",
       "      <td>MT</td>\n",
       "      <td>30</td>\n",
       "    </tr>\n",
       "    <tr>\n",
       "      <th>66470</th>\n",
       "      <td>MT</td>\n",
       "      <td>30</td>\n",
       "      <td>446</td>\n",
       "      <td>2021</td>\n",
       "      <td>2021</td>\n",
       "      <td>MT</td>\n",
       "      <td>Montana</td>\n",
       "      <td>Behavioral Risk Factor Surveillance System</td>\n",
       "      <td>Obesity / Weight Status</td>\n",
       "      <td>Obesity / Weight Status</td>\n",
       "      <td>...</td>\n",
       "      <td>RACEHPI</td>\n",
       "      <td>None</td>\n",
       "      <td>None</td>\n",
       "      <td>Hawaiian/Pacific Islander</td>\n",
       "      <td>None</td>\n",
       "      <td>~</td>\n",
       "      <td>Data not available because sample size is insu...</td>\n",
       "      <td>None</td>\n",
       "      <td>MT</td>\n",
       "      <td>30</td>\n",
       "    </tr>\n",
       "    <tr>\n",
       "      <th>66471</th>\n",
       "      <td>MT</td>\n",
       "      <td>30</td>\n",
       "      <td>447</td>\n",
       "      <td>2021</td>\n",
       "      <td>2021</td>\n",
       "      <td>MT</td>\n",
       "      <td>Montana</td>\n",
       "      <td>Behavioral Risk Factor Surveillance System</td>\n",
       "      <td>Obesity / Weight Status</td>\n",
       "      <td>Obesity / Weight Status</td>\n",
       "      <td>...</td>\n",
       "      <td>RACENAA</td>\n",
       "      <td>None</td>\n",
       "      <td>None</td>\n",
       "      <td>American Indian/Alaska Native</td>\n",
       "      <td>None</td>\n",
       "      <td>None</td>\n",
       "      <td>None</td>\n",
       "      <td>None</td>\n",
       "      <td>MT</td>\n",
       "      <td>30</td>\n",
       "    </tr>\n",
       "  </tbody>\n",
       "</table>\n",
       "<p>66472 rows × 36 columns</p>\n",
       "</div>"
      ],
      "text/plain": [
       "      abbr State_ID_fk  index yearstart yearend locationabbr  locationdesc  \\\n",
       "0       RI          44   1372      2021    2021           RI  Rhode Island   \n",
       "1       RI          44   1373      2021    2021           RI  Rhode Island   \n",
       "2       RI          44   1374      2021    2021           RI  Rhode Island   \n",
       "3       RI          44   1375      2021    2021           RI  Rhode Island   \n",
       "4       RI          44   1376      2021    2021           RI  Rhode Island   \n",
       "...    ...         ...    ...       ...     ...          ...           ...   \n",
       "66467   MT          30    443      2021    2021           MT       Montana   \n",
       "66468   MT          30    444      2021    2021           MT       Montana   \n",
       "66469   MT          30    445      2021    2021           MT       Montana   \n",
       "66470   MT          30    446      2021    2021           MT       Montana   \n",
       "66471   MT          30    447      2021    2021           MT       Montana   \n",
       "\n",
       "                                       datasource                    class  \\\n",
       "0      Behavioral Risk Factor Surveillance System  Obesity / Weight Status   \n",
       "1      Behavioral Risk Factor Surveillance System  Obesity / Weight Status   \n",
       "2      Behavioral Risk Factor Surveillance System  Obesity / Weight Status   \n",
       "3      Behavioral Risk Factor Surveillance System  Obesity / Weight Status   \n",
       "4      Behavioral Risk Factor Surveillance System  Obesity / Weight Status   \n",
       "...                                           ...                      ...   \n",
       "66467  Behavioral Risk Factor Surveillance System  Obesity / Weight Status   \n",
       "66468  Behavioral Risk Factor Surveillance System  Obesity / Weight Status   \n",
       "66469  Behavioral Risk Factor Surveillance System  Obesity / Weight Status   \n",
       "66470  Behavioral Risk Factor Surveillance System  Obesity / Weight Status   \n",
       "66471  Behavioral Risk Factor Surveillance System  Obesity / Weight Status   \n",
       "\n",
       "                         topic  ... stratificationid1  \\\n",
       "0      Obesity / Weight Status  ...         AGEYR5564   \n",
       "1      Obesity / Weight Status  ...         EDUCOGRAD   \n",
       "2      Obesity / Weight Status  ...           RACENAA   \n",
       "3      Obesity / Weight Status  ...           RACEWHT   \n",
       "4      Obesity / Weight Status  ...         AGEYR4554   \n",
       "...                        ...  ...               ...   \n",
       "66467  Obesity / Weight Status  ...         INCLESS15   \n",
       "66468  Obesity / Weight Status  ...          EDUCOTEC   \n",
       "66469  Obesity / Weight Status  ...         AGEYR4554   \n",
       "66470  Obesity / Weight Status  ...           RACEHPI   \n",
       "66471  Obesity / Weight Status  ...           RACENAA   \n",
       "\n",
       "                              education             income  \\\n",
       "0                                  None               None   \n",
       "1                      College graduate               None   \n",
       "2                                  None               None   \n",
       "3                                  None               None   \n",
       "4                                  None               None   \n",
       "...                                 ...                ...   \n",
       "66467                              None  Less than $15,000   \n",
       "66468  Some college or technical school               None   \n",
       "66469                              None               None   \n",
       "66470                              None               None   \n",
       "66471                              None               None   \n",
       "\n",
       "                      race_ethnicity gender data_value_footnote_symbol  \\\n",
       "0                               None   None                       None   \n",
       "1                               None   None                       None   \n",
       "2      American Indian/Alaska Native   None                          ~   \n",
       "3                 Non-Hispanic White   None                       None   \n",
       "4                               None   None                       None   \n",
       "...                              ...    ...                        ...   \n",
       "66467                           None   None                       None   \n",
       "66468                           None   None                       None   \n",
       "66469                           None   None                       None   \n",
       "66470      Hawaiian/Pacific Islander   None                          ~   \n",
       "66471  American Indian/Alaska Native   None                       None   \n",
       "\n",
       "                                     data_value_footnote total abbr  \\\n",
       "0                                                   None  None   RI   \n",
       "1                                                   None  None   RI   \n",
       "2      Data not available because sample size is insu...  None   RI   \n",
       "3                                                   None  None   RI   \n",
       "4                                                   None  None   RI   \n",
       "...                                                  ...   ...  ...   \n",
       "66467                                               None  None   MT   \n",
       "66468                                               None  None   MT   \n",
       "66469                                               None  None   MT   \n",
       "66470  Data not available because sample size is insu...  None   MT   \n",
       "66471                                               None  None   MT   \n",
       "\n",
       "      State_ID_fk  \n",
       "0              44  \n",
       "1              44  \n",
       "2              44  \n",
       "3              44  \n",
       "4              44  \n",
       "...           ...  \n",
       "66467          30  \n",
       "66468          30  \n",
       "66469          30  \n",
       "66470          30  \n",
       "66471          30  \n",
       "\n",
       "[66472 rows x 36 columns]"
      ]
     },
     "execution_count": 13,
     "metadata": {},
     "output_type": "execute_result"
    }
   ],
   "source": [
    "query = \"\"\"\n",
    "select gym_locations.abbr,gym_locations.State_ID_fk, weight_condition.* from gym_locations\n",
    "JOIN weight_condition ON weight_condition.State_ID_fk = gym_locations.State_ID_fk\n",
    "\"\"\"\n",
    "pd.read_sql(query,con=conn)"
   ]
  },
  {
   "cell_type": "code",
   "execution_count": 81,
   "id": "187d6cff-a0fc-49c5-9087-cf1cd3117c38",
   "metadata": {},
   "outputs": [],
   "source": [
    "query = \"\"\"\n",
    "SELECT gyms.*,\n",
    "    weight_condition.abbr,\n",
    "    weight_condition.locationdesc,\n",
    "    weight_condition.data_value AS obesity_data,\n",
    "    leisure.data_value AS leisure_data,\n",
    "    leisure.stratificationcategoryid1,\n",
    "    leisure.stratificationid1,\n",
    "    states.*\n",
    "    FROM (SELECT COUNT(gym_locations.abbr) AS n_gyms,gym_locations.State_ID_fk FROM gym_locations\n",
    "GROUP BY State_ID_fk) as gyms\n",
    "JOIN weight_condition ON weight_condition.State_ID_fk = gyms.State_ID_fk\n",
    "AND weight_condition.stratificationcategoryid1 = 'OVR'\n",
    "JOIN leisure ON leisure.State_ID_fk = gyms.State_ID_fk\n",
    "AND leisure.stratificationcategoryid1 = 'OVR'\n",
    "JOIN states ON states.State_ID_fk = gyms.State_ID_fk\n",
    "\"\"\"\n",
    "df = pd.read_sql(query,con=conn)"
   ]
  },
  {
   "cell_type": "code",
   "execution_count": 82,
   "id": "fe684b0d-f216-40b6-a765-92e7d658dd62",
   "metadata": {},
   "outputs": [],
   "source": [
    "df.dtypes\n",
    "df['obesity_data'] = df['obesity_data'].astype(float)\n",
    "df['leisure_data'] = df['leisure_data'].astype(float)\n",
    "df['Pop'] = df['Pop'].astype(int)\n",
    "df['gyms_per_100k'] = df['n_gyms']/(df['Pop']/100000)"
   ]
  },
  {
   "cell_type": "code",
   "execution_count": 83,
   "id": "2e18e22b-e01d-464c-8dd7-df3196057687",
   "metadata": {},
   "outputs": [
    {
     "data": {
      "text/html": [
       "<div>\n",
       "<style scoped>\n",
       "    .dataframe tbody tr th:only-of-type {\n",
       "        vertical-align: middle;\n",
       "    }\n",
       "\n",
       "    .dataframe tbody tr th {\n",
       "        vertical-align: top;\n",
       "    }\n",
       "\n",
       "    .dataframe thead th {\n",
       "        text-align: right;\n",
       "    }\n",
       "</style>\n",
       "<table border=\"1\" class=\"dataframe\">\n",
       "  <thead>\n",
       "    <tr style=\"text-align: right;\">\n",
       "      <th></th>\n",
       "      <th>n_gyms</th>\n",
       "      <th>State_ID_fk</th>\n",
       "      <th>abbr</th>\n",
       "      <th>locationdesc</th>\n",
       "      <th>obesity_data</th>\n",
       "      <th>leisure_data</th>\n",
       "      <th>stratificationcategoryid1</th>\n",
       "      <th>stratificationid1</th>\n",
       "      <th>index</th>\n",
       "      <th>Name</th>\n",
       "      <th>Pop</th>\n",
       "      <th>State_ID_fk</th>\n",
       "      <th>abbr</th>\n",
       "      <th>gyms_per_100k</th>\n",
       "    </tr>\n",
       "  </thead>\n",
       "  <tbody>\n",
       "    <tr>\n",
       "      <th>0</th>\n",
       "      <td>20</td>\n",
       "      <td>33</td>\n",
       "      <td>NH</td>\n",
       "      <td>New Hampshire</td>\n",
       "      <td>35.4</td>\n",
       "      <td>20.0</td>\n",
       "      <td>OVR</td>\n",
       "      <td>OVERALL</td>\n",
       "      <td>5</td>\n",
       "      <td>New Hampshire</td>\n",
       "      <td>1359711</td>\n",
       "      <td>33</td>\n",
       "      <td>NH</td>\n",
       "      <td>1.470901</td>\n",
       "    </tr>\n",
       "    <tr>\n",
       "      <th>1</th>\n",
       "      <td>3</td>\n",
       "      <td>46</td>\n",
       "      <td>SD</td>\n",
       "      <td>South Dakota</td>\n",
       "      <td>33.7</td>\n",
       "      <td>23.2</td>\n",
       "      <td>OVR</td>\n",
       "      <td>OVERALL</td>\n",
       "      <td>17</td>\n",
       "      <td>South Dakota</td>\n",
       "      <td>884659</td>\n",
       "      <td>46</td>\n",
       "      <td>SD</td>\n",
       "      <td>0.339114</td>\n",
       "    </tr>\n",
       "    <tr>\n",
       "      <th>2</th>\n",
       "      <td>4</td>\n",
       "      <td>56</td>\n",
       "      <td>WY</td>\n",
       "      <td>Wyoming</td>\n",
       "      <td>37.0</td>\n",
       "      <td>22.9</td>\n",
       "      <td>OVR</td>\n",
       "      <td>OVERALL</td>\n",
       "      <td>26</td>\n",
       "      <td>Wyoming</td>\n",
       "      <td>578759</td>\n",
       "      <td>56</td>\n",
       "      <td>WY</td>\n",
       "      <td>0.691134</td>\n",
       "    </tr>\n",
       "    <tr>\n",
       "      <th>3</th>\n",
       "      <td>137</td>\n",
       "      <td>36</td>\n",
       "      <td>NY</td>\n",
       "      <td>New York</td>\n",
       "      <td>34.5</td>\n",
       "      <td>25.8</td>\n",
       "      <td>OVR</td>\n",
       "      <td>OVERALL</td>\n",
       "      <td>8</td>\n",
       "      <td>New York</td>\n",
       "      <td>19453561</td>\n",
       "      <td>36</td>\n",
       "      <td>NY</td>\n",
       "      <td>0.704241</td>\n",
       "    </tr>\n",
       "    <tr>\n",
       "      <th>4</th>\n",
       "      <td>24</td>\n",
       "      <td>41</td>\n",
       "      <td>OR</td>\n",
       "      <td>Oregon</td>\n",
       "      <td>34.7</td>\n",
       "      <td>19.9</td>\n",
       "      <td>OVR</td>\n",
       "      <td>OVERALL</td>\n",
       "      <td>13</td>\n",
       "      <td>Oregon</td>\n",
       "      <td>4217737</td>\n",
       "      <td>41</td>\n",
       "      <td>OR</td>\n",
       "      <td>0.569026</td>\n",
       "    </tr>\n",
       "    <tr>\n",
       "      <th>5</th>\n",
       "      <td>38</td>\n",
       "      <td>01</td>\n",
       "      <td>AL</td>\n",
       "      <td>Alabama</td>\n",
       "      <td>31.9</td>\n",
       "      <td>31.5</td>\n",
       "      <td>OVR</td>\n",
       "      <td>OVERALL</td>\n",
       "      <td>28</td>\n",
       "      <td>Alabama</td>\n",
       "      <td>4903185</td>\n",
       "      <td>01</td>\n",
       "      <td>AL</td>\n",
       "      <td>0.775006</td>\n",
       "    </tr>\n",
       "    <tr>\n",
       "      <th>6</th>\n",
       "      <td>3</td>\n",
       "      <td>11</td>\n",
       "      <td>DC</td>\n",
       "      <td>District of Columbia</td>\n",
       "      <td>30.7</td>\n",
       "      <td>15.8</td>\n",
       "      <td>OVR</td>\n",
       "      <td>OVERALL</td>\n",
       "      <td>35</td>\n",
       "      <td>District of Columbia</td>\n",
       "      <td>705749</td>\n",
       "      <td>11</td>\n",
       "      <td>DC</td>\n",
       "      <td>0.425080</td>\n",
       "    </tr>\n",
       "    <tr>\n",
       "      <th>7</th>\n",
       "      <td>4</td>\n",
       "      <td>38</td>\n",
       "      <td>ND</td>\n",
       "      <td>North Dakota</td>\n",
       "      <td>34.8</td>\n",
       "      <td>25.5</td>\n",
       "      <td>OVR</td>\n",
       "      <td>OVERALL</td>\n",
       "      <td>10</td>\n",
       "      <td>North Dakota</td>\n",
       "      <td>762062</td>\n",
       "      <td>38</td>\n",
       "      <td>ND</td>\n",
       "      <td>0.524892</td>\n",
       "    </tr>\n",
       "    <tr>\n",
       "      <th>8</th>\n",
       "      <td>156</td>\n",
       "      <td>12</td>\n",
       "      <td>FL</td>\n",
       "      <td>Florida</td>\n",
       "      <td>NaN</td>\n",
       "      <td>NaN</td>\n",
       "      <td>OVR</td>\n",
       "      <td>OVERALL</td>\n",
       "      <td>37</td>\n",
       "      <td>Florida</td>\n",
       "      <td>21477737</td>\n",
       "      <td>12</td>\n",
       "      <td>FL</td>\n",
       "      <td>0.726334</td>\n",
       "    </tr>\n",
       "    <tr>\n",
       "      <th>9</th>\n",
       "      <td>173</td>\n",
       "      <td>48</td>\n",
       "      <td>TX</td>\n",
       "      <td>Texas</td>\n",
       "      <td>33.7</td>\n",
       "      <td>25.1</td>\n",
       "      <td>OVR</td>\n",
       "      <td>OVERALL</td>\n",
       "      <td>19</td>\n",
       "      <td>Texas</td>\n",
       "      <td>28995881</td>\n",
       "      <td>48</td>\n",
       "      <td>TX</td>\n",
       "      <td>0.596636</td>\n",
       "    </tr>\n",
       "    <tr>\n",
       "      <th>10</th>\n",
       "      <td>82</td>\n",
       "      <td>25</td>\n",
       "      <td>MA</td>\n",
       "      <td>Massachusetts</td>\n",
       "      <td>33.9</td>\n",
       "      <td>21.1</td>\n",
       "      <td>OVR</td>\n",
       "      <td>OVERALL</td>\n",
       "      <td>49</td>\n",
       "      <td>Massachusetts</td>\n",
       "      <td>6892503</td>\n",
       "      <td>25</td>\n",
       "      <td>MA</td>\n",
       "      <td>1.189698</td>\n",
       "    </tr>\n",
       "    <tr>\n",
       "      <th>11</th>\n",
       "      <td>23</td>\n",
       "      <td>40</td>\n",
       "      <td>OK</td>\n",
       "      <td>Oklahoma</td>\n",
       "      <td>32.5</td>\n",
       "      <td>28.3</td>\n",
       "      <td>OVR</td>\n",
       "      <td>OVERALL</td>\n",
       "      <td>12</td>\n",
       "      <td>Oklahoma</td>\n",
       "      <td>3956971</td>\n",
       "      <td>40</td>\n",
       "      <td>OK</td>\n",
       "      <td>0.581253</td>\n",
       "    </tr>\n",
       "    <tr>\n",
       "      <th>12</th>\n",
       "      <td>5</td>\n",
       "      <td>15</td>\n",
       "      <td>HI</td>\n",
       "      <td>Hawaii</td>\n",
       "      <td>35.3</td>\n",
       "      <td>20.0</td>\n",
       "      <td>OVR</td>\n",
       "      <td>OVERALL</td>\n",
       "      <td>40</td>\n",
       "      <td>Hawaii</td>\n",
       "      <td>1415872</td>\n",
       "      <td>15</td>\n",
       "      <td>HI</td>\n",
       "      <td>0.353139</td>\n",
       "    </tr>\n",
       "    <tr>\n",
       "      <th>13</th>\n",
       "      <td>20</td>\n",
       "      <td>35</td>\n",
       "      <td>NM</td>\n",
       "      <td>New Mexico</td>\n",
       "      <td>35.4</td>\n",
       "      <td>23.0</td>\n",
       "      <td>OVR</td>\n",
       "      <td>OVERALL</td>\n",
       "      <td>7</td>\n",
       "      <td>New Mexico</td>\n",
       "      <td>2096829</td>\n",
       "      <td>35</td>\n",
       "      <td>NM</td>\n",
       "      <td>0.953821</td>\n",
       "    </tr>\n",
       "    <tr>\n",
       "      <th>14</th>\n",
       "      <td>43</td>\n",
       "      <td>45</td>\n",
       "      <td>SC</td>\n",
       "      <td>South Carolina</td>\n",
       "      <td>34.5</td>\n",
       "      <td>25.0</td>\n",
       "      <td>OVR</td>\n",
       "      <td>OVERALL</td>\n",
       "      <td>16</td>\n",
       "      <td>South Carolina</td>\n",
       "      <td>5148714</td>\n",
       "      <td>45</td>\n",
       "      <td>SC</td>\n",
       "      <td>0.835160</td>\n",
       "    </tr>\n",
       "    <tr>\n",
       "      <th>15</th>\n",
       "      <td>5</td>\n",
       "      <td>30</td>\n",
       "      <td>MT</td>\n",
       "      <td>Montana</td>\n",
       "      <td>35.0</td>\n",
       "      <td>21.2</td>\n",
       "      <td>OVR</td>\n",
       "      <td>OVERALL</td>\n",
       "      <td>2</td>\n",
       "      <td>Montana</td>\n",
       "      <td>1068778</td>\n",
       "      <td>30</td>\n",
       "      <td>MT</td>\n",
       "      <td>0.467824</td>\n",
       "    </tr>\n",
       "    <tr>\n",
       "      <th>16</th>\n",
       "      <td>94</td>\n",
       "      <td>17</td>\n",
       "      <td>IL</td>\n",
       "      <td>Illinois</td>\n",
       "      <td>34.5</td>\n",
       "      <td>27.2</td>\n",
       "      <td>OVR</td>\n",
       "      <td>OVERALL</td>\n",
       "      <td>41</td>\n",
       "      <td>Illinois</td>\n",
       "      <td>12671821</td>\n",
       "      <td>17</td>\n",
       "      <td>IL</td>\n",
       "      <td>0.741803</td>\n",
       "    </tr>\n",
       "    <tr>\n",
       "      <th>17</th>\n",
       "      <td>55</td>\n",
       "      <td>04</td>\n",
       "      <td>AZ</td>\n",
       "      <td>Arizona</td>\n",
       "      <td>36.6</td>\n",
       "      <td>22.7</td>\n",
       "      <td>OVR</td>\n",
       "      <td>OVERALL</td>\n",
       "      <td>30</td>\n",
       "      <td>Arizona</td>\n",
       "      <td>7278717</td>\n",
       "      <td>04</td>\n",
       "      <td>AZ</td>\n",
       "      <td>0.755628</td>\n",
       "    </tr>\n",
       "    <tr>\n",
       "      <th>18</th>\n",
       "      <td>14</td>\n",
       "      <td>49</td>\n",
       "      <td>UT</td>\n",
       "      <td>Utah</td>\n",
       "      <td>33.3</td>\n",
       "      <td>17.3</td>\n",
       "      <td>OVR</td>\n",
       "      <td>OVERALL</td>\n",
       "      <td>21</td>\n",
       "      <td>Utah</td>\n",
       "      <td>3205958</td>\n",
       "      <td>49</td>\n",
       "      <td>UT</td>\n",
       "      <td>0.436687</td>\n",
       "    </tr>\n",
       "    <tr>\n",
       "      <th>19</th>\n",
       "      <td>61</td>\n",
       "      <td>18</td>\n",
       "      <td>IN</td>\n",
       "      <td>Indiana</td>\n",
       "      <td>33.3</td>\n",
       "      <td>25.9</td>\n",
       "      <td>OVR</td>\n",
       "      <td>OVERALL</td>\n",
       "      <td>42</td>\n",
       "      <td>Indiana</td>\n",
       "      <td>6732219</td>\n",
       "      <td>18</td>\n",
       "      <td>IN</td>\n",
       "      <td>0.906091</td>\n",
       "    </tr>\n",
       "    <tr>\n",
       "      <th>20</th>\n",
       "      <td>89</td>\n",
       "      <td>26</td>\n",
       "      <td>MI</td>\n",
       "      <td>Michigan</td>\n",
       "      <td>34.2</td>\n",
       "      <td>23.1</td>\n",
       "      <td>OVR</td>\n",
       "      <td>OVERALL</td>\n",
       "      <td>50</td>\n",
       "      <td>Michigan</td>\n",
       "      <td>9986857</td>\n",
       "      <td>26</td>\n",
       "      <td>MI</td>\n",
       "      <td>0.891171</td>\n",
       "    </tr>\n",
       "    <tr>\n",
       "      <th>21</th>\n",
       "      <td>85</td>\n",
       "      <td>37</td>\n",
       "      <td>NC</td>\n",
       "      <td>North Carolina</td>\n",
       "      <td>32.6</td>\n",
       "      <td>22.3</td>\n",
       "      <td>OVR</td>\n",
       "      <td>OVERALL</td>\n",
       "      <td>9</td>\n",
       "      <td>North Carolina</td>\n",
       "      <td>10488084</td>\n",
       "      <td>37</td>\n",
       "      <td>NC</td>\n",
       "      <td>0.810444</td>\n",
       "    </tr>\n",
       "    <tr>\n",
       "      <th>22</th>\n",
       "      <td>34</td>\n",
       "      <td>22</td>\n",
       "      <td>LA</td>\n",
       "      <td>Louisiana</td>\n",
       "      <td>32.4</td>\n",
       "      <td>29.4</td>\n",
       "      <td>OVR</td>\n",
       "      <td>OVERALL</td>\n",
       "      <td>46</td>\n",
       "      <td>Louisiana</td>\n",
       "      <td>4648794</td>\n",
       "      <td>22</td>\n",
       "      <td>LA</td>\n",
       "      <td>0.731372</td>\n",
       "    </tr>\n",
       "    <tr>\n",
       "      <th>23</th>\n",
       "      <td>15</td>\n",
       "      <td>31</td>\n",
       "      <td>NE</td>\n",
       "      <td>Nebraska</td>\n",
       "      <td>35.0</td>\n",
       "      <td>24.2</td>\n",
       "      <td>OVR</td>\n",
       "      <td>OVERALL</td>\n",
       "      <td>3</td>\n",
       "      <td>Nebraska</td>\n",
       "      <td>1934408</td>\n",
       "      <td>31</td>\n",
       "      <td>NE</td>\n",
       "      <td>0.775431</td>\n",
       "    </tr>\n",
       "    <tr>\n",
       "      <th>24</th>\n",
       "      <td>107</td>\n",
       "      <td>39</td>\n",
       "      <td>OH</td>\n",
       "      <td>Ohio</td>\n",
       "      <td>33.3</td>\n",
       "      <td>25.9</td>\n",
       "      <td>OVR</td>\n",
       "      <td>OVERALL</td>\n",
       "      <td>11</td>\n",
       "      <td>Ohio</td>\n",
       "      <td>11689100</td>\n",
       "      <td>39</td>\n",
       "      <td>OH</td>\n",
       "      <td>0.915383</td>\n",
       "    </tr>\n",
       "    <tr>\n",
       "      <th>25</th>\n",
       "      <td>17</td>\n",
       "      <td>20</td>\n",
       "      <td>KS</td>\n",
       "      <td>Kansas</td>\n",
       "      <td>34.4</td>\n",
       "      <td>23.6</td>\n",
       "      <td>OVR</td>\n",
       "      <td>OVERALL</td>\n",
       "      <td>44</td>\n",
       "      <td>Kansas</td>\n",
       "      <td>2913314</td>\n",
       "      <td>20</td>\n",
       "      <td>KS</td>\n",
       "      <td>0.583528</td>\n",
       "    </tr>\n",
       "    <tr>\n",
       "      <th>26</th>\n",
       "      <td>11</td>\n",
       "      <td>54</td>\n",
       "      <td>WV</td>\n",
       "      <td>West Virginia</td>\n",
       "      <td>33.0</td>\n",
       "      <td>30.5</td>\n",
       "      <td>OVR</td>\n",
       "      <td>OVERALL</td>\n",
       "      <td>24</td>\n",
       "      <td>West Virginia</td>\n",
       "      <td>1792147</td>\n",
       "      <td>54</td>\n",
       "      <td>WV</td>\n",
       "      <td>0.613789</td>\n",
       "    </tr>\n",
       "    <tr>\n",
       "      <th>27</th>\n",
       "      <td>12</td>\n",
       "      <td>23</td>\n",
       "      <td>ME</td>\n",
       "      <td>Maine</td>\n",
       "      <td>34.0</td>\n",
       "      <td>26.5</td>\n",
       "      <td>OVR</td>\n",
       "      <td>OVERALL</td>\n",
       "      <td>47</td>\n",
       "      <td>Maine</td>\n",
       "      <td>1344212</td>\n",
       "      <td>23</td>\n",
       "      <td>ME</td>\n",
       "      <td>0.892716</td>\n",
       "    </tr>\n",
       "    <tr>\n",
       "      <th>28</th>\n",
       "      <td>10</td>\n",
       "      <td>10</td>\n",
       "      <td>DE</td>\n",
       "      <td>Delaware</td>\n",
       "      <td>34.9</td>\n",
       "      <td>27.2</td>\n",
       "      <td>OVR</td>\n",
       "      <td>OVERALL</td>\n",
       "      <td>34</td>\n",
       "      <td>Delaware</td>\n",
       "      <td>973764</td>\n",
       "      <td>10</td>\n",
       "      <td>DE</td>\n",
       "      <td>1.026943</td>\n",
       "    </tr>\n",
       "    <tr>\n",
       "      <th>29</th>\n",
       "      <td>53</td>\n",
       "      <td>47</td>\n",
       "      <td>TN</td>\n",
       "      <td>Tennessee</td>\n",
       "      <td>36.6</td>\n",
       "      <td>28.7</td>\n",
       "      <td>OVR</td>\n",
       "      <td>OVERALL</td>\n",
       "      <td>18</td>\n",
       "      <td>Tennessee</td>\n",
       "      <td>6829174</td>\n",
       "      <td>47</td>\n",
       "      <td>TN</td>\n",
       "      <td>0.776082</td>\n",
       "    </tr>\n",
       "    <tr>\n",
       "      <th>30</th>\n",
       "      <td>15</td>\n",
       "      <td>72</td>\n",
       "      <td>PR</td>\n",
       "      <td>Puerto Rico</td>\n",
       "      <td>36.4</td>\n",
       "      <td>46.1</td>\n",
       "      <td>OVR</td>\n",
       "      <td>OVERALL</td>\n",
       "      <td>27</td>\n",
       "      <td>Puerto Rico</td>\n",
       "      <td>3193694</td>\n",
       "      <td>72</td>\n",
       "      <td>PR</td>\n",
       "      <td>0.469676</td>\n",
       "    </tr>\n",
       "    <tr>\n",
       "      <th>31</th>\n",
       "      <td>56</td>\n",
       "      <td>51</td>\n",
       "      <td>VA</td>\n",
       "      <td>Virginia</td>\n",
       "      <td>33.9</td>\n",
       "      <td>20.9</td>\n",
       "      <td>OVR</td>\n",
       "      <td>OVERALL</td>\n",
       "      <td>22</td>\n",
       "      <td>Virginia</td>\n",
       "      <td>8535519</td>\n",
       "      <td>51</td>\n",
       "      <td>VA</td>\n",
       "      <td>0.656082</td>\n",
       "    </tr>\n",
       "    <tr>\n",
       "      <th>32</th>\n",
       "      <td>22</td>\n",
       "      <td>32</td>\n",
       "      <td>NV</td>\n",
       "      <td>Nevada</td>\n",
       "      <td>36.1</td>\n",
       "      <td>24.2</td>\n",
       "      <td>OVR</td>\n",
       "      <td>OVERALL</td>\n",
       "      <td>4</td>\n",
       "      <td>Nevada</td>\n",
       "      <td>3080156</td>\n",
       "      <td>32</td>\n",
       "      <td>NV</td>\n",
       "      <td>0.714250</td>\n",
       "    </tr>\n",
       "    <tr>\n",
       "      <th>33</th>\n",
       "      <td>5</td>\n",
       "      <td>50</td>\n",
       "      <td>VT</td>\n",
       "      <td>Vermont</td>\n",
       "      <td>32.1</td>\n",
       "      <td>17.8</td>\n",
       "      <td>OVR</td>\n",
       "      <td>OVERALL</td>\n",
       "      <td>20</td>\n",
       "      <td>Vermont</td>\n",
       "      <td>623989</td>\n",
       "      <td>50</td>\n",
       "      <td>VT</td>\n",
       "      <td>0.801296</td>\n",
       "    </tr>\n",
       "    <tr>\n",
       "      <th>34</th>\n",
       "      <td>76</td>\n",
       "      <td>34</td>\n",
       "      <td>NJ</td>\n",
       "      <td>New Jersey</td>\n",
       "      <td>37.4</td>\n",
       "      <td>24.1</td>\n",
       "      <td>OVR</td>\n",
       "      <td>OVERALL</td>\n",
       "      <td>6</td>\n",
       "      <td>New Jersey</td>\n",
       "      <td>8882190</td>\n",
       "      <td>34</td>\n",
       "      <td>NJ</td>\n",
       "      <td>0.855645</td>\n",
       "    </tr>\n",
       "    <tr>\n",
       "      <th>35</th>\n",
       "      <td>36</td>\n",
       "      <td>29</td>\n",
       "      <td>MO</td>\n",
       "      <td>Missouri</td>\n",
       "      <td>32.0</td>\n",
       "      <td>25.3</td>\n",
       "      <td>OVR</td>\n",
       "      <td>OVERALL</td>\n",
       "      <td>1</td>\n",
       "      <td>Missouri</td>\n",
       "      <td>6137428</td>\n",
       "      <td>29</td>\n",
       "      <td>MO</td>\n",
       "      <td>0.586565</td>\n",
       "    </tr>\n",
       "    <tr>\n",
       "      <th>36</th>\n",
       "      <td>191</td>\n",
       "      <td>06</td>\n",
       "      <td>CA</td>\n",
       "      <td>California</td>\n",
       "      <td>36.4</td>\n",
       "      <td>20.1</td>\n",
       "      <td>OVR</td>\n",
       "      <td>OVERALL</td>\n",
       "      <td>32</td>\n",
       "      <td>California</td>\n",
       "      <td>39512223</td>\n",
       "      <td>06</td>\n",
       "      <td>CA</td>\n",
       "      <td>0.483395</td>\n",
       "    </tr>\n",
       "    <tr>\n",
       "      <th>37</th>\n",
       "      <td>36</td>\n",
       "      <td>21</td>\n",
       "      <td>KY</td>\n",
       "      <td>Kentucky</td>\n",
       "      <td>31.9</td>\n",
       "      <td>30.5</td>\n",
       "      <td>OVR</td>\n",
       "      <td>OVERALL</td>\n",
       "      <td>45</td>\n",
       "      <td>Kentucky</td>\n",
       "      <td>4467673</td>\n",
       "      <td>21</td>\n",
       "      <td>KY</td>\n",
       "      <td>0.805789</td>\n",
       "    </tr>\n",
       "    <tr>\n",
       "      <th>38</th>\n",
       "      <td>7</td>\n",
       "      <td>16</td>\n",
       "      <td>ID</td>\n",
       "      <td>Idaho</td>\n",
       "      <td>35.9</td>\n",
       "      <td>20.5</td>\n",
       "      <td>OVR</td>\n",
       "      <td>OVERALL</td>\n",
       "      <td>39</td>\n",
       "      <td>Idaho</td>\n",
       "      <td>1787065</td>\n",
       "      <td>16</td>\n",
       "      <td>ID</td>\n",
       "      <td>0.391704</td>\n",
       "    </tr>\n",
       "    <tr>\n",
       "      <th>39</th>\n",
       "      <td>20</td>\n",
       "      <td>19</td>\n",
       "      <td>IA</td>\n",
       "      <td>Iowa</td>\n",
       "      <td>34.3</td>\n",
       "      <td>24.7</td>\n",
       "      <td>OVR</td>\n",
       "      <td>OVERALL</td>\n",
       "      <td>43</td>\n",
       "      <td>Iowa</td>\n",
       "      <td>3155070</td>\n",
       "      <td>19</td>\n",
       "      <td>IA</td>\n",
       "      <td>0.633900</td>\n",
       "    </tr>\n",
       "    <tr>\n",
       "      <th>40</th>\n",
       "      <td>37</td>\n",
       "      <td>09</td>\n",
       "      <td>CT</td>\n",
       "      <td>Connecticut</td>\n",
       "      <td>35.3</td>\n",
       "      <td>22.9</td>\n",
       "      <td>OVR</td>\n",
       "      <td>OVERALL</td>\n",
       "      <td>36</td>\n",
       "      <td>Connecticut</td>\n",
       "      <td>3565287</td>\n",
       "      <td>09</td>\n",
       "      <td>CT</td>\n",
       "      <td>1.037785</td>\n",
       "    </tr>\n",
       "    <tr>\n",
       "      <th>41</th>\n",
       "      <td>6</td>\n",
       "      <td>02</td>\n",
       "      <td>AK</td>\n",
       "      <td>Alaska</td>\n",
       "      <td>34.1</td>\n",
       "      <td>20.3</td>\n",
       "      <td>OVR</td>\n",
       "      <td>OVERALL</td>\n",
       "      <td>29</td>\n",
       "      <td>Alaska</td>\n",
       "      <td>731545</td>\n",
       "      <td>02</td>\n",
       "      <td>AK</td>\n",
       "      <td>0.820182</td>\n",
       "    </tr>\n",
       "    <tr>\n",
       "      <th>42</th>\n",
       "      <td>40</td>\n",
       "      <td>55</td>\n",
       "      <td>WI</td>\n",
       "      <td>Wisconsin</td>\n",
       "      <td>34.6</td>\n",
       "      <td>20.3</td>\n",
       "      <td>OVR</td>\n",
       "      <td>OVERALL</td>\n",
       "      <td>25</td>\n",
       "      <td>Wisconsin</td>\n",
       "      <td>5822434</td>\n",
       "      <td>55</td>\n",
       "      <td>WI</td>\n",
       "      <td>0.686998</td>\n",
       "    </tr>\n",
       "    <tr>\n",
       "      <th>43</th>\n",
       "      <td>130</td>\n",
       "      <td>42</td>\n",
       "      <td>PA</td>\n",
       "      <td>Pennsylvania</td>\n",
       "      <td>33.0</td>\n",
       "      <td>24.3</td>\n",
       "      <td>OVR</td>\n",
       "      <td>OVERALL</td>\n",
       "      <td>14</td>\n",
       "      <td>Pennsylvania</td>\n",
       "      <td>12801989</td>\n",
       "      <td>42</td>\n",
       "      <td>PA</td>\n",
       "      <td>1.015467</td>\n",
       "    </tr>\n",
       "    <tr>\n",
       "      <th>44</th>\n",
       "      <td>23</td>\n",
       "      <td>28</td>\n",
       "      <td>MS</td>\n",
       "      <td>Mississippi</td>\n",
       "      <td>33.6</td>\n",
       "      <td>30.9</td>\n",
       "      <td>OVR</td>\n",
       "      <td>OVERALL</td>\n",
       "      <td>0</td>\n",
       "      <td>Mississippi</td>\n",
       "      <td>2976149</td>\n",
       "      <td>28</td>\n",
       "      <td>MS</td>\n",
       "      <td>0.772811</td>\n",
       "    </tr>\n",
       "    <tr>\n",
       "      <th>45</th>\n",
       "      <td>85</td>\n",
       "      <td>13</td>\n",
       "      <td>GA</td>\n",
       "      <td>Georgia</td>\n",
       "      <td>34.1</td>\n",
       "      <td>23.7</td>\n",
       "      <td>OVR</td>\n",
       "      <td>OVERALL</td>\n",
       "      <td>38</td>\n",
       "      <td>Georgia</td>\n",
       "      <td>10617423</td>\n",
       "      <td>13</td>\n",
       "      <td>GA</td>\n",
       "      <td>0.800571</td>\n",
       "    </tr>\n",
       "    <tr>\n",
       "      <th>46</th>\n",
       "      <td>34</td>\n",
       "      <td>08</td>\n",
       "      <td>CO</td>\n",
       "      <td>Colorado</td>\n",
       "      <td>35.5</td>\n",
       "      <td>16.7</td>\n",
       "      <td>OVR</td>\n",
       "      <td>OVERALL</td>\n",
       "      <td>33</td>\n",
       "      <td>Colorado</td>\n",
       "      <td>5758736</td>\n",
       "      <td>08</td>\n",
       "      <td>CO</td>\n",
       "      <td>0.590407</td>\n",
       "    </tr>\n",
       "    <tr>\n",
       "      <th>47</th>\n",
       "      <td>29</td>\n",
       "      <td>27</td>\n",
       "      <td>MN</td>\n",
       "      <td>Minnesota</td>\n",
       "      <td>34.8</td>\n",
       "      <td>20.2</td>\n",
       "      <td>OVR</td>\n",
       "      <td>OVERALL</td>\n",
       "      <td>51</td>\n",
       "      <td>Minnesota</td>\n",
       "      <td>5639632</td>\n",
       "      <td>27</td>\n",
       "      <td>MN</td>\n",
       "      <td>0.514218</td>\n",
       "    </tr>\n",
       "    <tr>\n",
       "      <th>48</th>\n",
       "      <td>48</td>\n",
       "      <td>24</td>\n",
       "      <td>MD</td>\n",
       "      <td>Maryland</td>\n",
       "      <td>33.9</td>\n",
       "      <td>21.7</td>\n",
       "      <td>OVR</td>\n",
       "      <td>OVERALL</td>\n",
       "      <td>48</td>\n",
       "      <td>Maryland</td>\n",
       "      <td>6045680</td>\n",
       "      <td>24</td>\n",
       "      <td>MD</td>\n",
       "      <td>0.793955</td>\n",
       "    </tr>\n",
       "    <tr>\n",
       "      <th>49</th>\n",
       "      <td>17</td>\n",
       "      <td>44</td>\n",
       "      <td>RI</td>\n",
       "      <td>Rhode Island</td>\n",
       "      <td>36.2</td>\n",
       "      <td>24.2</td>\n",
       "      <td>OVR</td>\n",
       "      <td>OVERALL</td>\n",
       "      <td>15</td>\n",
       "      <td>Rhode Island</td>\n",
       "      <td>1059361</td>\n",
       "      <td>44</td>\n",
       "      <td>RI</td>\n",
       "      <td>1.604741</td>\n",
       "    </tr>\n",
       "    <tr>\n",
       "      <th>50</th>\n",
       "      <td>43</td>\n",
       "      <td>53</td>\n",
       "      <td>WA</td>\n",
       "      <td>Washington</td>\n",
       "      <td>35.4</td>\n",
       "      <td>17.8</td>\n",
       "      <td>OVR</td>\n",
       "      <td>OVERALL</td>\n",
       "      <td>23</td>\n",
       "      <td>Washington</td>\n",
       "      <td>7614893</td>\n",
       "      <td>53</td>\n",
       "      <td>WA</td>\n",
       "      <td>0.564683</td>\n",
       "    </tr>\n",
       "    <tr>\n",
       "      <th>51</th>\n",
       "      <td>21</td>\n",
       "      <td>05</td>\n",
       "      <td>AR</td>\n",
       "      <td>Arkansas</td>\n",
       "      <td>31.7</td>\n",
       "      <td>30.6</td>\n",
       "      <td>OVR</td>\n",
       "      <td>OVERALL</td>\n",
       "      <td>31</td>\n",
       "      <td>Arkansas</td>\n",
       "      <td>3017804</td>\n",
       "      <td>05</td>\n",
       "      <td>AR</td>\n",
       "      <td>0.695870</td>\n",
       "    </tr>\n",
       "  </tbody>\n",
       "</table>\n",
       "</div>"
      ],
      "text/plain": [
       "    n_gyms State_ID_fk abbr          locationdesc  obesity_data  leisure_data  \\\n",
       "0       20          33   NH         New Hampshire          35.4          20.0   \n",
       "1        3          46   SD          South Dakota          33.7          23.2   \n",
       "2        4          56   WY               Wyoming          37.0          22.9   \n",
       "3      137          36   NY              New York          34.5          25.8   \n",
       "4       24          41   OR                Oregon          34.7          19.9   \n",
       "5       38          01   AL               Alabama          31.9          31.5   \n",
       "6        3          11   DC  District of Columbia          30.7          15.8   \n",
       "7        4          38   ND          North Dakota          34.8          25.5   \n",
       "8      156          12   FL               Florida           NaN           NaN   \n",
       "9      173          48   TX                 Texas          33.7          25.1   \n",
       "10      82          25   MA         Massachusetts          33.9          21.1   \n",
       "11      23          40   OK              Oklahoma          32.5          28.3   \n",
       "12       5          15   HI                Hawaii          35.3          20.0   \n",
       "13      20          35   NM            New Mexico          35.4          23.0   \n",
       "14      43          45   SC        South Carolina          34.5          25.0   \n",
       "15       5          30   MT               Montana          35.0          21.2   \n",
       "16      94          17   IL              Illinois          34.5          27.2   \n",
       "17      55          04   AZ               Arizona          36.6          22.7   \n",
       "18      14          49   UT                  Utah          33.3          17.3   \n",
       "19      61          18   IN               Indiana          33.3          25.9   \n",
       "20      89          26   MI              Michigan          34.2          23.1   \n",
       "21      85          37   NC        North Carolina          32.6          22.3   \n",
       "22      34          22   LA             Louisiana          32.4          29.4   \n",
       "23      15          31   NE              Nebraska          35.0          24.2   \n",
       "24     107          39   OH                  Ohio          33.3          25.9   \n",
       "25      17          20   KS                Kansas          34.4          23.6   \n",
       "26      11          54   WV         West Virginia          33.0          30.5   \n",
       "27      12          23   ME                 Maine          34.0          26.5   \n",
       "28      10          10   DE              Delaware          34.9          27.2   \n",
       "29      53          47   TN             Tennessee          36.6          28.7   \n",
       "30      15          72   PR           Puerto Rico          36.4          46.1   \n",
       "31      56          51   VA              Virginia          33.9          20.9   \n",
       "32      22          32   NV                Nevada          36.1          24.2   \n",
       "33       5          50   VT               Vermont          32.1          17.8   \n",
       "34      76          34   NJ            New Jersey          37.4          24.1   \n",
       "35      36          29   MO              Missouri          32.0          25.3   \n",
       "36     191          06   CA            California          36.4          20.1   \n",
       "37      36          21   KY              Kentucky          31.9          30.5   \n",
       "38       7          16   ID                 Idaho          35.9          20.5   \n",
       "39      20          19   IA                  Iowa          34.3          24.7   \n",
       "40      37          09   CT           Connecticut          35.3          22.9   \n",
       "41       6          02   AK                Alaska          34.1          20.3   \n",
       "42      40          55   WI             Wisconsin          34.6          20.3   \n",
       "43     130          42   PA          Pennsylvania          33.0          24.3   \n",
       "44      23          28   MS           Mississippi          33.6          30.9   \n",
       "45      85          13   GA               Georgia          34.1          23.7   \n",
       "46      34          08   CO              Colorado          35.5          16.7   \n",
       "47      29          27   MN             Minnesota          34.8          20.2   \n",
       "48      48          24   MD              Maryland          33.9          21.7   \n",
       "49      17          44   RI          Rhode Island          36.2          24.2   \n",
       "50      43          53   WA            Washington          35.4          17.8   \n",
       "51      21          05   AR              Arkansas          31.7          30.6   \n",
       "\n",
       "   stratificationcategoryid1 stratificationid1  index                  Name  \\\n",
       "0                        OVR           OVERALL      5         New Hampshire   \n",
       "1                        OVR           OVERALL     17          South Dakota   \n",
       "2                        OVR           OVERALL     26               Wyoming   \n",
       "3                        OVR           OVERALL      8              New York   \n",
       "4                        OVR           OVERALL     13                Oregon   \n",
       "5                        OVR           OVERALL     28               Alabama   \n",
       "6                        OVR           OVERALL     35  District of Columbia   \n",
       "7                        OVR           OVERALL     10          North Dakota   \n",
       "8                        OVR           OVERALL     37               Florida   \n",
       "9                        OVR           OVERALL     19                 Texas   \n",
       "10                       OVR           OVERALL     49         Massachusetts   \n",
       "11                       OVR           OVERALL     12              Oklahoma   \n",
       "12                       OVR           OVERALL     40                Hawaii   \n",
       "13                       OVR           OVERALL      7            New Mexico   \n",
       "14                       OVR           OVERALL     16        South Carolina   \n",
       "15                       OVR           OVERALL      2               Montana   \n",
       "16                       OVR           OVERALL     41              Illinois   \n",
       "17                       OVR           OVERALL     30               Arizona   \n",
       "18                       OVR           OVERALL     21                  Utah   \n",
       "19                       OVR           OVERALL     42               Indiana   \n",
       "20                       OVR           OVERALL     50              Michigan   \n",
       "21                       OVR           OVERALL      9        North Carolina   \n",
       "22                       OVR           OVERALL     46             Louisiana   \n",
       "23                       OVR           OVERALL      3              Nebraska   \n",
       "24                       OVR           OVERALL     11                  Ohio   \n",
       "25                       OVR           OVERALL     44                Kansas   \n",
       "26                       OVR           OVERALL     24         West Virginia   \n",
       "27                       OVR           OVERALL     47                 Maine   \n",
       "28                       OVR           OVERALL     34              Delaware   \n",
       "29                       OVR           OVERALL     18             Tennessee   \n",
       "30                       OVR           OVERALL     27           Puerto Rico   \n",
       "31                       OVR           OVERALL     22              Virginia   \n",
       "32                       OVR           OVERALL      4                Nevada   \n",
       "33                       OVR           OVERALL     20               Vermont   \n",
       "34                       OVR           OVERALL      6            New Jersey   \n",
       "35                       OVR           OVERALL      1              Missouri   \n",
       "36                       OVR           OVERALL     32            California   \n",
       "37                       OVR           OVERALL     45              Kentucky   \n",
       "38                       OVR           OVERALL     39                 Idaho   \n",
       "39                       OVR           OVERALL     43                  Iowa   \n",
       "40                       OVR           OVERALL     36           Connecticut   \n",
       "41                       OVR           OVERALL     29                Alaska   \n",
       "42                       OVR           OVERALL     25             Wisconsin   \n",
       "43                       OVR           OVERALL     14          Pennsylvania   \n",
       "44                       OVR           OVERALL      0           Mississippi   \n",
       "45                       OVR           OVERALL     38               Georgia   \n",
       "46                       OVR           OVERALL     33              Colorado   \n",
       "47                       OVR           OVERALL     51             Minnesota   \n",
       "48                       OVR           OVERALL     48              Maryland   \n",
       "49                       OVR           OVERALL     15          Rhode Island   \n",
       "50                       OVR           OVERALL     23            Washington   \n",
       "51                       OVR           OVERALL     31              Arkansas   \n",
       "\n",
       "         Pop State_ID_fk abbr  gyms_per_100k  \n",
       "0    1359711          33   NH       1.470901  \n",
       "1     884659          46   SD       0.339114  \n",
       "2     578759          56   WY       0.691134  \n",
       "3   19453561          36   NY       0.704241  \n",
       "4    4217737          41   OR       0.569026  \n",
       "5    4903185          01   AL       0.775006  \n",
       "6     705749          11   DC       0.425080  \n",
       "7     762062          38   ND       0.524892  \n",
       "8   21477737          12   FL       0.726334  \n",
       "9   28995881          48   TX       0.596636  \n",
       "10   6892503          25   MA       1.189698  \n",
       "11   3956971          40   OK       0.581253  \n",
       "12   1415872          15   HI       0.353139  \n",
       "13   2096829          35   NM       0.953821  \n",
       "14   5148714          45   SC       0.835160  \n",
       "15   1068778          30   MT       0.467824  \n",
       "16  12671821          17   IL       0.741803  \n",
       "17   7278717          04   AZ       0.755628  \n",
       "18   3205958          49   UT       0.436687  \n",
       "19   6732219          18   IN       0.906091  \n",
       "20   9986857          26   MI       0.891171  \n",
       "21  10488084          37   NC       0.810444  \n",
       "22   4648794          22   LA       0.731372  \n",
       "23   1934408          31   NE       0.775431  \n",
       "24  11689100          39   OH       0.915383  \n",
       "25   2913314          20   KS       0.583528  \n",
       "26   1792147          54   WV       0.613789  \n",
       "27   1344212          23   ME       0.892716  \n",
       "28    973764          10   DE       1.026943  \n",
       "29   6829174          47   TN       0.776082  \n",
       "30   3193694          72   PR       0.469676  \n",
       "31   8535519          51   VA       0.656082  \n",
       "32   3080156          32   NV       0.714250  \n",
       "33    623989          50   VT       0.801296  \n",
       "34   8882190          34   NJ       0.855645  \n",
       "35   6137428          29   MO       0.586565  \n",
       "36  39512223          06   CA       0.483395  \n",
       "37   4467673          21   KY       0.805789  \n",
       "38   1787065          16   ID       0.391704  \n",
       "39   3155070          19   IA       0.633900  \n",
       "40   3565287          09   CT       1.037785  \n",
       "41    731545          02   AK       0.820182  \n",
       "42   5822434          55   WI       0.686998  \n",
       "43  12801989          42   PA       1.015467  \n",
       "44   2976149          28   MS       0.772811  \n",
       "45  10617423          13   GA       0.800571  \n",
       "46   5758736          08   CO       0.590407  \n",
       "47   5639632          27   MN       0.514218  \n",
       "48   6045680          24   MD       0.793955  \n",
       "49   1059361          44   RI       1.604741  \n",
       "50   7614893          53   WA       0.564683  \n",
       "51   3017804          05   AR       0.695870  "
      ]
     },
     "execution_count": 83,
     "metadata": {},
     "output_type": "execute_result"
    }
   ],
   "source": [
    "df"
   ]
  },
  {
   "cell_type": "code",
   "execution_count": 88,
   "id": "1963dd73-a0dc-4449-8f49-dc4fa8a56800",
   "metadata": {},
   "outputs": [
    {
     "data": {
      "application/vnd.plotly.v1+json": {
       "config": {
        "plotlyServerURL": "https://plot.ly"
       },
       "data": [
        {
         "hovertemplate": "obesity_data=%{x}<br>gyms_per_100k=%{y}<extra></extra>",
         "legendgroup": "",
         "marker": {
          "color": "#636efa",
          "symbol": "circle"
         },
         "mode": "markers",
         "name": "",
         "orientation": "v",
         "showlegend": false,
         "type": "scatter",
         "x": [
          35.4,
          33.7,
          37,
          34.5,
          34.7,
          31.9,
          30.7,
          34.8,
          null,
          33.7,
          33.9,
          32.5,
          35.3,
          35.4,
          34.5,
          35,
          34.5,
          36.6,
          33.3,
          33.3,
          34.2,
          32.6,
          32.4,
          35,
          33.3,
          34.4,
          33,
          34,
          34.9,
          36.6,
          36.4,
          33.9,
          36.1,
          32.1,
          37.4,
          32,
          36.4,
          31.9,
          35.9,
          34.3,
          35.3,
          34.1,
          34.6,
          33,
          33.6,
          34.1,
          35.5,
          34.8,
          33.9,
          36.2,
          35.4,
          31.7
         ],
         "xaxis": "x",
         "y": [
          1.470900801714482,
          0.3391137150020516,
          0.6911339607677808,
          0.7042412440580931,
          0.5690255224543398,
          0.7750064498892046,
          0.42508030475423986,
          0.5248916754804728,
          0.7263335052477828,
          0.596636467089929,
          1.1896984303089893,
          0.5812526803961919,
          0.35313926682637975,
          0.9538212224268169,
          0.8351600030609586,
          0.46782400086828135,
          0.7418034077343738,
          0.7556276744926338,
          0.43668694349707643,
          0.9060905475594302,
          0.8911712663954234,
          0.8104435471722004,
          0.7313724806906909,
          0.7754310362653586,
          0.915382706966319,
          0.5835278998418982,
          0.6137889358406425,
          0.8927163274840576,
          1.0269428732218484,
          0.7760821440484603,
          0.46967555438936853,
          0.6560819558834091,
          0.7142495380104125,
          0.8012961766954225,
          0.8556448353390324,
          0.586564925894039,
          0.48339472066656436,
          0.8057886062834053,
          0.3917037153097397,
          0.6339003572028513,
          1.0377846159369497,
          0.8201819436945096,
          0.6869979118698469,
          1.0154672059162055,
          0.7728107698908893,
          0.8005709106625968,
          0.5904073393883658,
          0.514217948972557,
          0.7939553532439693,
          1.604740971208115,
          0.5646829180659532,
          0.6958702420700615
         ],
         "yaxis": "y"
        },
        {
         "hovertemplate": "<b>OLS trendline</b><br>gyms_per_100k = 0.0155359 * obesity_data + 0.204841<br>R<sup>2</sup>=0.008940<br><br>obesity_data=%{x}<br>gyms_per_100k=%{y} <b>(trend)</b><extra></extra>",
         "legendgroup": "",
         "marker": {
          "color": "#636efa",
          "symbol": "circle"
         },
         "mode": "lines",
         "name": "",
         "showlegend": false,
         "type": "scatter",
         "x": [
          30.7,
          31.7,
          31.9,
          31.9,
          32,
          32.1,
          32.4,
          32.5,
          32.6,
          33,
          33,
          33.3,
          33.3,
          33.3,
          33.6,
          33.7,
          33.7,
          33.9,
          33.9,
          33.9,
          34,
          34.1,
          34.1,
          34.2,
          34.3,
          34.4,
          34.5,
          34.5,
          34.5,
          34.6,
          34.7,
          34.8,
          34.8,
          34.9,
          35,
          35,
          35.3,
          35.3,
          35.4,
          35.4,
          35.4,
          35.5,
          35.9,
          36.1,
          36.2,
          36.4,
          36.4,
          36.6,
          36.6,
          37,
          37.4
         ],
         "xaxis": "x",
         "y": [
          0.6817918426051588,
          0.6973277017358097,
          0.7004348735619399,
          0.7004348735619399,
          0.701988459475005,
          0.7035420453880701,
          0.7082028031272654,
          0.7097563890403304,
          0.7113099749533955,
          0.7175243186056559,
          0.7175243186056559,
          0.7221850763448511,
          0.7221850763448511,
          0.7221850763448511,
          0.7268458340840465,
          0.7283994199971116,
          0.7283994199971116,
          0.7315065918232416,
          0.7315065918232416,
          0.7315065918232416,
          0.7330601777363067,
          0.7346137636493719,
          0.7346137636493719,
          0.736167349562437,
          0.737720935475502,
          0.7392745213885671,
          0.7408281073016322,
          0.7408281073016322,
          0.7408281073016322,
          0.7423816932146973,
          0.7439352791277625,
          0.7454888650408275,
          0.7454888650408275,
          0.7470424509538925,
          0.7485960368669576,
          0.7485960368669576,
          0.7532567946061529,
          0.7532567946061529,
          0.754810380519218,
          0.754810380519218,
          0.754810380519218,
          0.7563639664322831,
          0.7625783100845435,
          0.7656854819106736,
          0.7672390678237387,
          0.7703462396498688,
          0.7703462396498688,
          0.7734534114759991,
          0.7734534114759991,
          0.7796677551282594,
          0.7858820987805197
         ],
         "yaxis": "y"
        }
       ],
       "layout": {
        "autosize": true,
        "legend": {
         "tracegroupgap": 0
        },
        "margin": {
         "t": 60
        },
        "template": {
         "data": {
          "bar": [
           {
            "error_x": {
             "color": "#2a3f5f"
            },
            "error_y": {
             "color": "#2a3f5f"
            },
            "marker": {
             "line": {
              "color": "#E5ECF6",
              "width": 0.5
             },
             "pattern": {
              "fillmode": "overlay",
              "size": 10,
              "solidity": 0.2
             }
            },
            "type": "bar"
           }
          ],
          "barpolar": [
           {
            "marker": {
             "line": {
              "color": "#E5ECF6",
              "width": 0.5
             },
             "pattern": {
              "fillmode": "overlay",
              "size": 10,
              "solidity": 0.2
             }
            },
            "type": "barpolar"
           }
          ],
          "carpet": [
           {
            "aaxis": {
             "endlinecolor": "#2a3f5f",
             "gridcolor": "white",
             "linecolor": "white",
             "minorgridcolor": "white",
             "startlinecolor": "#2a3f5f"
            },
            "baxis": {
             "endlinecolor": "#2a3f5f",
             "gridcolor": "white",
             "linecolor": "white",
             "minorgridcolor": "white",
             "startlinecolor": "#2a3f5f"
            },
            "type": "carpet"
           }
          ],
          "choropleth": [
           {
            "colorbar": {
             "outlinewidth": 0,
             "ticks": ""
            },
            "type": "choropleth"
           }
          ],
          "contour": [
           {
            "colorbar": {
             "outlinewidth": 0,
             "ticks": ""
            },
            "colorscale": [
             [
              0,
              "#0d0887"
             ],
             [
              0.1111111111111111,
              "#46039f"
             ],
             [
              0.2222222222222222,
              "#7201a8"
             ],
             [
              0.3333333333333333,
              "#9c179e"
             ],
             [
              0.4444444444444444,
              "#bd3786"
             ],
             [
              0.5555555555555556,
              "#d8576b"
             ],
             [
              0.6666666666666666,
              "#ed7953"
             ],
             [
              0.7777777777777778,
              "#fb9f3a"
             ],
             [
              0.8888888888888888,
              "#fdca26"
             ],
             [
              1,
              "#f0f921"
             ]
            ],
            "type": "contour"
           }
          ],
          "contourcarpet": [
           {
            "colorbar": {
             "outlinewidth": 0,
             "ticks": ""
            },
            "type": "contourcarpet"
           }
          ],
          "heatmap": [
           {
            "colorbar": {
             "outlinewidth": 0,
             "ticks": ""
            },
            "colorscale": [
             [
              0,
              "#0d0887"
             ],
             [
              0.1111111111111111,
              "#46039f"
             ],
             [
              0.2222222222222222,
              "#7201a8"
             ],
             [
              0.3333333333333333,
              "#9c179e"
             ],
             [
              0.4444444444444444,
              "#bd3786"
             ],
             [
              0.5555555555555556,
              "#d8576b"
             ],
             [
              0.6666666666666666,
              "#ed7953"
             ],
             [
              0.7777777777777778,
              "#fb9f3a"
             ],
             [
              0.8888888888888888,
              "#fdca26"
             ],
             [
              1,
              "#f0f921"
             ]
            ],
            "type": "heatmap"
           }
          ],
          "heatmapgl": [
           {
            "colorbar": {
             "outlinewidth": 0,
             "ticks": ""
            },
            "colorscale": [
             [
              0,
              "#0d0887"
             ],
             [
              0.1111111111111111,
              "#46039f"
             ],
             [
              0.2222222222222222,
              "#7201a8"
             ],
             [
              0.3333333333333333,
              "#9c179e"
             ],
             [
              0.4444444444444444,
              "#bd3786"
             ],
             [
              0.5555555555555556,
              "#d8576b"
             ],
             [
              0.6666666666666666,
              "#ed7953"
             ],
             [
              0.7777777777777778,
              "#fb9f3a"
             ],
             [
              0.8888888888888888,
              "#fdca26"
             ],
             [
              1,
              "#f0f921"
             ]
            ],
            "type": "heatmapgl"
           }
          ],
          "histogram": [
           {
            "marker": {
             "pattern": {
              "fillmode": "overlay",
              "size": 10,
              "solidity": 0.2
             }
            },
            "type": "histogram"
           }
          ],
          "histogram2d": [
           {
            "colorbar": {
             "outlinewidth": 0,
             "ticks": ""
            },
            "colorscale": [
             [
              0,
              "#0d0887"
             ],
             [
              0.1111111111111111,
              "#46039f"
             ],
             [
              0.2222222222222222,
              "#7201a8"
             ],
             [
              0.3333333333333333,
              "#9c179e"
             ],
             [
              0.4444444444444444,
              "#bd3786"
             ],
             [
              0.5555555555555556,
              "#d8576b"
             ],
             [
              0.6666666666666666,
              "#ed7953"
             ],
             [
              0.7777777777777778,
              "#fb9f3a"
             ],
             [
              0.8888888888888888,
              "#fdca26"
             ],
             [
              1,
              "#f0f921"
             ]
            ],
            "type": "histogram2d"
           }
          ],
          "histogram2dcontour": [
           {
            "colorbar": {
             "outlinewidth": 0,
             "ticks": ""
            },
            "colorscale": [
             [
              0,
              "#0d0887"
             ],
             [
              0.1111111111111111,
              "#46039f"
             ],
             [
              0.2222222222222222,
              "#7201a8"
             ],
             [
              0.3333333333333333,
              "#9c179e"
             ],
             [
              0.4444444444444444,
              "#bd3786"
             ],
             [
              0.5555555555555556,
              "#d8576b"
             ],
             [
              0.6666666666666666,
              "#ed7953"
             ],
             [
              0.7777777777777778,
              "#fb9f3a"
             ],
             [
              0.8888888888888888,
              "#fdca26"
             ],
             [
              1,
              "#f0f921"
             ]
            ],
            "type": "histogram2dcontour"
           }
          ],
          "mesh3d": [
           {
            "colorbar": {
             "outlinewidth": 0,
             "ticks": ""
            },
            "type": "mesh3d"
           }
          ],
          "parcoords": [
           {
            "line": {
             "colorbar": {
              "outlinewidth": 0,
              "ticks": ""
             }
            },
            "type": "parcoords"
           }
          ],
          "pie": [
           {
            "automargin": true,
            "type": "pie"
           }
          ],
          "scatter": [
           {
            "marker": {
             "colorbar": {
              "outlinewidth": 0,
              "ticks": ""
             }
            },
            "type": "scatter"
           }
          ],
          "scatter3d": [
           {
            "line": {
             "colorbar": {
              "outlinewidth": 0,
              "ticks": ""
             }
            },
            "marker": {
             "colorbar": {
              "outlinewidth": 0,
              "ticks": ""
             }
            },
            "type": "scatter3d"
           }
          ],
          "scattercarpet": [
           {
            "marker": {
             "colorbar": {
              "outlinewidth": 0,
              "ticks": ""
             }
            },
            "type": "scattercarpet"
           }
          ],
          "scattergeo": [
           {
            "marker": {
             "colorbar": {
              "outlinewidth": 0,
              "ticks": ""
             }
            },
            "type": "scattergeo"
           }
          ],
          "scattergl": [
           {
            "marker": {
             "colorbar": {
              "outlinewidth": 0,
              "ticks": ""
             }
            },
            "type": "scattergl"
           }
          ],
          "scattermapbox": [
           {
            "marker": {
             "colorbar": {
              "outlinewidth": 0,
              "ticks": ""
             }
            },
            "type": "scattermapbox"
           }
          ],
          "scatterpolar": [
           {
            "marker": {
             "colorbar": {
              "outlinewidth": 0,
              "ticks": ""
             }
            },
            "type": "scatterpolar"
           }
          ],
          "scatterpolargl": [
           {
            "marker": {
             "colorbar": {
              "outlinewidth": 0,
              "ticks": ""
             }
            },
            "type": "scatterpolargl"
           }
          ],
          "scatterternary": [
           {
            "marker": {
             "colorbar": {
              "outlinewidth": 0,
              "ticks": ""
             }
            },
            "type": "scatterternary"
           }
          ],
          "surface": [
           {
            "colorbar": {
             "outlinewidth": 0,
             "ticks": ""
            },
            "colorscale": [
             [
              0,
              "#0d0887"
             ],
             [
              0.1111111111111111,
              "#46039f"
             ],
             [
              0.2222222222222222,
              "#7201a8"
             ],
             [
              0.3333333333333333,
              "#9c179e"
             ],
             [
              0.4444444444444444,
              "#bd3786"
             ],
             [
              0.5555555555555556,
              "#d8576b"
             ],
             [
              0.6666666666666666,
              "#ed7953"
             ],
             [
              0.7777777777777778,
              "#fb9f3a"
             ],
             [
              0.8888888888888888,
              "#fdca26"
             ],
             [
              1,
              "#f0f921"
             ]
            ],
            "type": "surface"
           }
          ],
          "table": [
           {
            "cells": {
             "fill": {
              "color": "#EBF0F8"
             },
             "line": {
              "color": "white"
             }
            },
            "header": {
             "fill": {
              "color": "#C8D4E3"
             },
             "line": {
              "color": "white"
             }
            },
            "type": "table"
           }
          ]
         },
         "layout": {
          "annotationdefaults": {
           "arrowcolor": "#2a3f5f",
           "arrowhead": 0,
           "arrowwidth": 1
          },
          "autotypenumbers": "strict",
          "coloraxis": {
           "colorbar": {
            "outlinewidth": 0,
            "ticks": ""
           }
          },
          "colorscale": {
           "diverging": [
            [
             0,
             "#8e0152"
            ],
            [
             0.1,
             "#c51b7d"
            ],
            [
             0.2,
             "#de77ae"
            ],
            [
             0.3,
             "#f1b6da"
            ],
            [
             0.4,
             "#fde0ef"
            ],
            [
             0.5,
             "#f7f7f7"
            ],
            [
             0.6,
             "#e6f5d0"
            ],
            [
             0.7,
             "#b8e186"
            ],
            [
             0.8,
             "#7fbc41"
            ],
            [
             0.9,
             "#4d9221"
            ],
            [
             1,
             "#276419"
            ]
           ],
           "sequential": [
            [
             0,
             "#0d0887"
            ],
            [
             0.1111111111111111,
             "#46039f"
            ],
            [
             0.2222222222222222,
             "#7201a8"
            ],
            [
             0.3333333333333333,
             "#9c179e"
            ],
            [
             0.4444444444444444,
             "#bd3786"
            ],
            [
             0.5555555555555556,
             "#d8576b"
            ],
            [
             0.6666666666666666,
             "#ed7953"
            ],
            [
             0.7777777777777778,
             "#fb9f3a"
            ],
            [
             0.8888888888888888,
             "#fdca26"
            ],
            [
             1,
             "#f0f921"
            ]
           ],
           "sequentialminus": [
            [
             0,
             "#0d0887"
            ],
            [
             0.1111111111111111,
             "#46039f"
            ],
            [
             0.2222222222222222,
             "#7201a8"
            ],
            [
             0.3333333333333333,
             "#9c179e"
            ],
            [
             0.4444444444444444,
             "#bd3786"
            ],
            [
             0.5555555555555556,
             "#d8576b"
            ],
            [
             0.6666666666666666,
             "#ed7953"
            ],
            [
             0.7777777777777778,
             "#fb9f3a"
            ],
            [
             0.8888888888888888,
             "#fdca26"
            ],
            [
             1,
             "#f0f921"
            ]
           ]
          },
          "colorway": [
           "#636efa",
           "#EF553B",
           "#00cc96",
           "#ab63fa",
           "#FFA15A",
           "#19d3f3",
           "#FF6692",
           "#B6E880",
           "#FF97FF",
           "#FECB52"
          ],
          "font": {
           "color": "#2a3f5f"
          },
          "geo": {
           "bgcolor": "white",
           "lakecolor": "white",
           "landcolor": "#E5ECF6",
           "showlakes": true,
           "showland": true,
           "subunitcolor": "white"
          },
          "hoverlabel": {
           "align": "left"
          },
          "hovermode": "closest",
          "mapbox": {
           "style": "light"
          },
          "paper_bgcolor": "white",
          "plot_bgcolor": "#E5ECF6",
          "polar": {
           "angularaxis": {
            "gridcolor": "white",
            "linecolor": "white",
            "ticks": ""
           },
           "bgcolor": "#E5ECF6",
           "radialaxis": {
            "gridcolor": "white",
            "linecolor": "white",
            "ticks": ""
           }
          },
          "scene": {
           "xaxis": {
            "backgroundcolor": "#E5ECF6",
            "gridcolor": "white",
            "gridwidth": 2,
            "linecolor": "white",
            "showbackground": true,
            "ticks": "",
            "zerolinecolor": "white"
           },
           "yaxis": {
            "backgroundcolor": "#E5ECF6",
            "gridcolor": "white",
            "gridwidth": 2,
            "linecolor": "white",
            "showbackground": true,
            "ticks": "",
            "zerolinecolor": "white"
           },
           "zaxis": {
            "backgroundcolor": "#E5ECF6",
            "gridcolor": "white",
            "gridwidth": 2,
            "linecolor": "white",
            "showbackground": true,
            "ticks": "",
            "zerolinecolor": "white"
           }
          },
          "shapedefaults": {
           "line": {
            "color": "#2a3f5f"
           }
          },
          "ternary": {
           "aaxis": {
            "gridcolor": "white",
            "linecolor": "white",
            "ticks": ""
           },
           "baxis": {
            "gridcolor": "white",
            "linecolor": "white",
            "ticks": ""
           },
           "bgcolor": "#E5ECF6",
           "caxis": {
            "gridcolor": "white",
            "linecolor": "white",
            "ticks": ""
           }
          },
          "title": {
           "x": 0.05
          },
          "xaxis": {
           "automargin": true,
           "gridcolor": "white",
           "linecolor": "white",
           "ticks": "",
           "title": {
            "standoff": 15
           },
           "zerolinecolor": "white",
           "zerolinewidth": 2
          },
          "yaxis": {
           "automargin": true,
           "gridcolor": "white",
           "linecolor": "white",
           "ticks": "",
           "title": {
            "standoff": 15
           },
           "zerolinecolor": "white",
           "zerolinewidth": 2
          }
         }
        },
        "xaxis": {
         "anchor": "y",
         "autorange": true,
         "domain": [
          0,
          1
         ],
         "range": [
          30.295046312580606,
          37.80495368741939
         ],
         "title": {
          "text": "obesity_data"
         },
         "type": "linear"
        },
        "yaxis": {
         "anchor": "x",
         "autorange": true,
         "domain": [
          0,
          1
         ],
         "range": [
          0.241118953694758,
          1.7027357325154087
         ],
         "title": {
          "text": "gyms_per_100k"
         },
         "type": "linear"
        }
       }
      },
      "image/png": "[encoded data removed]",
      "text/html": [
       "<div>                            <div id=\"4a546fff-2a30-4c38-9169-71915d095db5\" class=\"plotly-graph-div\" style=\"height:525px; width:100%;\"></div>            <script type=\"text/javascript\">                require([\"plotly\"], function(Plotly) {                    window.PLOTLYENV=window.PLOTLYENV || {};                                    if (document.getElementById(\"4a546fff-2a30-4c38-9169-71915d095db5\")) {                    Plotly.newPlot(                        \"4a546fff-2a30-4c38-9169-71915d095db5\",                        [{\"hovertemplate\":\"obesity_data=%{x}<br>gyms_per_100k=%{y}<extra></extra>\",\"legendgroup\":\"\",\"marker\":{\"color\":\"#636efa\",\"symbol\":\"circle\"},\"mode\":\"markers\",\"name\":\"\",\"orientation\":\"v\",\"showlegend\":false,\"x\":[35.4,33.7,37.0,34.5,34.7,31.9,30.7,34.8,null,33.7,33.9,32.5,35.3,35.4,34.5,35.0,34.5,36.6,33.3,33.3,34.2,32.6,32.4,35.0,33.3,34.4,33.0,34.0,34.9,36.6,36.4,33.9,36.1,32.1,37.4,32.0,36.4,31.9,35.9,34.3,35.3,34.1,34.6,33.0,33.6,34.1,35.5,34.8,33.9,36.2,35.4,31.7],\"xaxis\":\"x\",\"y\":[1.470900801714482,0.3391137150020516,0.6911339607677808,0.7042412440580931,0.5690255224543398,0.7750064498892046,0.42508030475423986,0.5248916754804728,0.7263335052477828,0.596636467089929,1.1896984303089893,0.5812526803961919,0.35313926682637975,0.9538212224268169,0.8351600030609586,0.46782400086828135,0.7418034077343738,0.7556276744926338,0.43668694349707643,0.9060905475594302,0.8911712663954234,0.8104435471722004,0.7313724806906909,0.7754310362653586,0.915382706966319,0.5835278998418982,0.6137889358406425,0.8927163274840576,1.0269428732218484,0.7760821440484603,0.46967555438936853,0.6560819558834091,0.7142495380104125,0.8012961766954225,0.8556448353390324,0.586564925894039,0.48339472066656436,0.8057886062834053,0.3917037153097397,0.6339003572028513,1.0377846159369497,0.8201819436945096,0.6869979118698469,1.0154672059162055,0.7728107698908893,0.8005709106625968,0.5904073393883658,0.514217948972557,0.7939553532439693,1.604740971208115,0.5646829180659532,0.6958702420700615],\"yaxis\":\"y\",\"type\":\"scatter\"},{\"hovertemplate\":\"<b>OLS trendline</b><br>gyms_per_100k = 0.0155359 * obesity_data + 0.204841<br>R<sup>2</sup>=0.008940<br><br>obesity_data=%{x}<br>gyms_per_100k=%{y} <b>(trend)</b><extra></extra>\",\"legendgroup\":\"\",\"marker\":{\"color\":\"#636efa\",\"symbol\":\"circle\"},\"mode\":\"lines\",\"name\":\"\",\"showlegend\":false,\"x\":[30.7,31.7,31.9,31.9,32.0,32.1,32.4,32.5,32.6,33.0,33.0,33.3,33.3,33.3,33.6,33.7,33.7,33.9,33.9,33.9,34.0,34.1,34.1,34.2,34.3,34.4,34.5,34.5,34.5,34.6,34.7,34.8,34.8,34.9,35.0,35.0,35.3,35.3,35.4,35.4,35.4,35.5,35.9,36.1,36.2,36.4,36.4,36.6,36.6,37.0,37.4],\"xaxis\":\"x\",\"y\":[0.6817918426051588,0.6973277017358097,0.7004348735619399,0.7004348735619399,0.701988459475005,0.7035420453880701,0.7082028031272654,0.7097563890403304,0.7113099749533955,0.7175243186056559,0.7175243186056559,0.7221850763448511,0.7221850763448511,0.7221850763448511,0.7268458340840465,0.7283994199971116,0.7283994199971116,0.7315065918232416,0.7315065918232416,0.7315065918232416,0.7330601777363067,0.7346137636493719,0.7346137636493719,0.736167349562437,0.737720935475502,0.7392745213885671,0.7408281073016322,0.7408281073016322,0.7408281073016322,0.7423816932146973,0.7439352791277625,0.7454888650408275,0.7454888650408275,0.7470424509538925,0.7485960368669576,0.7485960368669576,0.7532567946061529,0.7532567946061529,0.754810380519218,0.754810380519218,0.754810380519218,0.7563639664322831,0.7625783100845435,0.7656854819106736,0.7672390678237387,0.7703462396498688,0.7703462396498688,0.7734534114759991,0.7734534114759991,0.7796677551282594,0.7858820987805197],\"yaxis\":\"y\",\"type\":\"scatter\"}],                        {\"template\":{\"data\":{\"bar\":[{\"error_x\":{\"color\":\"#2a3f5f\"},\"error_y\":{\"color\":\"#2a3f5f\"},\"marker\":{\"line\":{\"color\":\"#E5ECF6\",\"width\":0.5},\"pattern\":{\"fillmode\":\"overlay\",\"size\":10,\"solidity\":0.2}},\"type\":\"bar\"}],\"barpolar\":[{\"marker\":{\"line\":{\"color\":\"#E5ECF6\",\"width\":0.5},\"pattern\":{\"fillmode\":\"overlay\",\"size\":10,\"solidity\":0.2}},\"type\":\"barpolar\"}],\"carpet\":[{\"aaxis\":{\"endlinecolor\":\"#2a3f5f\",\"gridcolor\":\"white\",\"linecolor\":\"white\",\"minorgridcolor\":\"white\",\"startlinecolor\":\"#2a3f5f\"},\"baxis\":{\"endlinecolor\":\"#2a3f5f\",\"gridcolor\":\"white\",\"linecolor\":\"white\",\"minorgridcolor\":\"white\",\"startlinecolor\":\"#2a3f5f\"},\"type\":\"carpet\"}],\"choropleth\":[{\"colorbar\":{\"outlinewidth\":0,\"ticks\":\"\"},\"type\":\"choropleth\"}],\"contour\":[{\"colorbar\":{\"outlinewidth\":0,\"ticks\":\"\"},\"colorscale\":[[0.0,\"#0d0887\"],[0.1111111111111111,\"#46039f\"],[0.2222222222222222,\"#7201a8\"],[0.3333333333333333,\"#9c179e\"],[0.4444444444444444,\"#bd3786\"],[0.5555555555555556,\"#d8576b\"],[0.6666666666666666,\"#ed7953\"],[0.7777777777777778,\"#fb9f3a\"],[0.8888888888888888,\"#fdca26\"],[1.0,\"#f0f921\"]],\"type\":\"contour\"}],\"contourcarpet\":[{\"colorbar\":{\"outlinewidth\":0,\"ticks\":\"\"},\"type\":\"contourcarpet\"}],\"heatmap\":[{\"colorbar\":{\"outlinewidth\":0,\"ticks\":\"\"},\"colorscale\":[[0.0,\"#0d0887\"],[0.1111111111111111,\"#46039f\"],[0.2222222222222222,\"#7201a8\"],[0.3333333333333333,\"#9c179e\"],[0.4444444444444444,\"#bd3786\"],[0.5555555555555556,\"#d8576b\"],[0.6666666666666666,\"#ed7953\"],[0.7777777777777778,\"#fb9f3a\"],[0.8888888888888888,\"#fdca26\"],[1.0,\"#f0f921\"]],\"type\":\"heatmap\"}],\"heatmapgl\":[{\"colorbar\":{\"outlinewidth\":0,\"ticks\":\"\"},\"colorscale\":[[0.0,\"#0d0887\"],[0.1111111111111111,\"#46039f\"],[0.2222222222222222,\"#7201a8\"],[0.3333333333333333,\"#9c179e\"],[0.4444444444444444,\"#bd3786\"],[0.5555555555555556,\"#d8576b\"],[0.6666666666666666,\"#ed7953\"],[0.7777777777777778,\"#fb9f3a\"],[0.8888888888888888,\"#fdca26\"],[1.0,\"#f0f921\"]],\"type\":\"heatmapgl\"}],\"histogram\":[{\"marker\":{\"pattern\":{\"fillmode\":\"overlay\",\"size\":10,\"solidity\":0.2}},\"type\":\"histogram\"}],\"histogram2d\":[{\"colorbar\":{\"outlinewidth\":0,\"ticks\":\"\"},\"colorscale\":[[0.0,\"#0d0887\"],[0.1111111111111111,\"#46039f\"],[0.2222222222222222,\"#7201a8\"],[0.3333333333333333,\"#9c179e\"],[0.4444444444444444,\"#bd3786\"],[0.5555555555555556,\"#d8576b\"],[0.6666666666666666,\"#ed7953\"],[0.7777777777777778,\"#fb9f3a\"],[0.8888888888888888,\"#fdca26\"],[1.0,\"#f0f921\"]],\"type\":\"histogram2d\"}],\"histogram2dcontour\":[{\"colorbar\":{\"outlinewidth\":0,\"ticks\":\"\"},\"colorscale\":[[0.0,\"#0d0887\"],[0.1111111111111111,\"#46039f\"],[0.2222222222222222,\"#7201a8\"],[0.3333333333333333,\"#9c179e\"],[0.4444444444444444,\"#bd3786\"],[0.5555555555555556,\"#d8576b\"],[0.6666666666666666,\"#ed7953\"],[0.7777777777777778,\"#fb9f3a\"],[0.8888888888888888,\"#fdca26\"],[1.0,\"#f0f921\"]],\"type\":\"histogram2dcontour\"}],\"mesh3d\":[{\"colorbar\":{\"outlinewidth\":0,\"ticks\":\"\"},\"type\":\"mesh3d\"}],\"parcoords\":[{\"line\":{\"colorbar\":{\"outlinewidth\":0,\"ticks\":\"\"}},\"type\":\"parcoords\"}],\"pie\":[{\"automargin\":true,\"type\":\"pie\"}],\"scatter\":[{\"marker\":{\"colorbar\":{\"outlinewidth\":0,\"ticks\":\"\"}},\"type\":\"scatter\"}],\"scatter3d\":[{\"line\":{\"colorbar\":{\"outlinewidth\":0,\"ticks\":\"\"}},\"marker\":{\"colorbar\":{\"outlinewidth\":0,\"ticks\":\"\"}},\"type\":\"scatter3d\"}],\"scattercarpet\":[{\"marker\":{\"colorbar\":{\"outlinewidth\":0,\"ticks\":\"\"}},\"type\":\"scattercarpet\"}],\"scattergeo\":[{\"marker\":{\"colorbar\":{\"outlinewidth\":0,\"ticks\":\"\"}},\"type\":\"scattergeo\"}],\"scattergl\":[{\"marker\":{\"colorbar\":{\"outlinewidth\":0,\"ticks\":\"\"}},\"type\":\"scattergl\"}],\"scattermapbox\":[{\"marker\":{\"colorbar\":{\"outlinewidth\":0,\"ticks\":\"\"}},\"type\":\"scattermapbox\"}],\"scatterpolar\":[{\"marker\":{\"colorbar\":{\"outlinewidth\":0,\"ticks\":\"\"}},\"type\":\"scatterpolar\"}],\"scatterpolargl\":[{\"marker\":{\"colorbar\":{\"outlinewidth\":0,\"ticks\":\"\"}},\"type\":\"scatterpolargl\"}],\"scatterternary\":[{\"marker\":{\"colorbar\":{\"outlinewidth\":0,\"ticks\":\"\"}},\"type\":\"scatterternary\"}],\"surface\":[{\"colorbar\":{\"outlinewidth\":0,\"ticks\":\"\"},\"colorscale\":[[0.0,\"#0d0887\"],[0.1111111111111111,\"#46039f\"],[0.2222222222222222,\"#7201a8\"],[0.3333333333333333,\"#9c179e\"],[0.4444444444444444,\"#bd3786\"],[0.5555555555555556,\"#d8576b\"],[0.6666666666666666,\"#ed7953\"],[0.7777777777777778,\"#fb9f3a\"],[0.8888888888888888,\"#fdca26\"],[1.0,\"#f0f921\"]],\"type\":\"surface\"}],\"table\":[{\"cells\":{\"fill\":{\"color\":\"#EBF0F8\"},\"line\":{\"color\":\"white\"}},\"header\":{\"fill\":{\"color\":\"#C8D4E3\"},\"line\":{\"color\":\"white\"}},\"type\":\"table\"}]},\"layout\":{\"annotationdefaults\":{\"arrowcolor\":\"#2a3f5f\",\"arrowhead\":0,\"arrowwidth\":1},\"autotypenumbers\":\"strict\",\"coloraxis\":{\"colorbar\":{\"outlinewidth\":0,\"ticks\":\"\"}},\"colorscale\":{\"diverging\":[[0,\"#8e0152\"],[0.1,\"#c51b7d\"],[0.2,\"#de77ae\"],[0.3,\"#f1b6da\"],[0.4,\"#fde0ef\"],[0.5,\"#f7f7f7\"],[0.6,\"#e6f5d0\"],[0.7,\"#b8e186\"],[0.8,\"#7fbc41\"],[0.9,\"#4d9221\"],[1,\"#276419\"]],\"sequential\":[[0.0,\"#0d0887\"],[0.1111111111111111,\"#46039f\"],[0.2222222222222222,\"#7201a8\"],[0.3333333333333333,\"#9c179e\"],[0.4444444444444444,\"#bd3786\"],[0.5555555555555556,\"#d8576b\"],[0.6666666666666666,\"#ed7953\"],[0.7777777777777778,\"#fb9f3a\"],[0.8888888888888888,\"#fdca26\"],[1.0,\"#f0f921\"]],\"sequentialminus\":[[0.0,\"#0d0887\"],[0.1111111111111111,\"#46039f\"],[0.2222222222222222,\"#7201a8\"],[0.3333333333333333,\"#9c179e\"],[0.4444444444444444,\"#bd3786\"],[0.5555555555555556,\"#d8576b\"],[0.6666666666666666,\"#ed7953\"],[0.7777777777777778,\"#fb9f3a\"],[0.8888888888888888,\"#fdca26\"],[1.0,\"#f0f921\"]]},\"colorway\":[\"#636efa\",\"#EF553B\",\"#00cc96\",\"#ab63fa\",\"#FFA15A\",\"#19d3f3\",\"#FF6692\",\"#B6E880\",\"#FF97FF\",\"#FECB52\"],\"font\":{\"color\":\"#2a3f5f\"},\"geo\":{\"bgcolor\":\"white\",\"lakecolor\":\"white\",\"landcolor\":\"#E5ECF6\",\"showlakes\":true,\"showland\":true,\"subunitcolor\":\"white\"},\"hoverlabel\":{\"align\":\"left\"},\"hovermode\":\"closest\",\"mapbox\":{\"style\":\"light\"},\"paper_bgcolor\":\"white\",\"plot_bgcolor\":\"#E5ECF6\",\"polar\":{\"angularaxis\":{\"gridcolor\":\"white\",\"linecolor\":\"white\",\"ticks\":\"\"},\"bgcolor\":\"#E5ECF6\",\"radialaxis\":{\"gridcolor\":\"white\",\"linecolor\":\"white\",\"ticks\":\"\"}},\"scene\":{\"xaxis\":{\"backgroundcolor\":\"#E5ECF6\",\"gridcolor\":\"white\",\"gridwidth\":2,\"linecolor\":\"white\",\"showbackground\":true,\"ticks\":\"\",\"zerolinecolor\":\"white\"},\"yaxis\":{\"backgroundcolor\":\"#E5ECF6\",\"gridcolor\":\"white\",\"gridwidth\":2,\"linecolor\":\"white\",\"showbackground\":true,\"ticks\":\"\",\"zerolinecolor\":\"white\"},\"zaxis\":{\"backgroundcolor\":\"#E5ECF6\",\"gridcolor\":\"white\",\"gridwidth\":2,\"linecolor\":\"white\",\"showbackground\":true,\"ticks\":\"\",\"zerolinecolor\":\"white\"}},\"shapedefaults\":{\"line\":{\"color\":\"#2a3f5f\"}},\"ternary\":{\"aaxis\":{\"gridcolor\":\"white\",\"linecolor\":\"white\",\"ticks\":\"\"},\"baxis\":{\"gridcolor\":\"white\",\"linecolor\":\"white\",\"ticks\":\"\"},\"bgcolor\":\"#E5ECF6\",\"caxis\":{\"gridcolor\":\"white\",\"linecolor\":\"white\",\"ticks\":\"\"}},\"title\":{\"x\":0.05},\"xaxis\":{\"automargin\":true,\"gridcolor\":\"white\",\"linecolor\":\"white\",\"ticks\":\"\",\"title\":{\"standoff\":15},\"zerolinecolor\":\"white\",\"zerolinewidth\":2},\"yaxis\":{\"automargin\":true,\"gridcolor\":\"white\",\"linecolor\":\"white\",\"ticks\":\"\",\"title\":{\"standoff\":15},\"zerolinecolor\":\"white\",\"zerolinewidth\":2}}},\"xaxis\":{\"anchor\":\"y\",\"domain\":[0.0,1.0],\"title\":{\"text\":\"obesity_data\"}},\"yaxis\":{\"anchor\":\"x\",\"domain\":[0.0,1.0],\"title\":{\"text\":\"gyms_per_100k\"}},\"legend\":{\"tracegroupgap\":0},\"margin\":{\"t\":60}},                        {\"responsive\": true}                    ).then(function(){\n",
       "                            \n",
       "var gd = document.getElementById('4a546fff-2a30-4c38-9169-71915d095db5');\n",
       "var x = new MutationObserver(function (mutations, observer) {{\n",
       "        var display = window.getComputedStyle(gd).display;\n",
       "        if (!display || display === 'none') {{\n",
       "            console.log([gd, 'removed!']);\n",
       "            Plotly.purge(gd);\n",
       "            observer.disconnect();\n",
       "        }}\n",
       "}});\n",
       "\n",
       "// Listen for the removal of the full notebook cells\n",
       "var notebookContainer = gd.closest('#notebook-container');\n",
       "if (notebookContainer) {{\n",
       "    x.observe(notebookContainer, {childList: true});\n",
       "}}\n",
       "\n",
       "// Listen for the clearing of the current output cell\n",
       "var outputEl = gd.closest('.output');\n",
       "if (outputEl) {{\n",
       "    x.observe(outputEl, {childList: true});\n",
       "}}\n",
       "\n",
       "                        })                };                });            </script>        </div>"
      ]
     },
     "metadata": {},
     "output_type": "display_data"
    }
   ],
   "source": [
    "px.scatter(df, y = 'gyms_per_100k', x = 'obesity_data', trendline = 'ols')"
   ]
  },
  {
   "cell_type": "code",
   "execution_count": 101,
   "id": "e728e55f-15bf-40dd-93e3-5fd256fca8ba",
   "metadata": {},
   "outputs": [],
   "source": [
    "query = \"\"\"\n",
    "SELECT gyms.*,\n",
    "    weight_condition.abbr,\n",
    "    weight_condition.locationdesc,\n",
    "    weight_condition.data_value AS obesity_data,\n",
    "    weight_condition.stratificationcategoryid1,\n",
    "    weight_condition.stratificationid1,\n",
    "    states.*\n",
    "    FROM (SELECT COUNT(gym_locations.abbr) AS n_gyms,gym_locations.State_ID_fk FROM gym_locations\n",
    "GROUP BY State_ID_fk) as gyms\n",
    "JOIN weight_condition ON weight_condition.State_ID_fk = gyms.State_ID_fk\n",
    "AND weight_condition.stratificationcategoryid1 = 'AGEYR'\n",
    "JOIN states ON states.State_ID_fk = gyms.State_ID_fk\n",
    "\"\"\"\n",
    "agedf = pd.read_sql(query,con=conn)\n",
    "\n",
    "agedf.dtypes\n",
    "agedf['obesity_data'] = agedf['obesity_data'].astype(float)\n",
    "agedf['Pop'] = agedf['Pop'].astype(int)\n",
    "agedf['gyms_per_100k'] = agedf['n_gyms']/(agedf['Pop']/100000)"
   ]
  },
  {
   "cell_type": "code",
   "execution_count": 102,
   "id": "8c5d9386-1654-473d-b2d9-1faae4c50928",
   "metadata": {},
   "outputs": [
    {
     "data": {
      "application/vnd.plotly.v1+json": {
       "config": {
        "plotlyServerURL": "https://plot.ly"
       },
       "data": [
        {
         "hovertemplate": "stratificationid1=AGEYR65PLUS<br>obesity_data=%{x}<br>gyms_per_100k=%{y}<extra></extra>",
         "legendgroup": "AGEYR65PLUS",
         "marker": {
          "color": "#636efa",
          "symbol": "circle"
         },
         "mode": "markers",
         "name": "AGEYR65PLUS",
         "orientation": "v",
         "showlegend": true,
         "type": "scatter",
         "x": [
          41.1,
          36.6,
          36.7,
          36.1,
          40.5,
          39.4,
          33.2,
          38.4,
          null,
          37.2,
          39.3,
          35.4,
          37.7,
          39.3,
          36.7,
          37.7,
          41.3,
          38.5,
          38.6,
          38.4,
          38.5,
          35.3,
          36,
          38.4,
          36.2,
          39.4,
          37.4,
          38.2,
          40.6,
          42.5,
          41,
          38.2,
          41.3,
          36.6,
          42.3,
          35.7,
          37.4,
          36.6,
          38.9,
          36.4,
          38.2,
          35.6,
          38.8,
          39.1,
          39.4,
          37.5,
          40.3,
          38.8,
          37.8,
          43.7,
          39.4,
          35.2
         ],
         "xaxis": "x",
         "y": [
          1.470900801714482,
          0.3391137150020516,
          0.6911339607677808,
          0.7042412440580931,
          0.5690255224543398,
          0.7750064498892046,
          0.42508030475423986,
          0.5248916754804728,
          0.7263335052477828,
          0.596636467089929,
          1.1896984303089893,
          0.5812526803961919,
          0.35313926682637975,
          0.9538212224268169,
          0.8351600030609586,
          0.46782400086828135,
          0.7418034077343738,
          0.7556276744926338,
          0.43668694349707643,
          0.9060905475594302,
          0.8911712663954234,
          0.8104435471722004,
          0.7313724806906909,
          0.7754310362653586,
          0.915382706966319,
          0.5835278998418982,
          0.6137889358406425,
          0.8927163274840576,
          1.0269428732218484,
          0.7760821440484603,
          0.46967555438936853,
          0.6560819558834091,
          0.7142495380104125,
          0.8012961766954225,
          0.8556448353390324,
          0.586564925894039,
          0.48339472066656436,
          0.8057886062834053,
          0.3917037153097397,
          0.6339003572028513,
          1.0377846159369497,
          0.8201819436945096,
          0.6869979118698469,
          1.0154672059162055,
          0.7728107698908893,
          0.8005709106625968,
          0.5904073393883658,
          0.514217948972557,
          0.7939553532439693,
          1.604740971208115,
          0.5646829180659532,
          0.6958702420700615
         ],
         "yaxis": "y"
        },
        {
         "hovertemplate": "<b>OLS trendline</b><br>gyms_per_100k = 0.0449439 * obesity_data + -0.983069<br>R<sup>2</sup>=0.145304<br><br>stratificationid1=AGEYR65PLUS<br>obesity_data=%{x}<br>gyms_per_100k=%{y} <b>(trend)</b><extra></extra>",
         "legendgroup": "AGEYR65PLUS",
         "marker": {
          "color": "#636efa",
          "symbol": "circle"
         },
         "mode": "lines",
         "name": "AGEYR65PLUS",
         "showlegend": false,
         "type": "scatter",
         "x": [
          33.2,
          35.2,
          35.3,
          35.4,
          35.6,
          35.7,
          36,
          36.1,
          36.2,
          36.4,
          36.6,
          36.6,
          36.6,
          36.7,
          36.7,
          37.2,
          37.4,
          37.4,
          37.5,
          37.7,
          37.7,
          37.8,
          38.2,
          38.2,
          38.2,
          38.4,
          38.4,
          38.4,
          38.5,
          38.5,
          38.6,
          38.8,
          38.8,
          38.9,
          39.1,
          39.3,
          39.3,
          39.4,
          39.4,
          39.4,
          39.4,
          40.3,
          40.5,
          40.6,
          41,
          41.1,
          41.3,
          41.3,
          42.3,
          42.5,
          43.7
         ],
         "xaxis": "x",
         "y": [
          0.5090693786299456,
          0.5989572348916994,
          0.6034516277047868,
          0.6079460205178746,
          0.61693480614405,
          0.6214291989571377,
          0.6349123773964007,
          0.6394067702094883,
          0.6439011630225762,
          0.6528899486487514,
          0.6618787342749268,
          0.6618787342749268,
          0.6618787342749268,
          0.6663731270880147,
          0.6663731270880147,
          0.6888450911534529,
          0.6978338767796282,
          0.6978338767796282,
          0.702328269592716,
          0.7113170552188914,
          0.7113170552188914,
          0.7158114480319788,
          0.7337890192843299,
          0.7337890192843299,
          0.7337890192843299,
          0.7427778049105049,
          0.7427778049105049,
          0.7427778049105049,
          0.7472721977235928,
          0.7472721977235928,
          0.7517665905366806,
          0.7607553761628556,
          0.7607553761628556,
          0.7652497689759434,
          0.7742385546021189,
          0.7832273402282941,
          0.7832273402282941,
          0.7877217330413819,
          0.7877217330413819,
          0.7877217330413819,
          0.7877217330413819,
          0.8281712683591709,
          0.8371600539853463,
          0.8416544467984342,
          0.8596320180507848,
          0.8641264108638727,
          0.8731151964900477,
          0.8731151964900477,
          0.9180591246209246,
          0.9270479102471001,
          0.9809806240041523
         ],
         "yaxis": "y"
        },
        {
         "hovertemplate": "stratificationid1=AGEYR3544<br>obesity_data=%{x}<br>gyms_per_100k=%{y}<extra></extra>",
         "legendgroup": "AGEYR3544",
         "marker": {
          "color": "#EF553B",
          "symbol": "circle"
         },
         "mode": "markers",
         "name": "AGEYR3544",
         "orientation": "v",
         "showlegend": true,
         "type": "scatter",
         "x": [
          34.2,
          36.1,
          38.8,
          37.5,
          37.5,
          31.8,
          31.1,
          34,
          null,
          35.7,
          31.9,
          30.7,
          36.3,
          34.4,
          35.2,
          35.2,
          29.6,
          37.1,
          37.4,
          33.5,
          35.6,
          31.1,
          33.8,
          35.3,
          32.5,
          34.6,
          32,
          31.1,
          35.5,
          33.6,
          38,
          33,
          36.3,
          31.1,
          38.2,
          30.9,
          37.4,
          32.8,
          35.9,
          34.6,
          38,
          36.9,
          35.4,
          30.8,
          39.4,
          36.4,
          35.6,
          35.9,
          35.8,
          36.1,
          38,
          32.1
         ],
         "xaxis": "x",
         "y": [
          1.470900801714482,
          0.3391137150020516,
          0.6911339607677808,
          0.7042412440580931,
          0.5690255224543398,
          0.7750064498892046,
          0.42508030475423986,
          0.5248916754804728,
          0.7263335052477828,
          0.596636467089929,
          1.1896984303089893,
          0.5812526803961919,
          0.35313926682637975,
          0.9538212224268169,
          0.8351600030609586,
          0.46782400086828135,
          0.7418034077343738,
          0.7556276744926338,
          0.43668694349707643,
          0.9060905475594302,
          0.8911712663954234,
          0.8104435471722004,
          0.7313724806906909,
          0.7754310362653586,
          0.915382706966319,
          0.5835278998418982,
          0.6137889358406425,
          0.8927163274840576,
          1.0269428732218484,
          0.7760821440484603,
          0.46967555438936853,
          0.6560819558834091,
          0.7142495380104125,
          0.8012961766954225,
          0.8556448353390324,
          0.586564925894039,
          0.48339472066656436,
          0.8057886062834053,
          0.3917037153097397,
          0.6339003572028513,
          1.0377846159369497,
          0.8201819436945096,
          0.6869979118698469,
          1.0154672059162055,
          0.7728107698908893,
          0.8005709106625968,
          0.5904073393883658,
          0.514217948972557,
          0.7939553532439693,
          1.604740971208115,
          0.5646829180659532,
          0.6958702420700615
         ],
         "yaxis": "y"
        },
        {
         "hovertemplate": "<b>OLS trendline</b><br>gyms_per_100k = -0.0129304 * obesity_data + 1.18704<br>R<sup>2</sup>=0.017042<br><br>stratificationid1=AGEYR3544<br>obesity_data=%{x}<br>gyms_per_100k=%{y} <b>(trend)</b><extra></extra>",
         "legendgroup": "AGEYR3544",
         "marker": {
          "color": "#EF553B",
          "symbol": "circle"
         },
         "mode": "lines",
         "name": "AGEYR3544",
         "showlegend": false,
         "type": "scatter",
         "x": [
          29.6,
          30.7,
          30.8,
          30.9,
          31.1,
          31.1,
          31.1,
          31.1,
          31.8,
          31.9,
          32,
          32.1,
          32.5,
          32.8,
          33,
          33.5,
          33.6,
          33.8,
          34,
          34.2,
          34.4,
          34.6,
          34.6,
          35.2,
          35.2,
          35.3,
          35.4,
          35.5,
          35.6,
          35.6,
          35.7,
          35.8,
          35.9,
          35.9,
          36.1,
          36.1,
          36.3,
          36.3,
          36.4,
          36.9,
          37.1,
          37.4,
          37.4,
          37.5,
          37.5,
          38,
          38,
          38,
          38.2,
          38.8,
          39.4
         ],
         "xaxis": "x",
         "y": [
          0.804295057784006,
          0.7900715839820617,
          0.7887785409091577,
          0.7874854978362535,
          0.7848994116904455,
          0.7848994116904455,
          0.7848994116904455,
          0.7848994116904455,
          0.7758481101801173,
          0.7745550671072132,
          0.7732620240343092,
          0.7719689809614052,
          0.766796808669789,
          0.762917679451077,
          0.7603315933052689,
          0.7538663779407486,
          0.7525733348678447,
          0.7499872487220367,
          0.7474011625762285,
          0.7448150764304204,
          0.7422289902846124,
          0.7396429041388043,
          0.7396429041388043,
          0.7318846457013801,
          0.7318846457013801,
          0.7305916026284761,
          0.7292985595555721,
          0.728005516482668,
          0.726712473409764,
          0.726712473409764,
          0.72541943033686,
          0.724126387263956,
          0.7228333441910519,
          0.7228333441910519,
          0.7202472580452437,
          0.7202472580452437,
          0.7176611718994358,
          0.7176611718994358,
          0.7163681288265318,
          0.7099029134620116,
          0.7073168273162034,
          0.7034376980974913,
          0.7034376980974913,
          0.7021446550245873,
          0.7021446550245873,
          0.6956794396600672,
          0.6956794396600672,
          0.6956794396600672,
          0.693093353514259,
          0.6853350950768349,
          0.6775768366394107
         ],
         "yaxis": "y"
        },
        {
         "hovertemplate": "stratificationid1=AGEYR4554<br>obesity_data=%{x}<br>gyms_per_100k=%{y}<extra></extra>",
         "legendgroup": "AGEYR4554",
         "marker": {
          "color": "#00cc96",
          "symbol": "circle"
         },
         "mode": "markers",
         "name": "AGEYR4554",
         "orientation": "v",
         "showlegend": true,
         "type": "scatter",
         "x": [
          33.8,
          38.7,
          37.7,
          36.6,
          32.8,
          33.8,
          34.2,
          37,
          null,
          31.1,
          36.3,
          33.2,
          35.7,
          33,
          31.3,
          35.8,
          34.2,
          40.5,
          36.3,
          32.9,
          34.8,
          32.3,
          31.2,
          36,
          33.3,
          35.3,
          35.1,
          36.4,
          33.9,
          37.1,
          39.1,
          34.3,
          37,
          34.8,
          41.8,
          32.9,
          43.4,
          32.4,
          37.1,
          33.9,
          40.9,
          31.6,
          33.6,
          33.8,
          33.3,
          34.8,
          36.4,
          35.1,
          34.3,
          36.9,
          39.7,
          32.2
         ],
         "xaxis": "x",
         "y": [
          1.470900801714482,
          0.3391137150020516,
          0.6911339607677808,
          0.7042412440580931,
          0.5690255224543398,
          0.7750064498892046,
          0.42508030475423986,
          0.5248916754804728,
          0.7263335052477828,
          0.596636467089929,
          1.1896984303089893,
          0.5812526803961919,
          0.35313926682637975,
          0.9538212224268169,
          0.8351600030609586,
          0.46782400086828135,
          0.7418034077343738,
          0.7556276744926338,
          0.43668694349707643,
          0.9060905475594302,
          0.8911712663954234,
          0.8104435471722004,
          0.7313724806906909,
          0.7754310362653586,
          0.915382706966319,
          0.5835278998418982,
          0.6137889358406425,
          0.8927163274840576,
          1.0269428732218484,
          0.7760821440484603,
          0.46967555438936853,
          0.6560819558834091,
          0.7142495380104125,
          0.8012961766954225,
          0.8556448353390324,
          0.586564925894039,
          0.48339472066656436,
          0.8057886062834053,
          0.3917037153097397,
          0.6339003572028513,
          1.0377846159369497,
          0.8201819436945096,
          0.6869979118698469,
          1.0154672059162055,
          0.7728107698908893,
          0.8005709106625968,
          0.5904073393883658,
          0.514217948972557,
          0.7939553532439693,
          1.604740971208115,
          0.5646829180659532,
          0.6958702420700615
         ],
         "yaxis": "y"
        },
        {
         "hovertemplate": "<b>OLS trendline</b><br>gyms_per_100k = -0.0117218 * obesity_data + 1.15146<br>R<sup>2</sup>=0.017118<br><br>stratificationid1=AGEYR4554<br>obesity_data=%{x}<br>gyms_per_100k=%{y} <b>(trend)</b><extra></extra>",
         "legendgroup": "AGEYR4554",
         "marker": {
          "color": "#00cc96",
          "symbol": "circle"
         },
         "mode": "lines",
         "name": "AGEYR4554",
         "showlegend": false,
         "type": "scatter",
         "x": [
          31.1,
          31.2,
          31.3,
          31.6,
          32.2,
          32.3,
          32.4,
          32.8,
          32.9,
          32.9,
          33,
          33.2,
          33.3,
          33.3,
          33.6,
          33.8,
          33.8,
          33.8,
          33.9,
          33.9,
          34.2,
          34.2,
          34.3,
          34.3,
          34.8,
          34.8,
          34.8,
          35.1,
          35.1,
          35.3,
          35.7,
          35.8,
          36,
          36.3,
          36.3,
          36.4,
          36.4,
          36.6,
          36.9,
          37,
          37,
          37.1,
          37.1,
          37.7,
          38.7,
          39.1,
          39.7,
          40.5,
          40.9,
          41.8,
          43.4
         ],
         "xaxis": "x",
         "y": [
          0.7869134796979989,
          0.7857412991772987,
          0.7845691186565984,
          0.7810525770944976,
          0.7740194939702962,
          0.772847313449596,
          0.7716751329288958,
          0.7669864108460948,
          0.7658142303253945,
          0.7658142303253945,
          0.7646420498046942,
          0.7622976887632937,
          0.7611255082425936,
          0.7611255082425936,
          0.7576089666804928,
          0.7552646056390924,
          0.7552646056390924,
          0.7552646056390924,
          0.754092425118392,
          0.754092425118392,
          0.7505758835562912,
          0.7505758835562912,
          0.7494037030355911,
          0.7494037030355911,
          0.7435428004320899,
          0.7435428004320899,
          0.7435428004320899,
          0.7400262588699891,
          0.7400262588699891,
          0.7376818978285886,
          0.7329931757457876,
          0.7318209952250874,
          0.7294766341836869,
          0.7259600926215862,
          0.7259600926215862,
          0.724787912100886,
          0.724787912100886,
          0.7224435510594854,
          0.7189270094973848,
          0.7177548289766844,
          0.7177548289766844,
          0.7165826484559842,
          0.7165826484559842,
          0.7095495653317827,
          0.6978277601247802,
          0.6931390380419793,
          0.6861059549177778,
          0.6767285107521759,
          0.672039788669375,
          0.6614901639830728,
          0.6427352756518688
         ],
         "yaxis": "y"
        },
        {
         "hovertemplate": "stratificationid1=AGEYR1824<br>obesity_data=%{x}<br>gyms_per_100k=%{y}<extra></extra>",
         "legendgroup": "AGEYR1824",
         "marker": {
          "color": "#ab63fa",
          "symbol": "circle"
         },
         "mode": "markers",
         "name": "AGEYR1824",
         "orientation": "v",
         "showlegend": true,
         "type": "scatter",
         "x": [
          28.7,
          28,
          27.2,
          24.4,
          23.4,
          28.5,
          20.4,
          28.4,
          null,
          28.4,
          21.7,
          19.2,
          25.9,
          25.9,
          31.2,
          28.6,
          27.1,
          29.6,
          20.3,
          25.2,
          24.1,
          28.1,
          26.3,
          26.3,
          29.1,
          28.4,
          27.5,
          25.8,
          22.5,
          22.5,
          26,
          25.7,
          24.7,
          22.6,
          25.5,
          21.5,
          24.6,
          23.1,
          29.6,
          28,
          22.5,
          27.9,
          21.7,
          20.8,
          25.8,
          26.2,
          24,
          25.5,
          23.2,
          22.6,
          21.6,
          22.7
         ],
         "xaxis": "x",
         "y": [
          1.470900801714482,
          0.3391137150020516,
          0.6911339607677808,
          0.7042412440580931,
          0.5690255224543398,
          0.7750064498892046,
          0.42508030475423986,
          0.5248916754804728,
          0.7263335052477828,
          0.596636467089929,
          1.1896984303089893,
          0.5812526803961919,
          0.35313926682637975,
          0.9538212224268169,
          0.8351600030609586,
          0.46782400086828135,
          0.7418034077343738,
          0.7556276744926338,
          0.43668694349707643,
          0.9060905475594302,
          0.8911712663954234,
          0.8104435471722004,
          0.7313724806906909,
          0.7754310362653586,
          0.915382706966319,
          0.5835278998418982,
          0.6137889358406425,
          0.8927163274840576,
          1.0269428732218484,
          0.7760821440484603,
          0.46967555438936853,
          0.6560819558834091,
          0.7142495380104125,
          0.8012961766954225,
          0.8556448353390324,
          0.586564925894039,
          0.48339472066656436,
          0.8057886062834053,
          0.3917037153097397,
          0.6339003572028513,
          1.0377846159369497,
          0.8201819436945096,
          0.6869979118698469,
          1.0154672059162055,
          0.7728107698908893,
          0.8005709106625968,
          0.5904073393883658,
          0.514217948972557,
          0.7939553532439693,
          1.604740971208115,
          0.5646829180659532,
          0.6958702420700615
         ],
         "yaxis": "y"
        },
        {
         "hovertemplate": "<b>OLS trendline</b><br>gyms_per_100k = -0.00684538 * obesity_data + 0.910789<br>R<sup>2</sup>=0.006319<br><br>stratificationid1=AGEYR1824<br>obesity_data=%{x}<br>gyms_per_100k=%{y} <b>(trend)</b><extra></extra>",
         "legendgroup": "AGEYR1824",
         "marker": {
          "color": "#ab63fa",
          "symbol": "circle"
         },
         "mode": "lines",
         "name": "AGEYR1824",
         "showlegend": false,
         "type": "scatter",
         "x": [
          19.2,
          20.3,
          20.4,
          20.8,
          21.5,
          21.6,
          21.7,
          21.7,
          22.5,
          22.5,
          22.5,
          22.6,
          22.6,
          22.7,
          23.1,
          23.2,
          23.4,
          24,
          24.1,
          24.4,
          24.6,
          24.7,
          25.2,
          25.5,
          25.5,
          25.7,
          25.8,
          25.8,
          25.9,
          25.9,
          26,
          26.2,
          26.3,
          26.3,
          27.1,
          27.2,
          27.5,
          27.9,
          28,
          28,
          28.1,
          28.4,
          28.4,
          28.4,
          28.5,
          28.6,
          28.7,
          29.1,
          29.6,
          29.6,
          31.2
         ],
         "xaxis": "x",
         "y": [
          0.7793579960486636,
          0.7718280790744094,
          0.771143541167659,
          0.7684053895406575,
          0.7636136241934047,
          0.7629290862866543,
          0.762244548379904,
          0.762244548379904,
          0.7567682451259009,
          0.7567682451259009,
          0.7567682451259009,
          0.7560837072191505,
          0.7560837072191505,
          0.7553991693124001,
          0.7526610176853986,
          0.7519764797786482,
          0.7506074039651475,
          0.7465001765246452,
          0.7458156386178948,
          0.7437620248976436,
          0.7423929490841428,
          0.7417084111773925,
          0.7382857216436405,
          0.7362321079233893,
          0.7362321079233893,
          0.7348630321098886,
          0.7341784942031382,
          0.7341784942031382,
          0.7334939562963878,
          0.7334939562963878,
          0.7328094183896374,
          0.7314403425761367,
          0.7307558046693863,
          0.7307558046693863,
          0.7252795014153832,
          0.7245949635086328,
          0.7225413497883817,
          0.7198031981613802,
          0.7191186602546298,
          0.7191186602546298,
          0.7184341223478794,
          0.7163805086276283,
          0.7163805086276283,
          0.7163805086276283,
          0.7156959707208779,
          0.7150114328141275,
          0.7143268949073771,
          0.7115887432803756,
          0.7081660537466237,
          0.7081660537466237,
          0.6972134472386174
         ],
         "yaxis": "y"
        },
        {
         "hovertemplate": "stratificationid1=AGEYR5564<br>obesity_data=%{x}<br>gyms_per_100k=%{y}<extra></extra>",
         "legendgroup": "AGEYR5564",
         "marker": {
          "color": "#FFA15A",
          "symbol": "circle"
         },
         "mode": "markers",
         "name": "AGEYR5564",
         "orientation": "v",
         "showlegend": true,
         "type": "scatter",
         "x": [
          37.1,
          36.3,
          41.4,
          38,
          37.8,
          32.7,
          33.5,
          37.1,
          null,
          36.9,
          37.9,
          35.9,
          39.6,
          39.1,
          38,
          37.6,
          37.7,
          37,
          34.9,
          33.9,
          36,
          33.4,
          31.7,
          35.6,
          35.3,
          34.1,
          32.7,
          35.9,
          37.6,
          42.1,
          36.1,
          34.2,
          41.7,
          33.9,
          39.7,
          35.9,
          38.7,
          34.7,
          37.4,
          38,
          36.8,
          36.7,
          36.3,
          35.4,
          29.5,
          35.8,
          39.8,
          37.1,
          33.5,
          39,
          36.4,
          33.2
         ],
         "xaxis": "x",
         "y": [
          1.470900801714482,
          0.3391137150020516,
          0.6911339607677808,
          0.7042412440580931,
          0.5690255224543398,
          0.7750064498892046,
          0.42508030475423986,
          0.5248916754804728,
          0.7263335052477828,
          0.596636467089929,
          1.1896984303089893,
          0.5812526803961919,
          0.35313926682637975,
          0.9538212224268169,
          0.8351600030609586,
          0.46782400086828135,
          0.7418034077343738,
          0.7556276744926338,
          0.43668694349707643,
          0.9060905475594302,
          0.8911712663954234,
          0.8104435471722004,
          0.7313724806906909,
          0.7754310362653586,
          0.915382706966319,
          0.5835278998418982,
          0.6137889358406425,
          0.8927163274840576,
          1.0269428732218484,
          0.7760821440484603,
          0.46967555438936853,
          0.6560819558834091,
          0.7142495380104125,
          0.8012961766954225,
          0.8556448353390324,
          0.586564925894039,
          0.48339472066656436,
          0.8057886062834053,
          0.3917037153097397,
          0.6339003572028513,
          1.0377846159369497,
          0.8201819436945096,
          0.6869979118698469,
          1.0154672059162055,
          0.7728107698908893,
          0.8005709106625968,
          0.5904073393883658,
          0.514217948972557,
          0.7939553532439693,
          1.604740971208115,
          0.5646829180659532,
          0.6958702420700615
         ],
         "yaxis": "y"
        },
        {
         "hovertemplate": "<b>OLS trendline</b><br>gyms_per_100k = 0.00552504 * obesity_data + 0.53671<br>R<sup>2</sup>=0.003189<br><br>stratificationid1=AGEYR5564<br>obesity_data=%{x}<br>gyms_per_100k=%{y} <b>(trend)</b><extra></extra>",
         "legendgroup": "AGEYR5564",
         "marker": {
          "color": "#FFA15A",
          "symbol": "circle"
         },
         "mode": "lines",
         "name": "AGEYR5564",
         "showlegend": false,
         "type": "scatter",
         "x": [
          29.5,
          31.7,
          32.7,
          32.7,
          33.2,
          33.4,
          33.5,
          33.5,
          33.9,
          33.9,
          34.1,
          34.2,
          34.7,
          34.9,
          35.3,
          35.4,
          35.6,
          35.8,
          35.9,
          35.9,
          35.9,
          36,
          36.1,
          36.3,
          36.3,
          36.4,
          36.7,
          36.8,
          36.9,
          37,
          37.1,
          37.1,
          37.1,
          37.4,
          37.6,
          37.6,
          37.7,
          37.8,
          37.9,
          38,
          38,
          38,
          38.7,
          39,
          39.1,
          39.6,
          39.7,
          39.8,
          41.4,
          41.7,
          42.1
         ],
         "xaxis": "x",
         "y": [
          0.6996983170729845,
          0.7118534131843094,
          0.7173784568712752,
          0.7173784568712752,
          0.7201409787147581,
          0.7212459874521513,
          0.721798491820848,
          0.721798491820848,
          0.7240085092956343,
          0.7240085092956343,
          0.7251135180330275,
          0.7256660224017241,
          0.728428544245207,
          0.7295335529826001,
          0.7317435704573865,
          0.732296074826083,
          0.7334010835634762,
          0.7345060923008694,
          0.735058596669566,
          0.735058596669566,
          0.735058596669566,
          0.7356111010382625,
          0.7361636054069591,
          0.7372686141443523,
          0.7372686141443523,
          0.7378211185130489,
          0.7394786316191386,
          0.7400311359878352,
          0.7405836403565318,
          0.7411361447252284,
          0.741688649093925,
          0.741688649093925,
          0.741688649093925,
          0.7433461622000147,
          0.744451170937408,
          0.744451170937408,
          0.7450036753061045,
          0.745556179674801,
          0.7461086840434976,
          0.7466611884121943,
          0.7466611884121943,
          0.7466611884121943,
          0.7505287189930704,
          0.7521862320991601,
          0.7527387364678567,
          0.7555012583113396,
          0.7560537626800362,
          0.7566062670487328,
          0.7654463369478781,
          0.767103850053968,
          0.7693138675287543
         ],
         "yaxis": "y"
        },
        {
         "hovertemplate": "stratificationid1=AGEYR2534<br>obesity_data=%{x}<br>gyms_per_100k=%{y}<extra></extra>",
         "legendgroup": "AGEYR2534",
         "marker": {
          "color": "#19d3f3",
          "symbol": "circle"
         },
         "mode": "markers",
         "name": "AGEYR2534",
         "orientation": "v",
         "showlegend": true,
         "type": "scatter",
         "x": [
          31.4,
          24.7,
          37.9,
          31.2,
          29.8,
          21.1,
          29.1,
          32.9,
          null,
          31.5,
          30.8,
          36.7,
          32,
          36.1,
          31.8,
          31.2,
          32.9,
          34.8,
          32,
          32.8,
          31.6,
          33.1,
          31.9,
          35.7,
          30.9,
          32.1,
          28.1,
          29.5,
          31.2,
          35.6,
          34,
          34.9,
          30.6,
          28.5,
          31.3,
          30.2,
          33.6,
          27.9,
          34.2,
          32.6,
          31.2,
          34.1,
          36.2,
          30.9,
          30.1,
          31.7,
          33,
          32.1,
          33.6,
          32.8,
          31.8,
          31.5
         ],
         "xaxis": "x",
         "y": [
          1.470900801714482,
          0.3391137150020516,
          0.6911339607677808,
          0.7042412440580931,
          0.5690255224543398,
          0.7750064498892046,
          0.42508030475423986,
          0.5248916754804728,
          0.7263335052477828,
          0.596636467089929,
          1.1896984303089893,
          0.5812526803961919,
          0.35313926682637975,
          0.9538212224268169,
          0.8351600030609586,
          0.46782400086828135,
          0.7418034077343738,
          0.7556276744926338,
          0.43668694349707643,
          0.9060905475594302,
          0.8911712663954234,
          0.8104435471722004,
          0.7313724806906909,
          0.7754310362653586,
          0.915382706966319,
          0.5835278998418982,
          0.6137889358406425,
          0.8927163274840576,
          1.0269428732218484,
          0.7760821440484603,
          0.46967555438936853,
          0.6560819558834091,
          0.7142495380104125,
          0.8012961766954225,
          0.8556448353390324,
          0.586564925894039,
          0.48339472066656436,
          0.8057886062834053,
          0.3917037153097397,
          0.6339003572028513,
          1.0377846159369497,
          0.8201819436945096,
          0.6869979118698469,
          1.0154672059162055,
          0.7728107698908893,
          0.8005709106625968,
          0.5904073393883658,
          0.514217948972557,
          0.7939553532439693,
          1.604740971208115,
          0.5646829180659532,
          0.6958702420700615
         ],
         "yaxis": "y"
        },
        {
         "hovertemplate": "<b>OLS trendline</b><br>gyms_per_100k = 0.00154094 * obesity_data + 0.688678<br>R<sup>2</sup>=0.000316<br><br>stratificationid1=AGEYR2534<br>obesity_data=%{x}<br>gyms_per_100k=%{y} <b>(trend)</b><extra></extra>",
         "legendgroup": "AGEYR2534",
         "marker": {
          "color": "#19d3f3",
          "symbol": "circle"
         },
         "mode": "lines",
         "name": "AGEYR2534",
         "showlegend": false,
         "type": "scatter",
         "x": [
          21.1,
          24.7,
          27.9,
          28.1,
          28.5,
          29.1,
          29.5,
          29.8,
          30.1,
          30.2,
          30.6,
          30.8,
          30.9,
          30.9,
          31.2,
          31.2,
          31.2,
          31.2,
          31.3,
          31.4,
          31.5,
          31.5,
          31.6,
          31.7,
          31.8,
          31.8,
          31.9,
          32,
          32,
          32.1,
          32.1,
          32.6,
          32.8,
          32.8,
          32.9,
          32.9,
          33,
          33.1,
          33.6,
          33.6,
          34,
          34.1,
          34.2,
          34.8,
          34.9,
          35.6,
          35.7,
          36.1,
          36.2,
          36.7,
          37.9
         ],
         "xaxis": "x",
         "y": [
          0.721191522966731,
          0.7267389223021669,
          0.7316699439336655,
          0.7319781327856341,
          0.7325945104895714,
          0.7335190770454774,
          0.7341354547494147,
          0.7345977380273677,
          0.7350600213053207,
          0.735214115731305,
          0.7358304934352423,
          0.736138682287211,
          0.7362927767131954,
          0.7362927767131954,
          0.7367550599911483,
          0.7367550599911483,
          0.7367550599911483,
          0.7367550599911483,
          0.7369091544171327,
          0.737063248843117,
          0.7372173432691014,
          0.7372173432691014,
          0.7373714376950856,
          0.73752553212107,
          0.7376796265470543,
          0.7376796265470543,
          0.7378337209730387,
          0.7379878153990229,
          0.7379878153990229,
          0.7381419098250073,
          0.7381419098250073,
          0.7389123819549289,
          0.7392205708068976,
          0.7392205708068976,
          0.739374665232882,
          0.739374665232882,
          0.7395287596588662,
          0.7396828540848506,
          0.7404533262147722,
          0.7404533262147722,
          0.7410697039187095,
          0.7412237983446939,
          0.7413778927706782,
          0.7423024593265842,
          0.7424565537525686,
          0.7435352147344588,
          0.7436893091604432,
          0.7443056868643805,
          0.7444597812903648,
          0.7452302534202865,
          0.7470793865320985
         ],
         "yaxis": "y"
        }
       ],
       "layout": {
        "autosize": true,
        "legend": {
         "title": {
          "text": "stratificationid1"
         },
         "tracegroupgap": 0
        },
        "margin": {
         "t": 60
        },
        "template": {
         "data": {
          "bar": [
           {
            "error_x": {
             "color": "#2a3f5f"
            },
            "error_y": {
             "color": "#2a3f5f"
            },
            "marker": {
             "line": {
              "color": "#E5ECF6",
              "width": 0.5
             },
             "pattern": {
              "fillmode": "overlay",
              "size": 10,
              "solidity": 0.2
             }
            },
            "type": "bar"
           }
          ],
          "barpolar": [
           {
            "marker": {
             "line": {
              "color": "#E5ECF6",
              "width": 0.5
             },
             "pattern": {
              "fillmode": "overlay",
              "size": 10,
              "solidity": 0.2
             }
            },
            "type": "barpolar"
           }
          ],
          "carpet": [
           {
            "aaxis": {
             "endlinecolor": "#2a3f5f",
             "gridcolor": "white",
             "linecolor": "white",
             "minorgridcolor": "white",
             "startlinecolor": "#2a3f5f"
            },
            "baxis": {
             "endlinecolor": "#2a3f5f",
             "gridcolor": "white",
             "linecolor": "white",
             "minorgridcolor": "white",
             "startlinecolor": "#2a3f5f"
            },
            "type": "carpet"
           }
          ],
          "choropleth": [
           {
            "colorbar": {
             "outlinewidth": 0,
             "ticks": ""
            },
            "type": "choropleth"
           }
          ],
          "contour": [
           {
            "colorbar": {
             "outlinewidth": 0,
             "ticks": ""
            },
            "colorscale": [
             [
              0,
              "#0d0887"
             ],
             [
              0.1111111111111111,
              "#46039f"
             ],
             [
              0.2222222222222222,
              "#7201a8"
             ],
             [
              0.3333333333333333,
              "#9c179e"
             ],
             [
              0.4444444444444444,
              "#bd3786"
             ],
             [
              0.5555555555555556,
              "#d8576b"
             ],
             [
              0.6666666666666666,
              "#ed7953"
             ],
             [
              0.7777777777777778,
              "#fb9f3a"
             ],
             [
              0.8888888888888888,
              "#fdca26"
             ],
             [
              1,
              "#f0f921"
             ]
            ],
            "type": "contour"
           }
          ],
          "contourcarpet": [
           {
            "colorbar": {
             "outlinewidth": 0,
             "ticks": ""
            },
            "type": "contourcarpet"
           }
          ],
          "heatmap": [
           {
            "colorbar": {
             "outlinewidth": 0,
             "ticks": ""
            },
            "colorscale": [
             [
              0,
              "#0d0887"
             ],
             [
              0.1111111111111111,
              "#46039f"
             ],
             [
              0.2222222222222222,
              "#7201a8"
             ],
             [
              0.3333333333333333,
              "#9c179e"
             ],
             [
              0.4444444444444444,
              "#bd3786"
             ],
             [
              0.5555555555555556,
              "#d8576b"
             ],
             [
              0.6666666666666666,
              "#ed7953"
             ],
             [
              0.7777777777777778,
              "#fb9f3a"
             ],
             [
              0.8888888888888888,
              "#fdca26"
             ],
             [
              1,
              "#f0f921"
             ]
            ],
            "type": "heatmap"
           }
          ],
          "heatmapgl": [
           {
            "colorbar": {
             "outlinewidth": 0,
             "ticks": ""
            },
            "colorscale": [
             [
              0,
              "#0d0887"
             ],
             [
              0.1111111111111111,
              "#46039f"
             ],
             [
              0.2222222222222222,
              "#7201a8"
             ],
             [
              0.3333333333333333,
              "#9c179e"
             ],
             [
              0.4444444444444444,
              "#bd3786"
             ],
             [
              0.5555555555555556,
              "#d8576b"
             ],
             [
              0.6666666666666666,
              "#ed7953"
             ],
             [
              0.7777777777777778,
              "#fb9f3a"
             ],
             [
              0.8888888888888888,
              "#fdca26"
             ],
             [
              1,
              "#f0f921"
             ]
            ],
            "type": "heatmapgl"
           }
          ],
          "histogram": [
           {
            "marker": {
             "pattern": {
              "fillmode": "overlay",
              "size": 10,
              "solidity": 0.2
             }
            },
            "type": "histogram"
           }
          ],
          "histogram2d": [
           {
            "colorbar": {
             "outlinewidth": 0,
             "ticks": ""
            },
            "colorscale": [
             [
              0,
              "#0d0887"
             ],
             [
              0.1111111111111111,
              "#46039f"
             ],
             [
              0.2222222222222222,
              "#7201a8"
             ],
             [
              0.3333333333333333,
              "#9c179e"
             ],
             [
              0.4444444444444444,
              "#bd3786"
             ],
             [
              0.5555555555555556,
              "#d8576b"
             ],
             [
              0.6666666666666666,
              "#ed7953"
             ],
             [
              0.7777777777777778,
              "#fb9f3a"
             ],
             [
              0.8888888888888888,
              "#fdca26"
             ],
             [
              1,
              "#f0f921"
             ]
            ],
            "type": "histogram2d"
           }
          ],
          "histogram2dcontour": [
           {
            "colorbar": {
             "outlinewidth": 0,
             "ticks": ""
            },
            "colorscale": [
             [
              0,
              "#0d0887"
             ],
             [
              0.1111111111111111,
              "#46039f"
             ],
             [
              0.2222222222222222,
              "#7201a8"
             ],
             [
              0.3333333333333333,
              "#9c179e"
             ],
             [
              0.4444444444444444,
              "#bd3786"
             ],
             [
              0.5555555555555556,
              "#d8576b"
             ],
             [
              0.6666666666666666,
              "#ed7953"
             ],
             [
              0.7777777777777778,
              "#fb9f3a"
             ],
             [
              0.8888888888888888,
              "#fdca26"
             ],
             [
              1,
              "#f0f921"
             ]
            ],
            "type": "histogram2dcontour"
           }
          ],
          "mesh3d": [
           {
            "colorbar": {
             "outlinewidth": 0,
             "ticks": ""
            },
            "type": "mesh3d"
           }
          ],
          "parcoords": [
           {
            "line": {
             "colorbar": {
              "outlinewidth": 0,
              "ticks": ""
             }
            },
            "type": "parcoords"
           }
          ],
          "pie": [
           {
            "automargin": true,
            "type": "pie"
           }
          ],
          "scatter": [
           {
            "marker": {
             "colorbar": {
              "outlinewidth": 0,
              "ticks": ""
             }
            },
            "type": "scatter"
           }
          ],
          "scatter3d": [
           {
            "line": {
             "colorbar": {
              "outlinewidth": 0,
              "ticks": ""
             }
            },
            "marker": {
             "colorbar": {
              "outlinewidth": 0,
              "ticks": ""
             }
            },
            "type": "scatter3d"
           }
          ],
          "scattercarpet": [
           {
            "marker": {
             "colorbar": {
              "outlinewidth": 0,
              "ticks": ""
             }
            },
            "type": "scattercarpet"
           }
          ],
          "scattergeo": [
           {
            "marker": {
             "colorbar": {
              "outlinewidth": 0,
              "ticks": ""
             }
            },
            "type": "scattergeo"
           }
          ],
          "scattergl": [
           {
            "marker": {
             "colorbar": {
              "outlinewidth": 0,
              "ticks": ""
             }
            },
            "type": "scattergl"
           }
          ],
          "scattermapbox": [
           {
            "marker": {
             "colorbar": {
              "outlinewidth": 0,
              "ticks": ""
             }
            },
            "type": "scattermapbox"
           }
          ],
          "scatterpolar": [
           {
            "marker": {
             "colorbar": {
              "outlinewidth": 0,
              "ticks": ""
             }
            },
            "type": "scatterpolar"
           }
          ],
          "scatterpolargl": [
           {
            "marker": {
             "colorbar": {
              "outlinewidth": 0,
              "ticks": ""
             }
            },
            "type": "scatterpolargl"
           }
          ],
          "scatterternary": [
           {
            "marker": {
             "colorbar": {
              "outlinewidth": 0,
              "ticks": ""
             }
            },
            "type": "scatterternary"
           }
          ],
          "surface": [
           {
            "colorbar": {
             "outlinewidth": 0,
             "ticks": ""
            },
            "colorscale": [
             [
              0,
              "#0d0887"
             ],
             [
              0.1111111111111111,
              "#46039f"
             ],
             [
              0.2222222222222222,
              "#7201a8"
             ],
             [
              0.3333333333333333,
              "#9c179e"
             ],
             [
              0.4444444444444444,
              "#bd3786"
             ],
             [
              0.5555555555555556,
              "#d8576b"
             ],
             [
              0.6666666666666666,
              "#ed7953"
             ],
             [
              0.7777777777777778,
              "#fb9f3a"
             ],
             [
              0.8888888888888888,
              "#fdca26"
             ],
             [
              1,
              "#f0f921"
             ]
            ],
            "type": "surface"
           }
          ],
          "table": [
           {
            "cells": {
             "fill": {
              "color": "#EBF0F8"
             },
             "line": {
              "color": "white"
             }
            },
            "header": {
             "fill": {
              "color": "#C8D4E3"
             },
             "line": {
              "color": "white"
             }
            },
            "type": "table"
           }
          ]
         },
         "layout": {
          "annotationdefaults": {
           "arrowcolor": "#2a3f5f",
           "arrowhead": 0,
           "arrowwidth": 1
          },
          "autotypenumbers": "strict",
          "coloraxis": {
           "colorbar": {
            "outlinewidth": 0,
            "ticks": ""
           }
          },
          "colorscale": {
           "diverging": [
            [
             0,
             "#8e0152"
            ],
            [
             0.1,
             "#c51b7d"
            ],
            [
             0.2,
             "#de77ae"
            ],
            [
             0.3,
             "#f1b6da"
            ],
            [
             0.4,
             "#fde0ef"
            ],
            [
             0.5,
             "#f7f7f7"
            ],
            [
             0.6,
             "#e6f5d0"
            ],
            [
             0.7,
             "#b8e186"
            ],
            [
             0.8,
             "#7fbc41"
            ],
            [
             0.9,
             "#4d9221"
            ],
            [
             1,
             "#276419"
            ]
           ],
           "sequential": [
            [
             0,
             "#0d0887"
            ],
            [
             0.1111111111111111,
             "#46039f"
            ],
            [
             0.2222222222222222,
             "#7201a8"
            ],
            [
             0.3333333333333333,
             "#9c179e"
            ],
            [
             0.4444444444444444,
             "#bd3786"
            ],
            [
             0.5555555555555556,
             "#d8576b"
            ],
            [
             0.6666666666666666,
             "#ed7953"
            ],
            [
             0.7777777777777778,
             "#fb9f3a"
            ],
            [
             0.8888888888888888,
             "#fdca26"
            ],
            [
             1,
             "#f0f921"
            ]
           ],
           "sequentialminus": [
            [
             0,
             "#0d0887"
            ],
            [
             0.1111111111111111,
             "#46039f"
            ],
            [
             0.2222222222222222,
             "#7201a8"
            ],
            [
             0.3333333333333333,
             "#9c179e"
            ],
            [
             0.4444444444444444,
             "#bd3786"
            ],
            [
             0.5555555555555556,
             "#d8576b"
            ],
            [
             0.6666666666666666,
             "#ed7953"
            ],
            [
             0.7777777777777778,
             "#fb9f3a"
            ],
            [
             0.8888888888888888,
             "#fdca26"
            ],
            [
             1,
             "#f0f921"
            ]
           ]
          },
          "colorway": [
           "#636efa",
           "#EF553B",
           "#00cc96",
           "#ab63fa",
           "#FFA15A",
           "#19d3f3",
           "#FF6692",
           "#B6E880",
           "#FF97FF",
           "#FECB52"
          ],
          "font": {
           "color": "#2a3f5f"
          },
          "geo": {
           "bgcolor": "white",
           "lakecolor": "white",
           "landcolor": "#E5ECF6",
           "showlakes": true,
           "showland": true,
           "subunitcolor": "white"
          },
          "hoverlabel": {
           "align": "left"
          },
          "hovermode": "closest",
          "mapbox": {
           "style": "light"
          },
          "paper_bgcolor": "white",
          "plot_bgcolor": "#E5ECF6",
          "polar": {
           "angularaxis": {
            "gridcolor": "white",
            "linecolor": "white",
            "ticks": ""
           },
           "bgcolor": "#E5ECF6",
           "radialaxis": {
            "gridcolor": "white",
            "linecolor": "white",
            "ticks": ""
           }
          },
          "scene": {
           "xaxis": {
            "backgroundcolor": "#E5ECF6",
            "gridcolor": "white",
            "gridwidth": 2,
            "linecolor": "white",
            "showbackground": true,
            "ticks": "",
            "zerolinecolor": "white"
           },
           "yaxis": {
            "backgroundcolor": "#E5ECF6",
            "gridcolor": "white",
            "gridwidth": 2,
            "linecolor": "white",
            "showbackground": true,
            "ticks": "",
            "zerolinecolor": "white"
           },
           "zaxis": {
            "backgroundcolor": "#E5ECF6",
            "gridcolor": "white",
            "gridwidth": 2,
            "linecolor": "white",
            "showbackground": true,
            "ticks": "",
            "zerolinecolor": "white"
           }
          },
          "shapedefaults": {
           "line": {
            "color": "#2a3f5f"
           }
          },
          "ternary": {
           "aaxis": {
            "gridcolor": "white",
            "linecolor": "white",
            "ticks": ""
           },
           "baxis": {
            "gridcolor": "white",
            "linecolor": "white",
            "ticks": ""
           },
           "bgcolor": "#E5ECF6",
           "caxis": {
            "gridcolor": "white",
            "linecolor": "white",
            "ticks": ""
           }
          },
          "title": {
           "x": 0.05
          },
          "xaxis": {
           "automargin": true,
           "gridcolor": "white",
           "linecolor": "white",
           "ticks": "",
           "title": {
            "standoff": 15
           },
           "zerolinecolor": "white",
           "zerolinewidth": 2
          },
          "yaxis": {
           "automargin": true,
           "gridcolor": "white",
           "linecolor": "white",
           "ticks": "",
           "title": {
            "standoff": 15
           },
           "zerolinecolor": "white",
           "zerolinewidth": 2
          }
         }
        },
        "xaxis": {
         "anchor": "y",
         "autorange": true,
         "domain": [
          0,
          1
         ],
         "range": [
          17.70801282051282,
          45.191987179487185
         ],
         "title": {
          "text": "obesity_data"
         },
         "type": "linear"
        },
        "yaxis": {
         "anchor": "x",
         "autorange": true,
         "domain": [
          0,
          1
         ],
         "range": [
          0.241118953694758,
          1.7027357325154087
         ],
         "title": {
          "text": "gyms_per_100k"
         },
         "type": "linear"
        }
       }
      },
      "image/png": "[encoded data removed]",
      "text/html": [
       "<div>                            <div id=\"cf0b4ee7-d3ab-49db-87bf-381f0c074977\" class=\"plotly-graph-div\" style=\"height:525px; width:100%;\"></div>            <script type=\"text/javascript\">                require([\"plotly\"], function(Plotly) {                    window.PLOTLYENV=window.PLOTLYENV || {};                                    if (document.getElementById(\"cf0b4ee7-d3ab-49db-87bf-381f0c074977\")) {                    Plotly.newPlot(                        \"cf0b4ee7-d3ab-49db-87bf-381f0c074977\",                        [{\"hovertemplate\":\"stratificationid1=AGEYR65PLUS<br>obesity_data=%{x}<br>gyms_per_100k=%{y}<extra></extra>\",\"legendgroup\":\"AGEYR65PLUS\",\"marker\":{\"color\":\"#636efa\",\"symbol\":\"circle\"},\"mode\":\"markers\",\"name\":\"AGEYR65PLUS\",\"orientation\":\"v\",\"showlegend\":true,\"x\":[41.1,36.6,36.7,36.1,40.5,39.4,33.2,38.4,null,37.2,39.3,35.4,37.7,39.3,36.7,37.7,41.3,38.5,38.6,38.4,38.5,35.3,36.0,38.4,36.2,39.4,37.4,38.2,40.6,42.5,41.0,38.2,41.3,36.6,42.3,35.7,37.4,36.6,38.9,36.4,38.2,35.6,38.8,39.1,39.4,37.5,40.3,38.8,37.8,43.7,39.4,35.2],\"xaxis\":\"x\",\"y\":[1.470900801714482,0.3391137150020516,0.6911339607677808,0.7042412440580931,0.5690255224543398,0.7750064498892046,0.42508030475423986,0.5248916754804728,0.7263335052477828,0.596636467089929,1.1896984303089893,0.5812526803961919,0.35313926682637975,0.9538212224268169,0.8351600030609586,0.46782400086828135,0.7418034077343738,0.7556276744926338,0.43668694349707643,0.9060905475594302,0.8911712663954234,0.8104435471722004,0.7313724806906909,0.7754310362653586,0.915382706966319,0.5835278998418982,0.6137889358406425,0.8927163274840576,1.0269428732218484,0.7760821440484603,0.46967555438936853,0.6560819558834091,0.7142495380104125,0.8012961766954225,0.8556448353390324,0.586564925894039,0.48339472066656436,0.8057886062834053,0.3917037153097397,0.6339003572028513,1.0377846159369497,0.8201819436945096,0.6869979118698469,1.0154672059162055,0.7728107698908893,0.8005709106625968,0.5904073393883658,0.514217948972557,0.7939553532439693,1.604740971208115,0.5646829180659532,0.6958702420700615],\"yaxis\":\"y\",\"type\":\"scatter\"},{\"hovertemplate\":\"<b>OLS trendline</b><br>gyms_per_100k = 0.0449439 * obesity_data + -0.983069<br>R<sup>2</sup>=0.145304<br><br>stratificationid1=AGEYR65PLUS<br>obesity_data=%{x}<br>gyms_per_100k=%{y} <b>(trend)</b><extra></extra>\",\"legendgroup\":\"AGEYR65PLUS\",\"marker\":{\"color\":\"#636efa\",\"symbol\":\"circle\"},\"mode\":\"lines\",\"name\":\"AGEYR65PLUS\",\"showlegend\":false,\"x\":[33.2,35.2,35.3,35.4,35.6,35.7,36.0,36.1,36.2,36.4,36.6,36.6,36.6,36.7,36.7,37.2,37.4,37.4,37.5,37.7,37.7,37.8,38.2,38.2,38.2,38.4,38.4,38.4,38.5,38.5,38.6,38.8,38.8,38.9,39.1,39.3,39.3,39.4,39.4,39.4,39.4,40.3,40.5,40.6,41.0,41.1,41.3,41.3,42.3,42.5,43.7],\"xaxis\":\"x\",\"y\":[0.5090693786299456,0.5989572348916994,0.6034516277047868,0.6079460205178746,0.61693480614405,0.6214291989571377,0.6349123773964007,0.6394067702094883,0.6439011630225762,0.6528899486487514,0.6618787342749268,0.6618787342749268,0.6618787342749268,0.6663731270880147,0.6663731270880147,0.6888450911534529,0.6978338767796282,0.6978338767796282,0.702328269592716,0.7113170552188914,0.7113170552188914,0.7158114480319788,0.7337890192843299,0.7337890192843299,0.7337890192843299,0.7427778049105049,0.7427778049105049,0.7427778049105049,0.7472721977235928,0.7472721977235928,0.7517665905366806,0.7607553761628556,0.7607553761628556,0.7652497689759434,0.7742385546021189,0.7832273402282941,0.7832273402282941,0.7877217330413819,0.7877217330413819,0.7877217330413819,0.7877217330413819,0.8281712683591709,0.8371600539853463,0.8416544467984342,0.8596320180507848,0.8641264108638727,0.8731151964900477,0.8731151964900477,0.9180591246209246,0.9270479102471001,0.9809806240041523],\"yaxis\":\"y\",\"type\":\"scatter\"},{\"hovertemplate\":\"stratificationid1=AGEYR3544<br>obesity_data=%{x}<br>gyms_per_100k=%{y}<extra></extra>\",\"legendgroup\":\"AGEYR3544\",\"marker\":{\"color\":\"#EF553B\",\"symbol\":\"circle\"},\"mode\":\"markers\",\"name\":\"AGEYR3544\",\"orientation\":\"v\",\"showlegend\":true,\"x\":[34.2,36.1,38.8,37.5,37.5,31.8,31.1,34.0,null,35.7,31.9,30.7,36.3,34.4,35.2,35.2,29.6,37.1,37.4,33.5,35.6,31.1,33.8,35.3,32.5,34.6,32.0,31.1,35.5,33.6,38.0,33.0,36.3,31.1,38.2,30.9,37.4,32.8,35.9,34.6,38.0,36.9,35.4,30.8,39.4,36.4,35.6,35.9,35.8,36.1,38.0,32.1],\"xaxis\":\"x\",\"y\":[1.470900801714482,0.3391137150020516,0.6911339607677808,0.7042412440580931,0.5690255224543398,0.7750064498892046,0.42508030475423986,0.5248916754804728,0.7263335052477828,0.596636467089929,1.1896984303089893,0.5812526803961919,0.35313926682637975,0.9538212224268169,0.8351600030609586,0.46782400086828135,0.7418034077343738,0.7556276744926338,0.43668694349707643,0.9060905475594302,0.8911712663954234,0.8104435471722004,0.7313724806906909,0.7754310362653586,0.915382706966319,0.5835278998418982,0.6137889358406425,0.8927163274840576,1.0269428732218484,0.7760821440484603,0.46967555438936853,0.6560819558834091,0.7142495380104125,0.8012961766954225,0.8556448353390324,0.586564925894039,0.48339472066656436,0.8057886062834053,0.3917037153097397,0.6339003572028513,1.0377846159369497,0.8201819436945096,0.6869979118698469,1.0154672059162055,0.7728107698908893,0.8005709106625968,0.5904073393883658,0.514217948972557,0.7939553532439693,1.604740971208115,0.5646829180659532,0.6958702420700615],\"yaxis\":\"y\",\"type\":\"scatter\"},{\"hovertemplate\":\"<b>OLS trendline</b><br>gyms_per_100k = -0.0129304 * obesity_data + 1.18704<br>R<sup>2</sup>=0.017042<br><br>stratificationid1=AGEYR3544<br>obesity_data=%{x}<br>gyms_per_100k=%{y} <b>(trend)</b><extra></extra>\",\"legendgroup\":\"AGEYR3544\",\"marker\":{\"color\":\"#EF553B\",\"symbol\":\"circle\"},\"mode\":\"lines\",\"name\":\"AGEYR3544\",\"showlegend\":false,\"x\":[29.6,30.7,30.8,30.9,31.1,31.1,31.1,31.1,31.8,31.9,32.0,32.1,32.5,32.8,33.0,33.5,33.6,33.8,34.0,34.2,34.4,34.6,34.6,35.2,35.2,35.3,35.4,35.5,35.6,35.6,35.7,35.8,35.9,35.9,36.1,36.1,36.3,36.3,36.4,36.9,37.1,37.4,37.4,37.5,37.5,38.0,38.0,38.0,38.2,38.8,39.4],\"xaxis\":\"x\",\"y\":[0.804295057784006,0.7900715839820617,0.7887785409091577,0.7874854978362535,0.7848994116904455,0.7848994116904455,0.7848994116904455,0.7848994116904455,0.7758481101801173,0.7745550671072132,0.7732620240343092,0.7719689809614052,0.766796808669789,0.762917679451077,0.7603315933052689,0.7538663779407486,0.7525733348678447,0.7499872487220367,0.7474011625762285,0.7448150764304204,0.7422289902846124,0.7396429041388043,0.7396429041388043,0.7318846457013801,0.7318846457013801,0.7305916026284761,0.7292985595555721,0.728005516482668,0.726712473409764,0.726712473409764,0.72541943033686,0.724126387263956,0.7228333441910519,0.7228333441910519,0.7202472580452437,0.7202472580452437,0.7176611718994358,0.7176611718994358,0.7163681288265318,0.7099029134620116,0.7073168273162034,0.7034376980974913,0.7034376980974913,0.7021446550245873,0.7021446550245873,0.6956794396600672,0.6956794396600672,0.6956794396600672,0.693093353514259,0.6853350950768349,0.6775768366394107],\"yaxis\":\"y\",\"type\":\"scatter\"},{\"hovertemplate\":\"stratificationid1=AGEYR4554<br>obesity_data=%{x}<br>gyms_per_100k=%{y}<extra></extra>\",\"legendgroup\":\"AGEYR4554\",\"marker\":{\"color\":\"#00cc96\",\"symbol\":\"circle\"},\"mode\":\"markers\",\"name\":\"AGEYR4554\",\"orientation\":\"v\",\"showlegend\":true,\"x\":[33.8,38.7,37.7,36.6,32.8,33.8,34.2,37.0,null,31.1,36.3,33.2,35.7,33.0,31.3,35.8,34.2,40.5,36.3,32.9,34.8,32.3,31.2,36.0,33.3,35.3,35.1,36.4,33.9,37.1,39.1,34.3,37.0,34.8,41.8,32.9,43.4,32.4,37.1,33.9,40.9,31.6,33.6,33.8,33.3,34.8,36.4,35.1,34.3,36.9,39.7,32.2],\"xaxis\":\"x\",\"y\":[1.470900801714482,0.3391137150020516,0.6911339607677808,0.7042412440580931,0.5690255224543398,0.7750064498892046,0.42508030475423986,0.5248916754804728,0.7263335052477828,0.596636467089929,1.1896984303089893,0.5812526803961919,0.35313926682637975,0.9538212224268169,0.8351600030609586,0.46782400086828135,0.7418034077343738,0.7556276744926338,0.43668694349707643,0.9060905475594302,0.8911712663954234,0.8104435471722004,0.7313724806906909,0.7754310362653586,0.915382706966319,0.5835278998418982,0.6137889358406425,0.8927163274840576,1.0269428732218484,0.7760821440484603,0.46967555438936853,0.6560819558834091,0.7142495380104125,0.8012961766954225,0.8556448353390324,0.586564925894039,0.48339472066656436,0.8057886062834053,0.3917037153097397,0.6339003572028513,1.0377846159369497,0.8201819436945096,0.6869979118698469,1.0154672059162055,0.7728107698908893,0.8005709106625968,0.5904073393883658,0.514217948972557,0.7939553532439693,1.604740971208115,0.5646829180659532,0.6958702420700615],\"yaxis\":\"y\",\"type\":\"scatter\"},{\"hovertemplate\":\"<b>OLS trendline</b><br>gyms_per_100k = -0.0117218 * obesity_data + 1.15146<br>R<sup>2</sup>=0.017118<br><br>stratificationid1=AGEYR4554<br>obesity_data=%{x}<br>gyms_per_100k=%{y} <b>(trend)</b><extra></extra>\",\"legendgroup\":\"AGEYR4554\",\"marker\":{\"color\":\"#00cc96\",\"symbol\":\"circle\"},\"mode\":\"lines\",\"name\":\"AGEYR4554\",\"showlegend\":false,\"x\":[31.1,31.2,31.3,31.6,32.2,32.3,32.4,32.8,32.9,32.9,33.0,33.2,33.3,33.3,33.6,33.8,33.8,33.8,33.9,33.9,34.2,34.2,34.3,34.3,34.8,34.8,34.8,35.1,35.1,35.3,35.7,35.8,36.0,36.3,36.3,36.4,36.4,36.6,36.9,37.0,37.0,37.1,37.1,37.7,38.7,39.1,39.7,40.5,40.9,41.8,43.4],\"xaxis\":\"x\",\"y\":[0.7869134796979989,0.7857412991772987,0.7845691186565984,0.7810525770944976,0.7740194939702962,0.772847313449596,0.7716751329288958,0.7669864108460948,0.7658142303253945,0.7658142303253945,0.7646420498046942,0.7622976887632937,0.7611255082425936,0.7611255082425936,0.7576089666804928,0.7552646056390924,0.7552646056390924,0.7552646056390924,0.754092425118392,0.754092425118392,0.7505758835562912,0.7505758835562912,0.7494037030355911,0.7494037030355911,0.7435428004320899,0.7435428004320899,0.7435428004320899,0.7400262588699891,0.7400262588699891,0.7376818978285886,0.7329931757457876,0.7318209952250874,0.7294766341836869,0.7259600926215862,0.7259600926215862,0.724787912100886,0.724787912100886,0.7224435510594854,0.7189270094973848,0.7177548289766844,0.7177548289766844,0.7165826484559842,0.7165826484559842,0.7095495653317827,0.6978277601247802,0.6931390380419793,0.6861059549177778,0.6767285107521759,0.672039788669375,0.6614901639830728,0.6427352756518688],\"yaxis\":\"y\",\"type\":\"scatter\"},{\"hovertemplate\":\"stratificationid1=AGEYR1824<br>obesity_data=%{x}<br>gyms_per_100k=%{y}<extra></extra>\",\"legendgroup\":\"AGEYR1824\",\"marker\":{\"color\":\"#ab63fa\",\"symbol\":\"circle\"},\"mode\":\"markers\",\"name\":\"AGEYR1824\",\"orientation\":\"v\",\"showlegend\":true,\"x\":[28.7,28.0,27.2,24.4,23.4,28.5,20.4,28.4,null,28.4,21.7,19.2,25.9,25.9,31.2,28.6,27.1,29.6,20.3,25.2,24.1,28.1,26.3,26.3,29.1,28.4,27.5,25.8,22.5,22.5,26.0,25.7,24.7,22.6,25.5,21.5,24.6,23.1,29.6,28.0,22.5,27.9,21.7,20.8,25.8,26.2,24.0,25.5,23.2,22.6,21.6,22.7],\"xaxis\":\"x\",\"y\":[1.470900801714482,0.3391137150020516,0.6911339607677808,0.7042412440580931,0.5690255224543398,0.7750064498892046,0.42508030475423986,0.5248916754804728,0.7263335052477828,0.596636467089929,1.1896984303089893,0.5812526803961919,0.35313926682637975,0.9538212224268169,0.8351600030609586,0.46782400086828135,0.7418034077343738,0.7556276744926338,0.43668694349707643,0.9060905475594302,0.8911712663954234,0.8104435471722004,0.7313724806906909,0.7754310362653586,0.915382706966319,0.5835278998418982,0.6137889358406425,0.8927163274840576,1.0269428732218484,0.7760821440484603,0.46967555438936853,0.6560819558834091,0.7142495380104125,0.8012961766954225,0.8556448353390324,0.586564925894039,0.48339472066656436,0.8057886062834053,0.3917037153097397,0.6339003572028513,1.0377846159369497,0.8201819436945096,0.6869979118698469,1.0154672059162055,0.7728107698908893,0.8005709106625968,0.5904073393883658,0.514217948972557,0.7939553532439693,1.604740971208115,0.5646829180659532,0.6958702420700615],\"yaxis\":\"y\",\"type\":\"scatter\"},{\"hovertemplate\":\"<b>OLS trendline</b><br>gyms_per_100k = -0.00684538 * obesity_data + 0.910789<br>R<sup>2</sup>=0.006319<br><br>stratificationid1=AGEYR1824<br>obesity_data=%{x}<br>gyms_per_100k=%{y} <b>(trend)</b><extra></extra>\",\"legendgroup\":\"AGEYR1824\",\"marker\":{\"color\":\"#ab63fa\",\"symbol\":\"circle\"},\"mode\":\"lines\",\"name\":\"AGEYR1824\",\"showlegend\":false,\"x\":[19.2,20.3,20.4,20.8,21.5,21.6,21.7,21.7,22.5,22.5,22.5,22.6,22.6,22.7,23.1,23.2,23.4,24.0,24.1,24.4,24.6,24.7,25.2,25.5,25.5,25.7,25.8,25.8,25.9,25.9,26.0,26.2,26.3,26.3,27.1,27.2,27.5,27.9,28.0,28.0,28.1,28.4,28.4,28.4,28.5,28.6,28.7,29.1,29.6,29.6,31.2],\"xaxis\":\"x\",\"y\":[0.7793579960486636,0.7718280790744094,0.771143541167659,0.7684053895406575,0.7636136241934047,0.7629290862866543,0.762244548379904,0.762244548379904,0.7567682451259009,0.7567682451259009,0.7567682451259009,0.7560837072191505,0.7560837072191505,0.7553991693124001,0.7526610176853986,0.7519764797786482,0.7506074039651475,0.7465001765246452,0.7458156386178948,0.7437620248976436,0.7423929490841428,0.7417084111773925,0.7382857216436405,0.7362321079233893,0.7362321079233893,0.7348630321098886,0.7341784942031382,0.7341784942031382,0.7334939562963878,0.7334939562963878,0.7328094183896374,0.7314403425761367,0.7307558046693863,0.7307558046693863,0.7252795014153832,0.7245949635086328,0.7225413497883817,0.7198031981613802,0.7191186602546298,0.7191186602546298,0.7184341223478794,0.7163805086276283,0.7163805086276283,0.7163805086276283,0.7156959707208779,0.7150114328141275,0.7143268949073771,0.7115887432803756,0.7081660537466237,0.7081660537466237,0.6972134472386174],\"yaxis\":\"y\",\"type\":\"scatter\"},{\"hovertemplate\":\"stratificationid1=AGEYR5564<br>obesity_data=%{x}<br>gyms_per_100k=%{y}<extra></extra>\",\"legendgroup\":\"AGEYR5564\",\"marker\":{\"color\":\"#FFA15A\",\"symbol\":\"circle\"},\"mode\":\"markers\",\"name\":\"AGEYR5564\",\"orientation\":\"v\",\"showlegend\":true,\"x\":[37.1,36.3,41.4,38.0,37.8,32.7,33.5,37.1,null,36.9,37.9,35.9,39.6,39.1,38.0,37.6,37.7,37.0,34.9,33.9,36.0,33.4,31.7,35.6,35.3,34.1,32.7,35.9,37.6,42.1,36.1,34.2,41.7,33.9,39.7,35.9,38.7,34.7,37.4,38.0,36.8,36.7,36.3,35.4,29.5,35.8,39.8,37.1,33.5,39.0,36.4,33.2],\"xaxis\":\"x\",\"y\":[1.470900801714482,0.3391137150020516,0.6911339607677808,0.7042412440580931,0.5690255224543398,0.7750064498892046,0.42508030475423986,0.5248916754804728,0.7263335052477828,0.596636467089929,1.1896984303089893,0.5812526803961919,0.35313926682637975,0.9538212224268169,0.8351600030609586,0.46782400086828135,0.7418034077343738,0.7556276744926338,0.43668694349707643,0.9060905475594302,0.8911712663954234,0.8104435471722004,0.7313724806906909,0.7754310362653586,0.915382706966319,0.5835278998418982,0.6137889358406425,0.8927163274840576,1.0269428732218484,0.7760821440484603,0.46967555438936853,0.6560819558834091,0.7142495380104125,0.8012961766954225,0.8556448353390324,0.586564925894039,0.48339472066656436,0.8057886062834053,0.3917037153097397,0.6339003572028513,1.0377846159369497,0.8201819436945096,0.6869979118698469,1.0154672059162055,0.7728107698908893,0.8005709106625968,0.5904073393883658,0.514217948972557,0.7939553532439693,1.604740971208115,0.5646829180659532,0.6958702420700615],\"yaxis\":\"y\",\"type\":\"scatter\"},{\"hovertemplate\":\"<b>OLS trendline</b><br>gyms_per_100k = 0.00552504 * obesity_data + 0.53671<br>R<sup>2</sup>=0.003189<br><br>stratificationid1=AGEYR5564<br>obesity_data=%{x}<br>gyms_per_100k=%{y} <b>(trend)</b><extra></extra>\",\"legendgroup\":\"AGEYR5564\",\"marker\":{\"color\":\"#FFA15A\",\"symbol\":\"circle\"},\"mode\":\"lines\",\"name\":\"AGEYR5564\",\"showlegend\":false,\"x\":[29.5,31.7,32.7,32.7,33.2,33.4,33.5,33.5,33.9,33.9,34.1,34.2,34.7,34.9,35.3,35.4,35.6,35.8,35.9,35.9,35.9,36.0,36.1,36.3,36.3,36.4,36.7,36.8,36.9,37.0,37.1,37.1,37.1,37.4,37.6,37.6,37.7,37.8,37.9,38.0,38.0,38.0,38.7,39.0,39.1,39.6,39.7,39.8,41.4,41.7,42.1],\"xaxis\":\"x\",\"y\":[0.6996983170729845,0.7118534131843094,0.7173784568712752,0.7173784568712752,0.7201409787147581,0.7212459874521513,0.721798491820848,0.721798491820848,0.7240085092956343,0.7240085092956343,0.7251135180330275,0.7256660224017241,0.728428544245207,0.7295335529826001,0.7317435704573865,0.732296074826083,0.7334010835634762,0.7345060923008694,0.735058596669566,0.735058596669566,0.735058596669566,0.7356111010382625,0.7361636054069591,0.7372686141443523,0.7372686141443523,0.7378211185130489,0.7394786316191386,0.7400311359878352,0.7405836403565318,0.7411361447252284,0.741688649093925,0.741688649093925,0.741688649093925,0.7433461622000147,0.744451170937408,0.744451170937408,0.7450036753061045,0.745556179674801,0.7461086840434976,0.7466611884121943,0.7466611884121943,0.7466611884121943,0.7505287189930704,0.7521862320991601,0.7527387364678567,0.7555012583113396,0.7560537626800362,0.7566062670487328,0.7654463369478781,0.767103850053968,0.7693138675287543],\"yaxis\":\"y\",\"type\":\"scatter\"},{\"hovertemplate\":\"stratificationid1=AGEYR2534<br>obesity_data=%{x}<br>gyms_per_100k=%{y}<extra></extra>\",\"legendgroup\":\"AGEYR2534\",\"marker\":{\"color\":\"#19d3f3\",\"symbol\":\"circle\"},\"mode\":\"markers\",\"name\":\"AGEYR2534\",\"orientation\":\"v\",\"showlegend\":true,\"x\":[31.4,24.7,37.9,31.2,29.8,21.1,29.1,32.9,null,31.5,30.8,36.7,32.0,36.1,31.8,31.2,32.9,34.8,32.0,32.8,31.6,33.1,31.9,35.7,30.9,32.1,28.1,29.5,31.2,35.6,34.0,34.9,30.6,28.5,31.3,30.2,33.6,27.9,34.2,32.6,31.2,34.1,36.2,30.9,30.1,31.7,33.0,32.1,33.6,32.8,31.8,31.5],\"xaxis\":\"x\",\"y\":[1.470900801714482,0.3391137150020516,0.6911339607677808,0.7042412440580931,0.5690255224543398,0.7750064498892046,0.42508030475423986,0.5248916754804728,0.7263335052477828,0.596636467089929,1.1896984303089893,0.5812526803961919,0.35313926682637975,0.9538212224268169,0.8351600030609586,0.46782400086828135,0.7418034077343738,0.7556276744926338,0.43668694349707643,0.9060905475594302,0.8911712663954234,0.8104435471722004,0.7313724806906909,0.7754310362653586,0.915382706966319,0.5835278998418982,0.6137889358406425,0.8927163274840576,1.0269428732218484,0.7760821440484603,0.46967555438936853,0.6560819558834091,0.7142495380104125,0.8012961766954225,0.8556448353390324,0.586564925894039,0.48339472066656436,0.8057886062834053,0.3917037153097397,0.6339003572028513,1.0377846159369497,0.8201819436945096,0.6869979118698469,1.0154672059162055,0.7728107698908893,0.8005709106625968,0.5904073393883658,0.514217948972557,0.7939553532439693,1.604740971208115,0.5646829180659532,0.6958702420700615],\"yaxis\":\"y\",\"type\":\"scatter\"},{\"hovertemplate\":\"<b>OLS trendline</b><br>gyms_per_100k = 0.00154094 * obesity_data + 0.688678<br>R<sup>2</sup>=0.000316<br><br>stratificationid1=AGEYR2534<br>obesity_data=%{x}<br>gyms_per_100k=%{y} <b>(trend)</b><extra></extra>\",\"legendgroup\":\"AGEYR2534\",\"marker\":{\"color\":\"#19d3f3\",\"symbol\":\"circle\"},\"mode\":\"lines\",\"name\":\"AGEYR2534\",\"showlegend\":false,\"x\":[21.1,24.7,27.9,28.1,28.5,29.1,29.5,29.8,30.1,30.2,30.6,30.8,30.9,30.9,31.2,31.2,31.2,31.2,31.3,31.4,31.5,31.5,31.6,31.7,31.8,31.8,31.9,32.0,32.0,32.1,32.1,32.6,32.8,32.8,32.9,32.9,33.0,33.1,33.6,33.6,34.0,34.1,34.2,34.8,34.9,35.6,35.7,36.1,36.2,36.7,37.9],\"xaxis\":\"x\",\"y\":[0.721191522966731,0.7267389223021669,0.7316699439336655,0.7319781327856341,0.7325945104895714,0.7335190770454774,0.7341354547494147,0.7345977380273677,0.7350600213053207,0.735214115731305,0.7358304934352423,0.736138682287211,0.7362927767131954,0.7362927767131954,0.7367550599911483,0.7367550599911483,0.7367550599911483,0.7367550599911483,0.7369091544171327,0.737063248843117,0.7372173432691014,0.7372173432691014,0.7373714376950856,0.73752553212107,0.7376796265470543,0.7376796265470543,0.7378337209730387,0.7379878153990229,0.7379878153990229,0.7381419098250073,0.7381419098250073,0.7389123819549289,0.7392205708068976,0.7392205708068976,0.739374665232882,0.739374665232882,0.7395287596588662,0.7396828540848506,0.7404533262147722,0.7404533262147722,0.7410697039187095,0.7412237983446939,0.7413778927706782,0.7423024593265842,0.7424565537525686,0.7435352147344588,0.7436893091604432,0.7443056868643805,0.7444597812903648,0.7452302534202865,0.7470793865320985],\"yaxis\":\"y\",\"type\":\"scatter\"}],                        {\"template\":{\"data\":{\"bar\":[{\"error_x\":{\"color\":\"#2a3f5f\"},\"error_y\":{\"color\":\"#2a3f5f\"},\"marker\":{\"line\":{\"color\":\"#E5ECF6\",\"width\":0.5},\"pattern\":{\"fillmode\":\"overlay\",\"size\":10,\"solidity\":0.2}},\"type\":\"bar\"}],\"barpolar\":[{\"marker\":{\"line\":{\"color\":\"#E5ECF6\",\"width\":0.5},\"pattern\":{\"fillmode\":\"overlay\",\"size\":10,\"solidity\":0.2}},\"type\":\"barpolar\"}],\"carpet\":[{\"aaxis\":{\"endlinecolor\":\"#2a3f5f\",\"gridcolor\":\"white\",\"linecolor\":\"white\",\"minorgridcolor\":\"white\",\"startlinecolor\":\"#2a3f5f\"},\"baxis\":{\"endlinecolor\":\"#2a3f5f\",\"gridcolor\":\"white\",\"linecolor\":\"white\",\"minorgridcolor\":\"white\",\"startlinecolor\":\"#2a3f5f\"},\"type\":\"carpet\"}],\"choropleth\":[{\"colorbar\":{\"outlinewidth\":0,\"ticks\":\"\"},\"type\":\"choropleth\"}],\"contour\":[{\"colorbar\":{\"outlinewidth\":0,\"ticks\":\"\"},\"colorscale\":[[0.0,\"#0d0887\"],[0.1111111111111111,\"#46039f\"],[0.2222222222222222,\"#7201a8\"],[0.3333333333333333,\"#9c179e\"],[0.4444444444444444,\"#bd3786\"],[0.5555555555555556,\"#d8576b\"],[0.6666666666666666,\"#ed7953\"],[0.7777777777777778,\"#fb9f3a\"],[0.8888888888888888,\"#fdca26\"],[1.0,\"#f0f921\"]],\"type\":\"contour\"}],\"contourcarpet\":[{\"colorbar\":{\"outlinewidth\":0,\"ticks\":\"\"},\"type\":\"contourcarpet\"}],\"heatmap\":[{\"colorbar\":{\"outlinewidth\":0,\"ticks\":\"\"},\"colorscale\":[[0.0,\"#0d0887\"],[0.1111111111111111,\"#46039f\"],[0.2222222222222222,\"#7201a8\"],[0.3333333333333333,\"#9c179e\"],[0.4444444444444444,\"#bd3786\"],[0.5555555555555556,\"#d8576b\"],[0.6666666666666666,\"#ed7953\"],[0.7777777777777778,\"#fb9f3a\"],[0.8888888888888888,\"#fdca26\"],[1.0,\"#f0f921\"]],\"type\":\"heatmap\"}],\"heatmapgl\":[{\"colorbar\":{\"outlinewidth\":0,\"ticks\":\"\"},\"colorscale\":[[0.0,\"#0d0887\"],[0.1111111111111111,\"#46039f\"],[0.2222222222222222,\"#7201a8\"],[0.3333333333333333,\"#9c179e\"],[0.4444444444444444,\"#bd3786\"],[0.5555555555555556,\"#d8576b\"],[0.6666666666666666,\"#ed7953\"],[0.7777777777777778,\"#fb9f3a\"],[0.8888888888888888,\"#fdca26\"],[1.0,\"#f0f921\"]],\"type\":\"heatmapgl\"}],\"histogram\":[{\"marker\":{\"pattern\":{\"fillmode\":\"overlay\",\"size\":10,\"solidity\":0.2}},\"type\":\"histogram\"}],\"histogram2d\":[{\"colorbar\":{\"outlinewidth\":0,\"ticks\":\"\"},\"colorscale\":[[0.0,\"#0d0887\"],[0.1111111111111111,\"#46039f\"],[0.2222222222222222,\"#7201a8\"],[0.3333333333333333,\"#9c179e\"],[0.4444444444444444,\"#bd3786\"],[0.5555555555555556,\"#d8576b\"],[0.6666666666666666,\"#ed7953\"],[0.7777777777777778,\"#fb9f3a\"],[0.8888888888888888,\"#fdca26\"],[1.0,\"#f0f921\"]],\"type\":\"histogram2d\"}],\"histogram2dcontour\":[{\"colorbar\":{\"outlinewidth\":0,\"ticks\":\"\"},\"colorscale\":[[0.0,\"#0d0887\"],[0.1111111111111111,\"#46039f\"],[0.2222222222222222,\"#7201a8\"],[0.3333333333333333,\"#9c179e\"],[0.4444444444444444,\"#bd3786\"],[0.5555555555555556,\"#d8576b\"],[0.6666666666666666,\"#ed7953\"],[0.7777777777777778,\"#fb9f3a\"],[0.8888888888888888,\"#fdca26\"],[1.0,\"#f0f921\"]],\"type\":\"histogram2dcontour\"}],\"mesh3d\":[{\"colorbar\":{\"outlinewidth\":0,\"ticks\":\"\"},\"type\":\"mesh3d\"}],\"parcoords\":[{\"line\":{\"colorbar\":{\"outlinewidth\":0,\"ticks\":\"\"}},\"type\":\"parcoords\"}],\"pie\":[{\"automargin\":true,\"type\":\"pie\"}],\"scatter\":[{\"marker\":{\"colorbar\":{\"outlinewidth\":0,\"ticks\":\"\"}},\"type\":\"scatter\"}],\"scatter3d\":[{\"line\":{\"colorbar\":{\"outlinewidth\":0,\"ticks\":\"\"}},\"marker\":{\"colorbar\":{\"outlinewidth\":0,\"ticks\":\"\"}},\"type\":\"scatter3d\"}],\"scattercarpet\":[{\"marker\":{\"colorbar\":{\"outlinewidth\":0,\"ticks\":\"\"}},\"type\":\"scattercarpet\"}],\"scattergeo\":[{\"marker\":{\"colorbar\":{\"outlinewidth\":0,\"ticks\":\"\"}},\"type\":\"scattergeo\"}],\"scattergl\":[{\"marker\":{\"colorbar\":{\"outlinewidth\":0,\"ticks\":\"\"}},\"type\":\"scattergl\"}],\"scattermapbox\":[{\"marker\":{\"colorbar\":{\"outlinewidth\":0,\"ticks\":\"\"}},\"type\":\"scattermapbox\"}],\"scatterpolar\":[{\"marker\":{\"colorbar\":{\"outlinewidth\":0,\"ticks\":\"\"}},\"type\":\"scatterpolar\"}],\"scatterpolargl\":[{\"marker\":{\"colorbar\":{\"outlinewidth\":0,\"ticks\":\"\"}},\"type\":\"scatterpolargl\"}],\"scatterternary\":[{\"marker\":{\"colorbar\":{\"outlinewidth\":0,\"ticks\":\"\"}},\"type\":\"scatterternary\"}],\"surface\":[{\"colorbar\":{\"outlinewidth\":0,\"ticks\":\"\"},\"colorscale\":[[0.0,\"#0d0887\"],[0.1111111111111111,\"#46039f\"],[0.2222222222222222,\"#7201a8\"],[0.3333333333333333,\"#9c179e\"],[0.4444444444444444,\"#bd3786\"],[0.5555555555555556,\"#d8576b\"],[0.6666666666666666,\"#ed7953\"],[0.7777777777777778,\"#fb9f3a\"],[0.8888888888888888,\"#fdca26\"],[1.0,\"#f0f921\"]],\"type\":\"surface\"}],\"table\":[{\"cells\":{\"fill\":{\"color\":\"#EBF0F8\"},\"line\":{\"color\":\"white\"}},\"header\":{\"fill\":{\"color\":\"#C8D4E3\"},\"line\":{\"color\":\"white\"}},\"type\":\"table\"}]},\"layout\":{\"annotationdefaults\":{\"arrowcolor\":\"#2a3f5f\",\"arrowhead\":0,\"arrowwidth\":1},\"autotypenumbers\":\"strict\",\"coloraxis\":{\"colorbar\":{\"outlinewidth\":0,\"ticks\":\"\"}},\"colorscale\":{\"diverging\":[[0,\"#8e0152\"],[0.1,\"#c51b7d\"],[0.2,\"#de77ae\"],[0.3,\"#f1b6da\"],[0.4,\"#fde0ef\"],[0.5,\"#f7f7f7\"],[0.6,\"#e6f5d0\"],[0.7,\"#b8e186\"],[0.8,\"#7fbc41\"],[0.9,\"#4d9221\"],[1,\"#276419\"]],\"sequential\":[[0.0,\"#0d0887\"],[0.1111111111111111,\"#46039f\"],[0.2222222222222222,\"#7201a8\"],[0.3333333333333333,\"#9c179e\"],[0.4444444444444444,\"#bd3786\"],[0.5555555555555556,\"#d8576b\"],[0.6666666666666666,\"#ed7953\"],[0.7777777777777778,\"#fb9f3a\"],[0.8888888888888888,\"#fdca26\"],[1.0,\"#f0f921\"]],\"sequentialminus\":[[0.0,\"#0d0887\"],[0.1111111111111111,\"#46039f\"],[0.2222222222222222,\"#7201a8\"],[0.3333333333333333,\"#9c179e\"],[0.4444444444444444,\"#bd3786\"],[0.5555555555555556,\"#d8576b\"],[0.6666666666666666,\"#ed7953\"],[0.7777777777777778,\"#fb9f3a\"],[0.8888888888888888,\"#fdca26\"],[1.0,\"#f0f921\"]]},\"colorway\":[\"#636efa\",\"#EF553B\",\"#00cc96\",\"#ab63fa\",\"#FFA15A\",\"#19d3f3\",\"#FF6692\",\"#B6E880\",\"#FF97FF\",\"#FECB52\"],\"font\":{\"color\":\"#2a3f5f\"},\"geo\":{\"bgcolor\":\"white\",\"lakecolor\":\"white\",\"landcolor\":\"#E5ECF6\",\"showlakes\":true,\"showland\":true,\"subunitcolor\":\"white\"},\"hoverlabel\":{\"align\":\"left\"},\"hovermode\":\"closest\",\"mapbox\":{\"style\":\"light\"},\"paper_bgcolor\":\"white\",\"plot_bgcolor\":\"#E5ECF6\",\"polar\":{\"angularaxis\":{\"gridcolor\":\"white\",\"linecolor\":\"white\",\"ticks\":\"\"},\"bgcolor\":\"#E5ECF6\",\"radialaxis\":{\"gridcolor\":\"white\",\"linecolor\":\"white\",\"ticks\":\"\"}},\"scene\":{\"xaxis\":{\"backgroundcolor\":\"#E5ECF6\",\"gridcolor\":\"white\",\"gridwidth\":2,\"linecolor\":\"white\",\"showbackground\":true,\"ticks\":\"\",\"zerolinecolor\":\"white\"},\"yaxis\":{\"backgroundcolor\":\"#E5ECF6\",\"gridcolor\":\"white\",\"gridwidth\":2,\"linecolor\":\"white\",\"showbackground\":true,\"ticks\":\"\",\"zerolinecolor\":\"white\"},\"zaxis\":{\"backgroundcolor\":\"#E5ECF6\",\"gridcolor\":\"white\",\"gridwidth\":2,\"linecolor\":\"white\",\"showbackground\":true,\"ticks\":\"\",\"zerolinecolor\":\"white\"}},\"shapedefaults\":{\"line\":{\"color\":\"#2a3f5f\"}},\"ternary\":{\"aaxis\":{\"gridcolor\":\"white\",\"linecolor\":\"white\",\"ticks\":\"\"},\"baxis\":{\"gridcolor\":\"white\",\"linecolor\":\"white\",\"ticks\":\"\"},\"bgcolor\":\"#E5ECF6\",\"caxis\":{\"gridcolor\":\"white\",\"linecolor\":\"white\",\"ticks\":\"\"}},\"title\":{\"x\":0.05},\"xaxis\":{\"automargin\":true,\"gridcolor\":\"white\",\"linecolor\":\"white\",\"ticks\":\"\",\"title\":{\"standoff\":15},\"zerolinecolor\":\"white\",\"zerolinewidth\":2},\"yaxis\":{\"automargin\":true,\"gridcolor\":\"white\",\"linecolor\":\"white\",\"ticks\":\"\",\"title\":{\"standoff\":15},\"zerolinecolor\":\"white\",\"zerolinewidth\":2}}},\"xaxis\":{\"anchor\":\"y\",\"domain\":[0.0,1.0],\"title\":{\"text\":\"obesity_data\"}},\"yaxis\":{\"anchor\":\"x\",\"domain\":[0.0,1.0],\"title\":{\"text\":\"gyms_per_100k\"}},\"legend\":{\"title\":{\"text\":\"stratificationid1\"},\"tracegroupgap\":0},\"margin\":{\"t\":60}},                        {\"responsive\": true}                    ).then(function(){\n",
       "                            \n",
       "var gd = document.getElementById('cf0b4ee7-d3ab-49db-87bf-381f0c074977');\n",
       "var x = new MutationObserver(function (mutations, observer) {{\n",
       "        var display = window.getComputedStyle(gd).display;\n",
       "        if (!display || display === 'none') {{\n",
       "            console.log([gd, 'removed!']);\n",
       "            Plotly.purge(gd);\n",
       "            observer.disconnect();\n",
       "        }}\n",
       "}});\n",
       "\n",
       "// Listen for the removal of the full notebook cells\n",
       "var notebookContainer = gd.closest('#notebook-container');\n",
       "if (notebookContainer) {{\n",
       "    x.observe(notebookContainer, {childList: true});\n",
       "}}\n",
       "\n",
       "// Listen for the clearing of the current output cell\n",
       "var outputEl = gd.closest('.output');\n",
       "if (outputEl) {{\n",
       "    x.observe(outputEl, {childList: true});\n",
       "}}\n",
       "\n",
       "                        })                };                });            </script>        </div>"
      ]
     },
     "metadata": {},
     "output_type": "display_data"
    }
   ],
   "source": [
    "px.scatter(agedf, y = 'gyms_per_100k', x = 'obesity_data', trendline = 'ols', color = 'stratificationid1')"
   ]
  },
  {
   "cell_type": "code",
   "execution_count": 109,
   "id": "02be6666-5640-4a50-8c30-ebd81790e72c",
   "metadata": {},
   "outputs": [
    {
     "data": {
      "application/vnd.plotly.v1+json": {
       "config": {
        "plotlyServerURL": "https://plot.ly"
       },
       "data": [
        {
         "hovertemplate": "stratificationid1=RACEHIS<br>obesity_data=%{x}<br>gyms_per_100k=%{y}<extra></extra>",
         "legendgroup": "RACEHIS",
         "marker": {
          "color": "#636efa",
          "symbol": "circle"
         },
         "mode": "markers",
         "name": "RACEHIS",
         "orientation": "v",
         "showlegend": true,
         "type": "scatter",
         "x": [
          16.8,
          31.8,
          33.9,
          37.4,
          31.9,
          36.6,
          25.5,
          38.8,
          null,
          32.3,
          32.2,
          31,
          35.2,
          35.5,
          39.2,
          22.4,
          34.7,
          39.1,
          33.9,
          32.6,
          33.3,
          37.5,
          36.5,
          41,
          39.4,
          38.3,
          33.2,
          25.6,
          30.4,
          35.7,
          36.3,
          35.7,
          36.3,
          30.2,
          39.8,
          26.5,
          39.6,
          33.9,
          34.1,
          36.4,
          37.6,
          33.2,
          35.3,
          35.8,
          null,
          36.2,
          36.9,
          36.1,
          39.5,
          38.1,
          36.7,
          29
         ],
         "xaxis": "x",
         "y": [
          1.470900801714482,
          0.3391137150020516,
          0.6911339607677808,
          0.7042412440580931,
          0.5690255224543398,
          0.7750064498892046,
          0.42508030475423986,
          0.5248916754804728,
          0.7263335052477828,
          0.596636467089929,
          1.1896984303089893,
          0.5812526803961919,
          0.35313926682637975,
          0.9538212224268169,
          0.8351600030609586,
          0.46782400086828135,
          0.7418034077343738,
          0.7556276744926338,
          0.43668694349707643,
          0.9060905475594302,
          0.8911712663954234,
          0.8104435471722004,
          0.7313724806906909,
          0.7754310362653586,
          0.915382706966319,
          0.5835278998418982,
          0.6137889358406425,
          0.8927163274840576,
          1.0269428732218484,
          0.7760821440484603,
          0.46967555438936853,
          0.6560819558834091,
          0.7142495380104125,
          0.8012961766954225,
          0.8556448353390324,
          0.586564925894039,
          0.48339472066656436,
          0.8057886062834053,
          0.3917037153097397,
          0.6339003572028513,
          1.0377846159369497,
          0.8201819436945096,
          0.6869979118698469,
          1.0154672059162055,
          0.7728107698908893,
          0.8005709106625968,
          0.5904073393883658,
          0.514217948972557,
          0.7939553532439693,
          1.604740971208115,
          0.5646829180659532,
          0.6958702420700615
         ],
         "yaxis": "y"
        },
        {
         "hovertemplate": "<b>OLS trendline</b><br>gyms_per_100k = -0.00419769 * obesity_data + 0.881116<br>R<sup>2</sup>=0.006260<br><br>stratificationid1=RACEHIS<br>obesity_data=%{x}<br>gyms_per_100k=%{y} <b>(trend)</b><extra></extra>",
         "legendgroup": "RACEHIS",
         "marker": {
          "color": "#636efa",
          "symbol": "circle"
         },
         "mode": "lines",
         "name": "RACEHIS",
         "showlegend": false,
         "type": "scatter",
         "x": [
          16.8,
          22.4,
          25.5,
          25.6,
          26.5,
          29,
          30.2,
          30.4,
          31,
          31.8,
          31.9,
          32.2,
          32.3,
          32.6,
          33.2,
          33.2,
          33.3,
          33.9,
          33.9,
          33.9,
          34.1,
          34.7,
          35.2,
          35.3,
          35.5,
          35.7,
          35.7,
          35.8,
          36.1,
          36.2,
          36.3,
          36.3,
          36.4,
          36.5,
          36.6,
          36.7,
          36.9,
          37.4,
          37.5,
          37.6,
          38.1,
          38.3,
          38.8,
          39.1,
          39.2,
          39.4,
          39.5,
          39.6,
          39.8,
          41
         ],
         "xaxis": "x",
         "y": [
          0.8105945742900137,
          0.7870875202080195,
          0.7740746866983441,
          0.7736549178754514,
          0.7698769984694166,
          0.7593827778970978,
          0.7543455520223847,
          0.7535060143765993,
          0.7509874014392427,
          0.7476292508561007,
          0.747209482033208,
          0.7459501755645297,
          0.745530406741637,
          0.7442711002729587,
          0.7417524873356022,
          0.7417524873356022,
          0.7413327185127094,
          0.7388141055753529,
          0.7388141055753529,
          0.7388141055753529,
          0.7379745679295674,
          0.7354559549922108,
          0.7333571108777471,
          0.7329373420548544,
          0.7320978044090689,
          0.7312582667632833,
          0.7312582667632833,
          0.7308384979403906,
          0.7295791914717124,
          0.7291594226488196,
          0.7287396538259269,
          0.7287396538259269,
          0.7283198850030341,
          0.7279001161801413,
          0.7274803473572485,
          0.7270605785343558,
          0.7262210408885703,
          0.7241221967741065,
          0.7237024279512138,
          0.723282659128321,
          0.7211838150138572,
          0.7203442773680717,
          0.718245433253608,
          0.7169861267849298,
          0.7165663579620369,
          0.7157268203162515,
          0.7153070514933587,
          0.714887282670466,
          0.7140477450246805,
          0.7090105191499674
         ],
         "yaxis": "y"
        },
        {
         "hovertemplate": "stratificationid1=RACE2PLUS<br>obesity_data=%{x}<br>gyms_per_100k=%{y}<extra></extra>",
         "legendgroup": "RACE2PLUS",
         "marker": {
          "color": "#EF553B",
          "symbol": "circle"
         },
         "mode": "markers",
         "name": "RACE2PLUS",
         "orientation": "v",
         "showlegend": true,
         "type": "scatter",
         "x": [
          41.8,
          48.7,
          51.4,
          40.4,
          29,
          35.3,
          24.7,
          59.2,
          null,
          24.4,
          41.6,
          31.3,
          37,
          27.1,
          23.2,
          42.2,
          null,
          31.2,
          26.2,
          25.4,
          30.2,
          29.1,
          31.2,
          28.4,
          30.5,
          31.2,
          23.3,
          20.3,
          29.7,
          25.8,
          null,
          36.3,
          29.8,
          27.4,
          33.6,
          32.4,
          37.8,
          24.5,
          43.7,
          33.9,
          34.6,
          25.8,
          33.4,
          24.5,
          null,
          32.8,
          26.1,
          31,
          32.4,
          29.7,
          27.8,
          26
         ],
         "xaxis": "x",
         "y": [
          1.470900801714482,
          0.3391137150020516,
          0.6911339607677808,
          0.7042412440580931,
          0.5690255224543398,
          0.7750064498892046,
          0.42508030475423986,
          0.5248916754804728,
          0.7263335052477828,
          0.596636467089929,
          1.1896984303089893,
          0.5812526803961919,
          0.35313926682637975,
          0.9538212224268169,
          0.8351600030609586,
          0.46782400086828135,
          0.7418034077343738,
          0.7556276744926338,
          0.43668694349707643,
          0.9060905475594302,
          0.8911712663954234,
          0.8104435471722004,
          0.7313724806906909,
          0.7754310362653586,
          0.915382706966319,
          0.5835278998418982,
          0.6137889358406425,
          0.8927163274840576,
          1.0269428732218484,
          0.7760821440484603,
          0.46967555438936853,
          0.6560819558834091,
          0.7142495380104125,
          0.8012961766954225,
          0.8556448353390324,
          0.586564925894039,
          0.48339472066656436,
          0.8057886062834053,
          0.3917037153097397,
          0.6339003572028513,
          1.0377846159369497,
          0.8201819436945096,
          0.6869979118698469,
          1.0154672059162055,
          0.7728107698908893,
          0.8005709106625968,
          0.5904073393883658,
          0.514217948972557,
          0.7939553532439693,
          1.604740971208115,
          0.5646829180659532,
          0.6958702420700615
         ],
         "yaxis": "y"
        },
        {
         "hovertemplate": "<b>OLS trendline</b><br>gyms_per_100k = -0.00520452 * obesity_data + 0.909955<br>R<sup>2</sup>=0.025652<br><br>stratificationid1=RACE2PLUS<br>obesity_data=%{x}<br>gyms_per_100k=%{y} <b>(trend)</b><extra></extra>",
         "legendgroup": "RACE2PLUS",
         "marker": {
          "color": "#EF553B",
          "symbol": "circle"
         },
         "mode": "lines",
         "name": "RACE2PLUS",
         "showlegend": false,
         "type": "scatter",
         "x": [
          20.3,
          23.2,
          23.3,
          24.4,
          24.5,
          24.5,
          24.7,
          25.4,
          25.8,
          25.8,
          26,
          26.1,
          26.2,
          27.1,
          27.4,
          27.8,
          28.4,
          29,
          29.1,
          29.7,
          29.7,
          29.8,
          30.2,
          30.5,
          31,
          31.2,
          31.2,
          31.2,
          31.3,
          32.4,
          32.4,
          32.8,
          33.4,
          33.6,
          33.9,
          34.6,
          35.3,
          36.3,
          37,
          37.8,
          40.4,
          41.6,
          41.8,
          42.2,
          43.7,
          48.7,
          51.4,
          59.2
         ],
         "xaxis": "x",
         "y": [
          0.8043029768684697,
          0.7892098732482994,
          0.788689421399328,
          0.7829644510606426,
          0.7824439992116713,
          0.7824439992116713,
          0.7814030955137286,
          0.7777599325709288,
          0.7756781251750432,
          0.7756781251750432,
          0.7746372214771005,
          0.774116769628129,
          0.7735963177791576,
          0.7689122511384151,
          0.7673508955915009,
          0.7652690881956153,
          0.762146377101787,
          0.7590236660079586,
          0.7585032141589872,
          0.7553805030651589,
          0.7553805030651589,
          0.7548600512161875,
          0.7527782438203019,
          0.7512168882733877,
          0.7486146290285308,
          0.747573725330588,
          0.747573725330588,
          0.747573725330588,
          0.7470532734816167,
          0.7413283031429313,
          0.7413283031429313,
          0.7392464957470457,
          0.7361237846532174,
          0.7350828809552745,
          0.7335215254083605,
          0.7298783624655607,
          0.7262351995227609,
          0.721030681033047,
          0.7173875180902473,
          0.7132239032984762,
          0.69969215522522,
          0.6934467330375632,
          0.6924058293396205,
          0.6903240219437349,
          0.6825172442091639,
          0.6564946517605943,
          0.6424424518383668,
          0.6018472076185981
         ],
         "yaxis": "y"
        },
        {
         "hovertemplate": "stratificationid1=RACEASN<br>obesity_data=%{x}<br>gyms_per_100k=%{y}<extra></extra>",
         "legendgroup": "RACEASN",
         "marker": {
          "color": "#00cc96",
          "symbol": "circle"
         },
         "mode": "markers",
         "name": "RACEASN",
         "orientation": "v",
         "showlegend": true,
         "type": "scatter",
         "x": [
          29.8,
          null,
          null,
          28.9,
          37,
          null,
          19,
          null,
          null,
          37.5,
          28.2,
          null,
          35.3,
          29.2,
          28.5,
          null,
          38.6,
          40.1,
          27.8,
          25.3,
          39,
          34.4,
          null,
          32.5,
          33,
          36,
          null,
          null,
          33.6,
          21,
          null,
          33,
          45.8,
          null,
          37.5,
          19.9,
          31,
          null,
          null,
          28.4,
          32,
          29.5,
          40.4,
          30.2,
          null,
          36.8,
          36.8,
          28.5,
          31.5,
          35,
          31.2,
          null
         ],
         "xaxis": "x",
         "y": [
          1.470900801714482,
          0.3391137150020516,
          0.6911339607677808,
          0.7042412440580931,
          0.5690255224543398,
          0.7750064498892046,
          0.42508030475423986,
          0.5248916754804728,
          0.7263335052477828,
          0.596636467089929,
          1.1896984303089893,
          0.5812526803961919,
          0.35313926682637975,
          0.9538212224268169,
          0.8351600030609586,
          0.46782400086828135,
          0.7418034077343738,
          0.7556276744926338,
          0.43668694349707643,
          0.9060905475594302,
          0.8911712663954234,
          0.8104435471722004,
          0.7313724806906909,
          0.7754310362653586,
          0.915382706966319,
          0.5835278998418982,
          0.6137889358406425,
          0.8927163274840576,
          1.0269428732218484,
          0.7760821440484603,
          0.46967555438936853,
          0.6560819558834091,
          0.7142495380104125,
          0.8012961766954225,
          0.8556448353390324,
          0.586564925894039,
          0.48339472066656436,
          0.8057886062834053,
          0.3917037153097397,
          0.6339003572028513,
          1.0377846159369497,
          0.8201819436945096,
          0.6869979118698469,
          1.0154672059162055,
          0.7728107698908893,
          0.8005709106625968,
          0.5904073393883658,
          0.514217948972557,
          0.7939553532439693,
          1.604740971208115,
          0.5646829180659532,
          0.6958702420700615
         ],
         "yaxis": "y"
        },
        {
         "hovertemplate": "<b>OLS trendline</b><br>gyms_per_100k = 0.00204143 * obesity_data + 0.713977<br>R<sup>2</sup>=0.001984<br><br>stratificationid1=RACEASN<br>obesity_data=%{x}<br>gyms_per_100k=%{y} <b>(trend)</b><extra></extra>",
         "legendgroup": "RACEASN",
         "marker": {
          "color": "#00cc96",
          "symbol": "circle"
         },
         "mode": "lines",
         "name": "RACEASN",
         "showlegend": false,
         "type": "scatter",
         "x": [
          19,
          19.9,
          21,
          25.3,
          27.8,
          28.2,
          28.4,
          28.5,
          28.5,
          28.9,
          29.2,
          29.5,
          29.8,
          30.2,
          31,
          31.2,
          31.5,
          32,
          32.5,
          33,
          33,
          33.6,
          34.4,
          35,
          35.3,
          36,
          36.8,
          36.8,
          37,
          37.5,
          37.5,
          38.6,
          39,
          40.1,
          40.4,
          45.8
         ],
         "xaxis": "x",
         "y": [
          0.7527645633441307,
          0.7546018515777366,
          0.7568474260854772,
          0.765625580979372,
          0.7707291594060549,
          0.7715457319543242,
          0.7719540182284589,
          0.7721581613655262,
          0.7721581613655262,
          0.7729747339137955,
          0.7735871633249974,
          0.7741995927361993,
          0.7748120221474013,
          0.7756285946956706,
          0.7772617397922091,
          0.7776700260663438,
          0.7782824554775458,
          0.7793031711628824,
          0.780323886848219,
          0.7813446025335556,
          0.7813446025335556,
          0.7825694613559595,
          0.7842026064524981,
          0.785427465274902,
          0.786039894686104,
          0.7874688966455752,
          0.7891020417421137,
          0.7891020417421137,
          0.7895103280162484,
          0.790531043701585,
          0.790531043701585,
          0.7927766182093255,
          0.7935931907575948,
          0.7958387652653354,
          0.7964511946765374,
          0.8074749240781727
         ],
         "yaxis": "y"
        },
        {
         "hovertemplate": "stratificationid1=RACEOTH<br>obesity_data=%{x}<br>gyms_per_100k=%{y}<extra></extra>",
         "legendgroup": "RACEOTH",
         "marker": {
          "color": "#ab63fa",
          "symbol": "circle"
         },
         "mode": "markers",
         "name": "RACEOTH",
         "orientation": "v",
         "showlegend": true,
         "type": "scatter",
         "x": [
          33.6,
          null,
          null,
          34.2,
          null,
          null,
          null,
          null,
          null,
          28.7,
          null,
          null,
          null,
          null,
          34.4,
          null,
          null,
          33,
          null,
          40.8,
          36.9,
          null,
          null,
          null,
          42.2,
          24.7,
          null,
          50.3,
          null,
          null,
          null,
          41.5,
          null,
          27.8,
          51.4,
          29,
          28.6,
          null,
          null,
          null,
          33.2,
          39.2,
          null,
          null,
          null,
          32.6,
          43.3,
          null,
          33.8,
          27.2,
          43.6,
          null
         ],
         "xaxis": "x",
         "y": [
          1.470900801714482,
          0.3391137150020516,
          0.6911339607677808,
          0.7042412440580931,
          0.5690255224543398,
          0.7750064498892046,
          0.42508030475423986,
          0.5248916754804728,
          0.7263335052477828,
          0.596636467089929,
          1.1896984303089893,
          0.5812526803961919,
          0.35313926682637975,
          0.9538212224268169,
          0.8351600030609586,
          0.46782400086828135,
          0.7418034077343738,
          0.7556276744926338,
          0.43668694349707643,
          0.9060905475594302,
          0.8911712663954234,
          0.8104435471722004,
          0.7313724806906909,
          0.7754310362653586,
          0.915382706966319,
          0.5835278998418982,
          0.6137889358406425,
          0.8927163274840576,
          1.0269428732218484,
          0.7760821440484603,
          0.46967555438936853,
          0.6560819558834091,
          0.7142495380104125,
          0.8012961766954225,
          0.8556448353390324,
          0.586564925894039,
          0.48339472066656436,
          0.8057886062834053,
          0.3917037153097397,
          0.6339003572028513,
          1.0377846159369497,
          0.8201819436945096,
          0.6869979118698469,
          1.0154672059162055,
          0.7728107698908893,
          0.8005709106625968,
          0.5904073393883658,
          0.514217948972557,
          0.7939553532439693,
          1.604740971208115,
          0.5646829180659532,
          0.6958702420700615
         ],
         "yaxis": "y"
        },
        {
         "hovertemplate": "<b>OLS trendline</b><br>gyms_per_100k = -0.00163466 * obesity_data + 0.883552<br>R<sup>2</sup>=0.001945<br><br>stratificationid1=RACEOTH<br>obesity_data=%{x}<br>gyms_per_100k=%{y} <b>(trend)</b><extra></extra>",
         "legendgroup": "RACEOTH",
         "marker": {
          "color": "#ab63fa",
          "symbol": "circle"
         },
         "mode": "lines",
         "name": "RACEOTH",
         "showlegend": false,
         "type": "scatter",
         "x": [
          24.7,
          27.2,
          27.8,
          28.6,
          28.7,
          29,
          32.6,
          33,
          33.2,
          33.6,
          33.8,
          34.2,
          34.4,
          36.9,
          39.2,
          40.8,
          41.5,
          42.2,
          43.3,
          43.6,
          50.3,
          51.4
         ],
         "xaxis": "x",
         "y": [
          0.8431758037194796,
          0.8390891646634537,
          0.8381083712900075,
          0.8368006467920792,
          0.8366371812298382,
          0.8361467845431151,
          0.8302620243024378,
          0.8296081620534737,
          0.8292812309289915,
          0.8286273686800274,
          0.8283004375555453,
          0.8276465753065811,
          0.8273196441820991,
          0.8232330051260732,
          0.8194732971945293,
          0.8168578481986727,
          0.8157135892629854,
          0.8145693303272982,
          0.8127712091426468,
          0.8122808124559237,
          0.8013286197857742,
          0.7995304986011228
         ],
         "yaxis": "y"
        },
        {
         "hovertemplate": "stratificationid1=RACEWHT<br>obesity_data=%{x}<br>gyms_per_100k=%{y}<extra></extra>",
         "legendgroup": "RACEWHT",
         "marker": {
          "color": "#FFA15A",
          "symbol": "circle"
         },
         "mode": "markers",
         "name": "RACEWHT",
         "orientation": "v",
         "showlegend": true,
         "type": "scatter",
         "x": [
          36,
          34.5,
          36.6,
          34.1,
          34.8,
          33.3,
          32.2,
          34.6,
          null,
          35.9,
          34.3,
          33.2,
          35.4,
          36.5,
          35.3,
          35.7,
          34,
          35.8,
          33.4,
          34.3,
          34.3,
          33.4,
          33.2,
          34.5,
          33.1,
          34.3,
          33.1,
          34.3,
          35.9,
          37.7,
          null,
          35,
          34.7,
          32.4,
          36.2,
          32.3,
          34.5,
          32.4,
          36,
          34.6,
          35.6,
          36.2,
          35.2,
          33.6,
          34.9,
          35.3,
          35,
          35.2,
          34.5,
          36.8,
          36.1,
          33
         ],
         "xaxis": "x",
         "y": [
          1.470900801714482,
          0.3391137150020516,
          0.6911339607677808,
          0.7042412440580931,
          0.5690255224543398,
          0.7750064498892046,
          0.42508030475423986,
          0.5248916754804728,
          0.7263335052477828,
          0.596636467089929,
          1.1896984303089893,
          0.5812526803961919,
          0.35313926682637975,
          0.9538212224268169,
          0.8351600030609586,
          0.46782400086828135,
          0.7418034077343738,
          0.7556276744926338,
          0.43668694349707643,
          0.9060905475594302,
          0.8911712663954234,
          0.8104435471722004,
          0.7313724806906909,
          0.7754310362653586,
          0.915382706966319,
          0.5835278998418982,
          0.6137889358406425,
          0.8927163274840576,
          1.0269428732218484,
          0.7760821440484603,
          0.46967555438936853,
          0.6560819558834091,
          0.7142495380104125,
          0.8012961766954225,
          0.8556448353390324,
          0.586564925894039,
          0.48339472066656436,
          0.8057886062834053,
          0.3917037153097397,
          0.6339003572028513,
          1.0377846159369497,
          0.8201819436945096,
          0.6869979118698469,
          1.0154672059162055,
          0.7728107698908893,
          0.8005709106625968,
          0.5904073393883658,
          0.514217948972557,
          0.7939553532439693,
          1.604740971208115,
          0.5646829180659532,
          0.6958702420700615
         ],
         "yaxis": "y"
        },
        {
         "hovertemplate": "<b>OLS trendline</b><br>gyms_per_100k = 0.0427468 * obesity_data + -0.73857<br>R<sup>2</sup>=0.049323<br><br>stratificationid1=RACEWHT<br>obesity_data=%{x}<br>gyms_per_100k=%{y} <b>(trend)</b><extra></extra>",
         "legendgroup": "RACEWHT",
         "marker": {
          "color": "#FFA15A",
          "symbol": "circle"
         },
         "mode": "lines",
         "name": "RACEWHT",
         "showlegend": false,
         "type": "scatter",
         "x": [
          32.2,
          32.3,
          32.4,
          32.4,
          33,
          33.1,
          33.1,
          33.2,
          33.2,
          33.3,
          33.4,
          33.4,
          33.6,
          34,
          34.1,
          34.3,
          34.3,
          34.3,
          34.3,
          34.3,
          34.5,
          34.5,
          34.5,
          34.5,
          34.6,
          34.6,
          34.7,
          34.8,
          34.9,
          35,
          35,
          35.2,
          35.2,
          35.3,
          35.3,
          35.4,
          35.6,
          35.7,
          35.8,
          35.9,
          35.9,
          36,
          36,
          36.1,
          36.2,
          36.2,
          36.5,
          36.6,
          36.8,
          37.7
         ],
         "xaxis": "x",
         "y": [
          0.6378779508556837,
          0.6421526334496196,
          0.6464273160435557,
          0.6464273160435557,
          0.6720754116071724,
          0.6763500942011086,
          0.6763500942011086,
          0.6806247767950447,
          0.6806247767950447,
          0.6848994593889807,
          0.6891741419829168,
          0.6891741419829168,
          0.6977235071707891,
          0.7148222375465335,
          0.7190969201404697,
          0.7276462853283415,
          0.7276462853283415,
          0.7276462853283415,
          0.7276462853283415,
          0.7276462853283415,
          0.736195650516214,
          0.736195650516214,
          0.736195650516214,
          0.736195650516214,
          0.7404703331101502,
          0.7404703331101502,
          0.7447450157040864,
          0.7490196982980221,
          0.7532943808919582,
          0.7575690634858944,
          0.7575690634858944,
          0.7661184286737669,
          0.7661184286737669,
          0.7703931112677026,
          0.7703931112677026,
          0.7746677938616388,
          0.7832171590495111,
          0.7874918416434472,
          0.7917665242373831,
          0.7960412068313193,
          0.7960412068313193,
          0.8003158894252554,
          0.8003158894252554,
          0.8045905720191916,
          0.8088652546131277,
          0.8088652546131277,
          0.821689302394936,
          0.8259639849888721,
          0.8345133501767442,
          0.8729854935221694
         ],
         "yaxis": "y"
        },
        {
         "hovertemplate": "stratificationid1=RACEHPI<br>obesity_data=%{x}<br>gyms_per_100k=%{y}<extra></extra>",
         "legendgroup": "RACEHPI",
         "marker": {
          "color": "#19d3f3",
          "symbol": "circle"
         },
         "mode": "markers",
         "name": "RACEHPI",
         "orientation": "v",
         "showlegend": true,
         "type": "scatter",
         "x": [
          null,
          null,
          null,
          null,
          null,
          null,
          null,
          null,
          null,
          null,
          null,
          null,
          29.1,
          null,
          null,
          null,
          null,
          null,
          null,
          null,
          null,
          null,
          null,
          null,
          null,
          null,
          null,
          null,
          null,
          null,
          null,
          null,
          null,
          null,
          null,
          null,
          null,
          null,
          null,
          null,
          null,
          null,
          null,
          null,
          null,
          null,
          null,
          null,
          null,
          null,
          29.3,
          null
         ],
         "xaxis": "x",
         "y": [
          1.470900801714482,
          0.3391137150020516,
          0.6911339607677808,
          0.7042412440580931,
          0.5690255224543398,
          0.7750064498892046,
          0.42508030475423986,
          0.5248916754804728,
          0.7263335052477828,
          0.596636467089929,
          1.1896984303089893,
          0.5812526803961919,
          0.35313926682637975,
          0.9538212224268169,
          0.8351600030609586,
          0.46782400086828135,
          0.7418034077343738,
          0.7556276744926338,
          0.43668694349707643,
          0.9060905475594302,
          0.8911712663954234,
          0.8104435471722004,
          0.7313724806906909,
          0.7754310362653586,
          0.915382706966319,
          0.5835278998418982,
          0.6137889358406425,
          0.8927163274840576,
          1.0269428732218484,
          0.7760821440484603,
          0.46967555438936853,
          0.6560819558834091,
          0.7142495380104125,
          0.8012961766954225,
          0.8556448353390324,
          0.586564925894039,
          0.48339472066656436,
          0.8057886062834053,
          0.3917037153097397,
          0.6339003572028513,
          1.0377846159369497,
          0.8201819436945096,
          0.6869979118698469,
          1.0154672059162055,
          0.7728107698908893,
          0.8005709106625968,
          0.5904073393883658,
          0.514217948972557,
          0.7939553532439693,
          1.604740971208115,
          0.5646829180659532,
          0.6958702420700615
         ],
         "yaxis": "y"
        },
        {
         "hovertemplate": "<b>OLS trendline</b><br>gyms_per_100k = 1.05772 * obesity_data + -30.4265<br>R<sup>2</sup>=1.000000<br><br>stratificationid1=RACEHPI<br>obesity_data=%{x}<br>gyms_per_100k=%{y} <b>(trend)</b><extra></extra>",
         "legendgroup": "RACEHPI",
         "marker": {
          "color": "#19d3f3",
          "symbol": "circle"
         },
         "mode": "lines",
         "name": "RACEHPI",
         "showlegend": false,
         "type": "scatter",
         "x": [
          29.1,
          29.3
         ],
         "xaxis": "x",
         "y": [
          0.3531392668263962,
          0.5646829180659658
         ],
         "yaxis": "y"
        },
        {
         "hovertemplate": "stratificationid1=RACEBLK<br>obesity_data=%{x}<br>gyms_per_100k=%{y}<extra></extra>",
         "legendgroup": "RACEBLK",
         "marker": {
          "color": "#FF6692",
          "symbol": "circle"
         },
         "mode": "markers",
         "name": "RACEBLK",
         "orientation": "v",
         "showlegend": true,
         "type": "scatter",
         "x": [
          null,
          null,
          null,
          36.3,
          30.5,
          26.5,
          31.6,
          30.7,
          null,
          30.2,
          37.1,
          35.2,
          48.1,
          32.6,
          32.7,
          null,
          34.5,
          36,
          31.3,
          27.4,
          32.9,
          26.8,
          29.4,
          33.2,
          33.4,
          30.4,
          33.4,
          null,
          36,
          33.9,
          null,
          30.3,
          33.2,
          null,
          37,
          32.8,
          42.2,
          26.4,
          null,
          29.2,
          29.8,
          39.7,
          26.3,
          29.5,
          30.4,
          31.2,
          35,
          31.5,
          31.3,
          26.8,
          37.5,
          26.4
         ],
         "xaxis": "x",
         "y": [
          1.470900801714482,
          0.3391137150020516,
          0.6911339607677808,
          0.7042412440580931,
          0.5690255224543398,
          0.7750064498892046,
          0.42508030475423986,
          0.5248916754804728,
          0.7263335052477828,
          0.596636467089929,
          1.1896984303089893,
          0.5812526803961919,
          0.35313926682637975,
          0.9538212224268169,
          0.8351600030609586,
          0.46782400086828135,
          0.7418034077343738,
          0.7556276744926338,
          0.43668694349707643,
          0.9060905475594302,
          0.8911712663954234,
          0.8104435471722004,
          0.7313724806906909,
          0.7754310362653586,
          0.915382706966319,
          0.5835278998418982,
          0.6137889358406425,
          0.8927163274840576,
          1.0269428732218484,
          0.7760821440484603,
          0.46967555438936853,
          0.6560819558834091,
          0.7142495380104125,
          0.8012961766954225,
          0.8556448353390324,
          0.586564925894039,
          0.48339472066656436,
          0.8057886062834053,
          0.3917037153097397,
          0.6339003572028513,
          1.0377846159369497,
          0.8201819436945096,
          0.6869979118698469,
          1.0154672059162055,
          0.7728107698908893,
          0.8005709106625968,
          0.5904073393883658,
          0.514217948972557,
          0.7939553532439693,
          1.604740971208115,
          0.5646829180659532,
          0.6958702420700615
         ],
         "yaxis": "y"
        },
        {
         "hovertemplate": "<b>OLS trendline</b><br>gyms_per_100k = -0.0135067 * obesity_data + 1.18533<br>R<sup>2</sup>=0.072023<br><br>stratificationid1=RACEBLK<br>obesity_data=%{x}<br>gyms_per_100k=%{y} <b>(trend)</b><extra></extra>",
         "legendgroup": "RACEBLK",
         "marker": {
          "color": "#FF6692",
          "symbol": "circle"
         },
         "mode": "lines",
         "name": "RACEBLK",
         "showlegend": false,
         "type": "scatter",
         "x": [
          26.3,
          26.4,
          26.4,
          26.5,
          26.8,
          26.8,
          27.4,
          29.2,
          29.4,
          29.5,
          29.8,
          30.2,
          30.3,
          30.4,
          30.4,
          30.5,
          30.7,
          31.2,
          31.3,
          31.3,
          31.5,
          31.6,
          32.6,
          32.7,
          32.8,
          32.9,
          33.2,
          33.2,
          33.4,
          33.4,
          33.9,
          34.5,
          35,
          35.2,
          36,
          36,
          36.3,
          37,
          37.1,
          37.5,
          39.7,
          42.2,
          48.1
         ],
         "xaxis": "x",
         "y": [
          0.8301013017411083,
          0.8287506287361419,
          0.8287506287361419,
          0.8273999557311754,
          0.823347936716276,
          0.823347936716276,
          0.8152438986864772,
          0.7909317845970808,
          0.7882304385871479,
          0.7868797655821813,
          0.7828277465672819,
          0.7774250545474161,
          0.7760743815424496,
          0.7747237085374832,
          0.7747237085374832,
          0.7733730355325167,
          0.7706716895225838,
          0.7639183244977514,
          0.7625676514927848,
          0.7625676514927848,
          0.7598663054828521,
          0.7585156324778854,
          0.7450089024282208,
          0.7436582294232543,
          0.7423075564182879,
          0.7409568834133214,
          0.736904864398422,
          0.736904864398422,
          0.7342035183884891,
          0.7342035183884891,
          0.7274501533636568,
          0.7193461153338578,
          0.7125927503090256,
          0.7098914042990926,
          0.6990860202593608,
          0.6990860202593608,
          0.6950340012444616,
          0.6855792902096962,
          0.6842286172047297,
          0.6788259251848638,
          0.6491111190756015,
          0.6153442939514397,
          0.535654586658418
         ],
         "yaxis": "y"
        },
        {
         "hovertemplate": "stratificationid1=RACENAA<br>obesity_data=%{x}<br>gyms_per_100k=%{y}<extra></extra>",
         "legendgroup": "RACENAA",
         "marker": {
          "color": "#B6E880",
          "symbol": "circle"
         },
         "mode": "markers",
         "name": "RACENAA",
         "orientation": "v",
         "showlegend": true,
         "type": "scatter",
         "x": [
          null,
          25.2,
          null,
          29.1,
          33.9,
          null,
          null,
          33.4,
          null,
          35.6,
          null,
          28.3,
          null,
          32.2,
          23.6,
          32.2,
          null,
          29.7,
          29.8,
          30.7,
          42.4,
          40.4,
          null,
          32.5,
          39.4,
          27.2,
          null,
          45.1,
          null,
          36.3,
          null,
          null,
          null,
          28,
          null,
          47.5,
          null,
          null,
          42.6,
          28.1,
          null,
          29.1,
          10.3,
          null,
          null,
          35.2,
          42,
          37.1,
          40.1,
          null,
          32.9,
          48.8
         ],
         "xaxis": "x",
         "y": [
          1.470900801714482,
          0.3391137150020516,
          0.6911339607677808,
          0.7042412440580931,
          0.5690255224543398,
          0.7750064498892046,
          0.42508030475423986,
          0.5248916754804728,
          0.7263335052477828,
          0.596636467089929,
          1.1896984303089893,
          0.5812526803961919,
          0.35313926682637975,
          0.9538212224268169,
          0.8351600030609586,
          0.46782400086828135,
          0.7418034077343738,
          0.7556276744926338,
          0.43668694349707643,
          0.9060905475594302,
          0.8911712663954234,
          0.8104435471722004,
          0.7313724806906909,
          0.7754310362653586,
          0.915382706966319,
          0.5835278998418982,
          0.6137889358406425,
          0.8927163274840576,
          1.0269428732218484,
          0.7760821440484603,
          0.46967555438936853,
          0.6560819558834091,
          0.7142495380104125,
          0.8012961766954225,
          0.8556448353390324,
          0.586564925894039,
          0.48339472066656436,
          0.8057886062834053,
          0.3917037153097397,
          0.6339003572028513,
          1.0377846159369497,
          0.8201819436945096,
          0.6869979118698469,
          1.0154672059162055,
          0.7728107698908893,
          0.8005709106625968,
          0.5904073393883658,
          0.514217948972557,
          0.7939553532439693,
          1.604740971208115,
          0.5646829180659532,
          0.6958702420700615
         ],
         "yaxis": "y"
        },
        {
         "hovertemplate": "<b>OLS trendline</b><br>gyms_per_100k = 0.0019117 * obesity_data + 0.619054<br>R<sup>2</sup>=0.008248<br><br>stratificationid1=RACENAA<br>obesity_data=%{x}<br>gyms_per_100k=%{y} <b>(trend)</b><extra></extra>",
         "legendgroup": "RACENAA",
         "marker": {
          "color": "#B6E880",
          "symbol": "circle"
         },
         "mode": "lines",
         "name": "RACENAA",
         "showlegend": false,
         "type": "scatter",
         "x": [
          10.3,
          23.6,
          25.2,
          27.2,
          28,
          28.1,
          28.3,
          29.1,
          29.1,
          29.7,
          29.8,
          30.7,
          32.2,
          32.2,
          32.5,
          32.9,
          33.4,
          33.9,
          35.2,
          35.6,
          36.3,
          37.1,
          39.4,
          40.1,
          40.4,
          42,
          42.4,
          42.6,
          45.1,
          47.5,
          48.8
         ],
         "xaxis": "x",
         "y": [
          0.6387446039577498,
          0.6641702078482045,
          0.6672289271132216,
          0.671052326194493,
          0.6725816858270015,
          0.672772855781065,
          0.6731551956891922,
          0.6746845553217008,
          0.6746845553217008,
          0.6758315750460822,
          0.6760227450001457,
          0.6777432745867178,
          0.6806108238976714,
          0.6806108238976714,
          0.6811843337598621,
          0.6819490135761164,
          0.6829048633464342,
          0.683860713116752,
          0.6863459225195785,
          0.6871106023358328,
          0.6884487920142777,
          0.6899781516467862,
          0.6943750605902483,
          0.6957132502686934,
          0.6962867601308841,
          0.6993454793959012,
          0.7001101592121555,
          0.7004924991202826,
          0.7052717479718718,
          0.7098598268693974,
          0.7123450362722239
         ],
         "yaxis": "y"
        }
       ],
       "layout": {
        "autosize": true,
        "legend": {
         "title": {
          "text": "stratificationid1"
         },
         "tracegroupgap": 0
        },
        "margin": {
         "t": 60
        },
        "template": {
         "data": {
          "bar": [
           {
            "error_x": {
             "color": "#2a3f5f"
            },
            "error_y": {
             "color": "#2a3f5f"
            },
            "marker": {
             "line": {
              "color": "#E5ECF6",
              "width": 0.5
             },
             "pattern": {
              "fillmode": "overlay",
              "size": 10,
              "solidity": 0.2
             }
            },
            "type": "bar"
           }
          ],
          "barpolar": [
           {
            "marker": {
             "line": {
              "color": "#E5ECF6",
              "width": 0.5
             },
             "pattern": {
              "fillmode": "overlay",
              "size": 10,
              "solidity": 0.2
             }
            },
            "type": "barpolar"
           }
          ],
          "carpet": [
           {
            "aaxis": {
             "endlinecolor": "#2a3f5f",
             "gridcolor": "white",
             "linecolor": "white",
             "minorgridcolor": "white",
             "startlinecolor": "#2a3f5f"
            },
            "baxis": {
             "endlinecolor": "#2a3f5f",
             "gridcolor": "white",
             "linecolor": "white",
             "minorgridcolor": "white",
             "startlinecolor": "#2a3f5f"
            },
            "type": "carpet"
           }
          ],
          "choropleth": [
           {
            "colorbar": {
             "outlinewidth": 0,
             "ticks": ""
            },
            "type": "choropleth"
           }
          ],
          "contour": [
           {
            "colorbar": {
             "outlinewidth": 0,
             "ticks": ""
            },
            "colorscale": [
             [
              0,
              "#0d0887"
             ],
             [
              0.1111111111111111,
              "#46039f"
             ],
             [
              0.2222222222222222,
              "#7201a8"
             ],
             [
              0.3333333333333333,
              "#9c179e"
             ],
             [
              0.4444444444444444,
              "#bd3786"
             ],
             [
              0.5555555555555556,
              "#d8576b"
             ],
             [
              0.6666666666666666,
              "#ed7953"
             ],
             [
              0.7777777777777778,
              "#fb9f3a"
             ],
             [
              0.8888888888888888,
              "#fdca26"
             ],
             [
              1,
              "#f0f921"
             ]
            ],
            "type": "contour"
           }
          ],
          "contourcarpet": [
           {
            "colorbar": {
             "outlinewidth": 0,
             "ticks": ""
            },
            "type": "contourcarpet"
           }
          ],
          "heatmap": [
           {
            "colorbar": {
             "outlinewidth": 0,
             "ticks": ""
            },
            "colorscale": [
             [
              0,
              "#0d0887"
             ],
             [
              0.1111111111111111,
              "#46039f"
             ],
             [
              0.2222222222222222,
              "#7201a8"
             ],
             [
              0.3333333333333333,
              "#9c179e"
             ],
             [
              0.4444444444444444,
              "#bd3786"
             ],
             [
              0.5555555555555556,
              "#d8576b"
             ],
             [
              0.6666666666666666,
              "#ed7953"
             ],
             [
              0.7777777777777778,
              "#fb9f3a"
             ],
             [
              0.8888888888888888,
              "#fdca26"
             ],
             [
              1,
              "#f0f921"
             ]
            ],
            "type": "heatmap"
           }
          ],
          "heatmapgl": [
           {
            "colorbar": {
             "outlinewidth": 0,
             "ticks": ""
            },
            "colorscale": [
             [
              0,
              "#0d0887"
             ],
             [
              0.1111111111111111,
              "#46039f"
             ],
             [
              0.2222222222222222,
              "#7201a8"
             ],
             [
              0.3333333333333333,
              "#9c179e"
             ],
             [
              0.4444444444444444,
              "#bd3786"
             ],
             [
              0.5555555555555556,
              "#d8576b"
             ],
             [
              0.6666666666666666,
              "#ed7953"
             ],
             [
              0.7777777777777778,
              "#fb9f3a"
             ],
             [
              0.8888888888888888,
              "#fdca26"
             ],
             [
              1,
              "#f0f921"
             ]
            ],
            "type": "heatmapgl"
           }
          ],
          "histogram": [
           {
            "marker": {
             "pattern": {
              "fillmode": "overlay",
              "size": 10,
              "solidity": 0.2
             }
            },
            "type": "histogram"
           }
          ],
          "histogram2d": [
           {
            "colorbar": {
             "outlinewidth": 0,
             "ticks": ""
            },
            "colorscale": [
             [
              0,
              "#0d0887"
             ],
             [
              0.1111111111111111,
              "#46039f"
             ],
             [
              0.2222222222222222,
              "#7201a8"
             ],
             [
              0.3333333333333333,
              "#9c179e"
             ],
             [
              0.4444444444444444,
              "#bd3786"
             ],
             [
              0.5555555555555556,
              "#d8576b"
             ],
             [
              0.6666666666666666,
              "#ed7953"
             ],
             [
              0.7777777777777778,
              "#fb9f3a"
             ],
             [
              0.8888888888888888,
              "#fdca26"
             ],
             [
              1,
              "#f0f921"
             ]
            ],
            "type": "histogram2d"
           }
          ],
          "histogram2dcontour": [
           {
            "colorbar": {
             "outlinewidth": 0,
             "ticks": ""
            },
            "colorscale": [
             [
              0,
              "#0d0887"
             ],
             [
              0.1111111111111111,
              "#46039f"
             ],
             [
              0.2222222222222222,
              "#7201a8"
             ],
             [
              0.3333333333333333,
              "#9c179e"
             ],
             [
              0.4444444444444444,
              "#bd3786"
             ],
             [
              0.5555555555555556,
              "#d8576b"
             ],
             [
              0.6666666666666666,
              "#ed7953"
             ],
             [
              0.7777777777777778,
              "#fb9f3a"
             ],
             [
              0.8888888888888888,
              "#fdca26"
             ],
             [
              1,
              "#f0f921"
             ]
            ],
            "type": "histogram2dcontour"
           }
          ],
          "mesh3d": [
           {
            "colorbar": {
             "outlinewidth": 0,
             "ticks": ""
            },
            "type": "mesh3d"
           }
          ],
          "parcoords": [
           {
            "line": {
             "colorbar": {
              "outlinewidth": 0,
              "ticks": ""
             }
            },
            "type": "parcoords"
           }
          ],
          "pie": [
           {
            "automargin": true,
            "type": "pie"
           }
          ],
          "scatter": [
           {
            "marker": {
             "colorbar": {
              "outlinewidth": 0,
              "ticks": ""
             }
            },
            "type": "scatter"
           }
          ],
          "scatter3d": [
           {
            "line": {
             "colorbar": {
              "outlinewidth": 0,
              "ticks": ""
             }
            },
            "marker": {
             "colorbar": {
              "outlinewidth": 0,
              "ticks": ""
             }
            },
            "type": "scatter3d"
           }
          ],
          "scattercarpet": [
           {
            "marker": {
             "colorbar": {
              "outlinewidth": 0,
              "ticks": ""
             }
            },
            "type": "scattercarpet"
           }
          ],
          "scattergeo": [
           {
            "marker": {
             "colorbar": {
              "outlinewidth": 0,
              "ticks": ""
             }
            },
            "type": "scattergeo"
           }
          ],
          "scattergl": [
           {
            "marker": {
             "colorbar": {
              "outlinewidth": 0,
              "ticks": ""
             }
            },
            "type": "scattergl"
           }
          ],
          "scattermapbox": [
           {
            "marker": {
             "colorbar": {
              "outlinewidth": 0,
              "ticks": ""
             }
            },
            "type": "scattermapbox"
           }
          ],
          "scatterpolar": [
           {
            "marker": {
             "colorbar": {
              "outlinewidth": 0,
              "ticks": ""
             }
            },
            "type": "scatterpolar"
           }
          ],
          "scatterpolargl": [
           {
            "marker": {
             "colorbar": {
              "outlinewidth": 0,
              "ticks": ""
             }
            },
            "type": "scatterpolargl"
           }
          ],
          "scatterternary": [
           {
            "marker": {
             "colorbar": {
              "outlinewidth": 0,
              "ticks": ""
             }
            },
            "type": "scatterternary"
           }
          ],
          "surface": [
           {
            "colorbar": {
             "outlinewidth": 0,
             "ticks": ""
            },
            "colorscale": [
             [
              0,
              "#0d0887"
             ],
             [
              0.1111111111111111,
              "#46039f"
             ],
             [
              0.2222222222222222,
              "#7201a8"
             ],
             [
              0.3333333333333333,
              "#9c179e"
             ],
             [
              0.4444444444444444,
              "#bd3786"
             ],
             [
              0.5555555555555556,
              "#d8576b"
             ],
             [
              0.6666666666666666,
              "#ed7953"
             ],
             [
              0.7777777777777778,
              "#fb9f3a"
             ],
             [
              0.8888888888888888,
              "#fdca26"
             ],
             [
              1,
              "#f0f921"
             ]
            ],
            "type": "surface"
           }
          ],
          "table": [
           {
            "cells": {
             "fill": {
              "color": "#EBF0F8"
             },
             "line": {
              "color": "white"
             }
            },
            "header": {
             "fill": {
              "color": "#C8D4E3"
             },
             "line": {
              "color": "white"
             }
            },
            "type": "table"
           }
          ]
         },
         "layout": {
          "annotationdefaults": {
           "arrowcolor": "#2a3f5f",
           "arrowhead": 0,
           "arrowwidth": 1
          },
          "autotypenumbers": "strict",
          "coloraxis": {
           "colorbar": {
            "outlinewidth": 0,
            "ticks": ""
           }
          },
          "colorscale": {
           "diverging": [
            [
             0,
             "#8e0152"
            ],
            [
             0.1,
             "#c51b7d"
            ],
            [
             0.2,
             "#de77ae"
            ],
            [
             0.3,
             "#f1b6da"
            ],
            [
             0.4,
             "#fde0ef"
            ],
            [
             0.5,
             "#f7f7f7"
            ],
            [
             0.6,
             "#e6f5d0"
            ],
            [
             0.7,
             "#b8e186"
            ],
            [
             0.8,
             "#7fbc41"
            ],
            [
             0.9,
             "#4d9221"
            ],
            [
             1,
             "#276419"
            ]
           ],
           "sequential": [
            [
             0,
             "#0d0887"
            ],
            [
             0.1111111111111111,
             "#46039f"
            ],
            [
             0.2222222222222222,
             "#7201a8"
            ],
            [
             0.3333333333333333,
             "#9c179e"
            ],
            [
             0.4444444444444444,
             "#bd3786"
            ],
            [
             0.5555555555555556,
             "#d8576b"
            ],
            [
             0.6666666666666666,
             "#ed7953"
            ],
            [
             0.7777777777777778,
             "#fb9f3a"
            ],
            [
             0.8888888888888888,
             "#fdca26"
            ],
            [
             1,
             "#f0f921"
            ]
           ],
           "sequentialminus": [
            [
             0,
             "#0d0887"
            ],
            [
             0.1111111111111111,
             "#46039f"
            ],
            [
             0.2222222222222222,
             "#7201a8"
            ],
            [
             0.3333333333333333,
             "#9c179e"
            ],
            [
             0.4444444444444444,
             "#bd3786"
            ],
            [
             0.5555555555555556,
             "#d8576b"
            ],
            [
             0.6666666666666666,
             "#ed7953"
            ],
            [
             0.7777777777777778,
             "#fb9f3a"
            ],
            [
             0.8888888888888888,
             "#fdca26"
            ],
            [
             1,
             "#f0f921"
            ]
           ]
          },
          "colorway": [
           "#636efa",
           "#EF553B",
           "#00cc96",
           "#ab63fa",
           "#FFA15A",
           "#19d3f3",
           "#FF6692",
           "#B6E880",
           "#FF97FF",
           "#FECB52"
          ],
          "font": {
           "color": "#2a3f5f"
          },
          "geo": {
           "bgcolor": "white",
           "lakecolor": "white",
           "landcolor": "#E5ECF6",
           "showlakes": true,
           "showland": true,
           "subunitcolor": "white"
          },
          "hoverlabel": {
           "align": "left"
          },
          "hovermode": "closest",
          "mapbox": {
           "style": "light"
          },
          "paper_bgcolor": "white",
          "plot_bgcolor": "#E5ECF6",
          "polar": {
           "angularaxis": {
            "gridcolor": "white",
            "linecolor": "white",
            "ticks": ""
           },
           "bgcolor": "#E5ECF6",
           "radialaxis": {
            "gridcolor": "white",
            "linecolor": "white",
            "ticks": ""
           }
          },
          "scene": {
           "xaxis": {
            "backgroundcolor": "#E5ECF6",
            "gridcolor": "white",
            "gridwidth": 2,
            "linecolor": "white",
            "showbackground": true,
            "ticks": "",
            "zerolinecolor": "white"
           },
           "yaxis": {
            "backgroundcolor": "#E5ECF6",
            "gridcolor": "white",
            "gridwidth": 2,
            "linecolor": "white",
            "showbackground": true,
            "ticks": "",
            "zerolinecolor": "white"
           },
           "zaxis": {
            "backgroundcolor": "#E5ECF6",
            "gridcolor": "white",
            "gridwidth": 2,
            "linecolor": "white",
            "showbackground": true,
            "ticks": "",
            "zerolinecolor": "white"
           }
          },
          "shapedefaults": {
           "line": {
            "color": "#2a3f5f"
           }
          },
          "ternary": {
           "aaxis": {
            "gridcolor": "white",
            "linecolor": "white",
            "ticks": ""
           },
           "baxis": {
            "gridcolor": "white",
            "linecolor": "white",
            "ticks": ""
           },
           "bgcolor": "#E5ECF6",
           "caxis": {
            "gridcolor": "white",
            "linecolor": "white",
            "ticks": ""
           }
          },
          "title": {
           "x": 0.05
          },
          "xaxis": {
           "automargin": true,
           "gridcolor": "white",
           "linecolor": "white",
           "ticks": "",
           "title": {
            "standoff": 15
           },
           "zerolinecolor": "white",
           "zerolinewidth": 2
          },
          "yaxis": {
           "automargin": true,
           "gridcolor": "white",
           "linecolor": "white",
           "ticks": "",
           "title": {
            "standoff": 15
           },
           "zerolinecolor": "white",
           "zerolinewidth": 2
          }
         }
        },
        "xaxis": {
         "anchor": "y",
         "autorange": true,
         "domain": [
          0,
          1
         ],
         "range": [
          7.326267978803936,
          62.17373202119607
         ],
         "title": {
          "text": "obesity_data"
         },
         "type": "linear"
        },
        "yaxis": {
         "anchor": "x",
         "autorange": true,
         "domain": [
          0,
          1
         ],
         "range": [
          0.241118953694758,
          1.7027357325154087
         ],
         "title": {
          "text": "gyms_per_100k"
         },
         "type": "linear"
        }
       }
      },
      "image/png": "[encoded data removed]",
      "text/html": [
       "<div>                            <div id=\"720d844d-fecb-4ccd-9193-f2f296e15d11\" class=\"plotly-graph-div\" style=\"height:525px; width:100%;\"></div>            <script type=\"text/javascript\">                require([\"plotly\"], function(Plotly) {                    window.PLOTLYENV=window.PLOTLYENV || {};                                    if (document.getElementById(\"720d844d-fecb-4ccd-9193-f2f296e15d11\")) {                    Plotly.newPlot(                        \"720d844d-fecb-4ccd-9193-f2f296e15d11\",                        [{\"hovertemplate\":\"stratificationid1=RACEHIS<br>obesity_data=%{x}<br>gyms_per_100k=%{y}<extra></extra>\",\"legendgroup\":\"RACEHIS\",\"marker\":{\"color\":\"#636efa\",\"symbol\":\"circle\"},\"mode\":\"markers\",\"name\":\"RACEHIS\",\"orientation\":\"v\",\"showlegend\":true,\"x\":[16.8,31.8,33.9,37.4,31.9,36.6,25.5,38.8,null,32.3,32.2,31.0,35.2,35.5,39.2,22.4,34.7,39.1,33.9,32.6,33.3,37.5,36.5,41.0,39.4,38.3,33.2,25.6,30.4,35.7,36.3,35.7,36.3,30.2,39.8,26.5,39.6,33.9,34.1,36.4,37.6,33.2,35.3,35.8,null,36.2,36.9,36.1,39.5,38.1,36.7,29.0],\"xaxis\":\"x\",\"y\":[1.470900801714482,0.3391137150020516,0.6911339607677808,0.7042412440580931,0.5690255224543398,0.7750064498892046,0.42508030475423986,0.5248916754804728,0.7263335052477828,0.596636467089929,1.1896984303089893,0.5812526803961919,0.35313926682637975,0.9538212224268169,0.8351600030609586,0.46782400086828135,0.7418034077343738,0.7556276744926338,0.43668694349707643,0.9060905475594302,0.8911712663954234,0.8104435471722004,0.7313724806906909,0.7754310362653586,0.915382706966319,0.5835278998418982,0.6137889358406425,0.8927163274840576,1.0269428732218484,0.7760821440484603,0.46967555438936853,0.6560819558834091,0.7142495380104125,0.8012961766954225,0.8556448353390324,0.586564925894039,0.48339472066656436,0.8057886062834053,0.3917037153097397,0.6339003572028513,1.0377846159369497,0.8201819436945096,0.6869979118698469,1.0154672059162055,0.7728107698908893,0.8005709106625968,0.5904073393883658,0.514217948972557,0.7939553532439693,1.604740971208115,0.5646829180659532,0.6958702420700615],\"yaxis\":\"y\",\"type\":\"scatter\"},{\"hovertemplate\":\"<b>OLS trendline</b><br>gyms_per_100k = -0.00419769 * obesity_data + 0.881116<br>R<sup>2</sup>=0.006260<br><br>stratificationid1=RACEHIS<br>obesity_data=%{x}<br>gyms_per_100k=%{y} <b>(trend)</b><extra></extra>\",\"legendgroup\":\"RACEHIS\",\"marker\":{\"color\":\"#636efa\",\"symbol\":\"circle\"},\"mode\":\"lines\",\"name\":\"RACEHIS\",\"showlegend\":false,\"x\":[16.8,22.4,25.5,25.6,26.5,29.0,30.2,30.4,31.0,31.8,31.9,32.2,32.3,32.6,33.2,33.2,33.3,33.9,33.9,33.9,34.1,34.7,35.2,35.3,35.5,35.7,35.7,35.8,36.1,36.2,36.3,36.3,36.4,36.5,36.6,36.7,36.9,37.4,37.5,37.6,38.1,38.3,38.8,39.1,39.2,39.4,39.5,39.6,39.8,41.0],\"xaxis\":\"x\",\"y\":[0.8105945742900137,0.7870875202080195,0.7740746866983441,0.7736549178754514,0.7698769984694166,0.7593827778970978,0.7543455520223847,0.7535060143765993,0.7509874014392427,0.7476292508561007,0.747209482033208,0.7459501755645297,0.745530406741637,0.7442711002729587,0.7417524873356022,0.7417524873356022,0.7413327185127094,0.7388141055753529,0.7388141055753529,0.7388141055753529,0.7379745679295674,0.7354559549922108,0.7333571108777471,0.7329373420548544,0.7320978044090689,0.7312582667632833,0.7312582667632833,0.7308384979403906,0.7295791914717124,0.7291594226488196,0.7287396538259269,0.7287396538259269,0.7283198850030341,0.7279001161801413,0.7274803473572485,0.7270605785343558,0.7262210408885703,0.7241221967741065,0.7237024279512138,0.723282659128321,0.7211838150138572,0.7203442773680717,0.718245433253608,0.7169861267849298,0.7165663579620369,0.7157268203162515,0.7153070514933587,0.714887282670466,0.7140477450246805,0.7090105191499674],\"yaxis\":\"y\",\"type\":\"scatter\"},{\"hovertemplate\":\"stratificationid1=RACE2PLUS<br>obesity_data=%{x}<br>gyms_per_100k=%{y}<extra></extra>\",\"legendgroup\":\"RACE2PLUS\",\"marker\":{\"color\":\"#EF553B\",\"symbol\":\"circle\"},\"mode\":\"markers\",\"name\":\"RACE2PLUS\",\"orientation\":\"v\",\"showlegend\":true,\"x\":[41.8,48.7,51.4,40.4,29.0,35.3,24.7,59.2,null,24.4,41.6,31.3,37.0,27.1,23.2,42.2,null,31.2,26.2,25.4,30.2,29.1,31.2,28.4,30.5,31.2,23.3,20.3,29.7,25.8,null,36.3,29.8,27.4,33.6,32.4,37.8,24.5,43.7,33.9,34.6,25.8,33.4,24.5,null,32.8,26.1,31.0,32.4,29.7,27.8,26.0],\"xaxis\":\"x\",\"y\":[1.470900801714482,0.3391137150020516,0.6911339607677808,0.7042412440580931,0.5690255224543398,0.7750064498892046,0.42508030475423986,0.5248916754804728,0.7263335052477828,0.596636467089929,1.1896984303089893,0.5812526803961919,0.35313926682637975,0.9538212224268169,0.8351600030609586,0.46782400086828135,0.7418034077343738,0.7556276744926338,0.43668694349707643,0.9060905475594302,0.8911712663954234,0.8104435471722004,0.7313724806906909,0.7754310362653586,0.915382706966319,0.5835278998418982,0.6137889358406425,0.8927163274840576,1.0269428732218484,0.7760821440484603,0.46967555438936853,0.6560819558834091,0.7142495380104125,0.8012961766954225,0.8556448353390324,0.586564925894039,0.48339472066656436,0.8057886062834053,0.3917037153097397,0.6339003572028513,1.0377846159369497,0.8201819436945096,0.6869979118698469,1.0154672059162055,0.7728107698908893,0.8005709106625968,0.5904073393883658,0.514217948972557,0.7939553532439693,1.604740971208115,0.5646829180659532,0.6958702420700615],\"yaxis\":\"y\",\"type\":\"scatter\"},{\"hovertemplate\":\"<b>OLS trendline</b><br>gyms_per_100k = -0.00520452 * obesity_data + 0.909955<br>R<sup>2</sup>=0.025652<br><br>stratificationid1=RACE2PLUS<br>obesity_data=%{x}<br>gyms_per_100k=%{y} <b>(trend)</b><extra></extra>\",\"legendgroup\":\"RACE2PLUS\",\"marker\":{\"color\":\"#EF553B\",\"symbol\":\"circle\"},\"mode\":\"lines\",\"name\":\"RACE2PLUS\",\"showlegend\":false,\"x\":[20.3,23.2,23.3,24.4,24.5,24.5,24.7,25.4,25.8,25.8,26.0,26.1,26.2,27.1,27.4,27.8,28.4,29.0,29.1,29.7,29.7,29.8,30.2,30.5,31.0,31.2,31.2,31.2,31.3,32.4,32.4,32.8,33.4,33.6,33.9,34.6,35.3,36.3,37.0,37.8,40.4,41.6,41.8,42.2,43.7,48.7,51.4,59.2],\"xaxis\":\"x\",\"y\":[0.8043029768684697,0.7892098732482994,0.788689421399328,0.7829644510606426,0.7824439992116713,0.7824439992116713,0.7814030955137286,0.7777599325709288,0.7756781251750432,0.7756781251750432,0.7746372214771005,0.774116769628129,0.7735963177791576,0.7689122511384151,0.7673508955915009,0.7652690881956153,0.762146377101787,0.7590236660079586,0.7585032141589872,0.7553805030651589,0.7553805030651589,0.7548600512161875,0.7527782438203019,0.7512168882733877,0.7486146290285308,0.747573725330588,0.747573725330588,0.747573725330588,0.7470532734816167,0.7413283031429313,0.7413283031429313,0.7392464957470457,0.7361237846532174,0.7350828809552745,0.7335215254083605,0.7298783624655607,0.7262351995227609,0.721030681033047,0.7173875180902473,0.7132239032984762,0.69969215522522,0.6934467330375632,0.6924058293396205,0.6903240219437349,0.6825172442091639,0.6564946517605943,0.6424424518383668,0.6018472076185981],\"yaxis\":\"y\",\"type\":\"scatter\"},{\"hovertemplate\":\"stratificationid1=RACEASN<br>obesity_data=%{x}<br>gyms_per_100k=%{y}<extra></extra>\",\"legendgroup\":\"RACEASN\",\"marker\":{\"color\":\"#00cc96\",\"symbol\":\"circle\"},\"mode\":\"markers\",\"name\":\"RACEASN\",\"orientation\":\"v\",\"showlegend\":true,\"x\":[29.8,null,null,28.9,37.0,null,19.0,null,null,37.5,28.2,null,35.3,29.2,28.5,null,38.6,40.1,27.8,25.3,39.0,34.4,null,32.5,33.0,36.0,null,null,33.6,21.0,null,33.0,45.8,null,37.5,19.9,31.0,null,null,28.4,32.0,29.5,40.4,30.2,null,36.8,36.8,28.5,31.5,35.0,31.2,null],\"xaxis\":\"x\",\"y\":[1.470900801714482,0.3391137150020516,0.6911339607677808,0.7042412440580931,0.5690255224543398,0.7750064498892046,0.42508030475423986,0.5248916754804728,0.7263335052477828,0.596636467089929,1.1896984303089893,0.5812526803961919,0.35313926682637975,0.9538212224268169,0.8351600030609586,0.46782400086828135,0.7418034077343738,0.7556276744926338,0.43668694349707643,0.9060905475594302,0.8911712663954234,0.8104435471722004,0.7313724806906909,0.7754310362653586,0.915382706966319,0.5835278998418982,0.6137889358406425,0.8927163274840576,1.0269428732218484,0.7760821440484603,0.46967555438936853,0.6560819558834091,0.7142495380104125,0.8012961766954225,0.8556448353390324,0.586564925894039,0.48339472066656436,0.8057886062834053,0.3917037153097397,0.6339003572028513,1.0377846159369497,0.8201819436945096,0.6869979118698469,1.0154672059162055,0.7728107698908893,0.8005709106625968,0.5904073393883658,0.514217948972557,0.7939553532439693,1.604740971208115,0.5646829180659532,0.6958702420700615],\"yaxis\":\"y\",\"type\":\"scatter\"},{\"hovertemplate\":\"<b>OLS trendline</b><br>gyms_per_100k = 0.00204143 * obesity_data + 0.713977<br>R<sup>2</sup>=0.001984<br><br>stratificationid1=RACEASN<br>obesity_data=%{x}<br>gyms_per_100k=%{y} <b>(trend)</b><extra></extra>\",\"legendgroup\":\"RACEASN\",\"marker\":{\"color\":\"#00cc96\",\"symbol\":\"circle\"},\"mode\":\"lines\",\"name\":\"RACEASN\",\"showlegend\":false,\"x\":[19.0,19.9,21.0,25.3,27.8,28.2,28.4,28.5,28.5,28.9,29.2,29.5,29.8,30.2,31.0,31.2,31.5,32.0,32.5,33.0,33.0,33.6,34.4,35.0,35.3,36.0,36.8,36.8,37.0,37.5,37.5,38.6,39.0,40.1,40.4,45.8],\"xaxis\":\"x\",\"y\":[0.7527645633441307,0.7546018515777366,0.7568474260854772,0.765625580979372,0.7707291594060549,0.7715457319543242,0.7719540182284589,0.7721581613655262,0.7721581613655262,0.7729747339137955,0.7735871633249974,0.7741995927361993,0.7748120221474013,0.7756285946956706,0.7772617397922091,0.7776700260663438,0.7782824554775458,0.7793031711628824,0.780323886848219,0.7813446025335556,0.7813446025335556,0.7825694613559595,0.7842026064524981,0.785427465274902,0.786039894686104,0.7874688966455752,0.7891020417421137,0.7891020417421137,0.7895103280162484,0.790531043701585,0.790531043701585,0.7927766182093255,0.7935931907575948,0.7958387652653354,0.7964511946765374,0.8074749240781727],\"yaxis\":\"y\",\"type\":\"scatter\"},{\"hovertemplate\":\"stratificationid1=RACEOTH<br>obesity_data=%{x}<br>gyms_per_100k=%{y}<extra></extra>\",\"legendgroup\":\"RACEOTH\",\"marker\":{\"color\":\"#ab63fa\",\"symbol\":\"circle\"},\"mode\":\"markers\",\"name\":\"RACEOTH\",\"orientation\":\"v\",\"showlegend\":true,\"x\":[33.6,null,null,34.2,null,null,null,null,null,28.7,null,null,null,null,34.4,null,null,33.0,null,40.8,36.9,null,null,null,42.2,24.7,null,50.3,null,null,null,41.5,null,27.8,51.4,29.0,28.6,null,null,null,33.2,39.2,null,null,null,32.6,43.3,null,33.8,27.2,43.6,null],\"xaxis\":\"x\",\"y\":[1.470900801714482,0.3391137150020516,0.6911339607677808,0.7042412440580931,0.5690255224543398,0.7750064498892046,0.42508030475423986,0.5248916754804728,0.7263335052477828,0.596636467089929,1.1896984303089893,0.5812526803961919,0.35313926682637975,0.9538212224268169,0.8351600030609586,0.46782400086828135,0.7418034077343738,0.7556276744926338,0.43668694349707643,0.9060905475594302,0.8911712663954234,0.8104435471722004,0.7313724806906909,0.7754310362653586,0.915382706966319,0.5835278998418982,0.6137889358406425,0.8927163274840576,1.0269428732218484,0.7760821440484603,0.46967555438936853,0.6560819558834091,0.7142495380104125,0.8012961766954225,0.8556448353390324,0.586564925894039,0.48339472066656436,0.8057886062834053,0.3917037153097397,0.6339003572028513,1.0377846159369497,0.8201819436945096,0.6869979118698469,1.0154672059162055,0.7728107698908893,0.8005709106625968,0.5904073393883658,0.514217948972557,0.7939553532439693,1.604740971208115,0.5646829180659532,0.6958702420700615],\"yaxis\":\"y\",\"type\":\"scatter\"},{\"hovertemplate\":\"<b>OLS trendline</b><br>gyms_per_100k = -0.00163466 * obesity_data + 0.883552<br>R<sup>2</sup>=0.001945<br><br>stratificationid1=RACEOTH<br>obesity_data=%{x}<br>gyms_per_100k=%{y} <b>(trend)</b><extra></extra>\",\"legendgroup\":\"RACEOTH\",\"marker\":{\"color\":\"#ab63fa\",\"symbol\":\"circle\"},\"mode\":\"lines\",\"name\":\"RACEOTH\",\"showlegend\":false,\"x\":[24.7,27.2,27.8,28.6,28.7,29.0,32.6,33.0,33.2,33.6,33.8,34.2,34.4,36.9,39.2,40.8,41.5,42.2,43.3,43.6,50.3,51.4],\"xaxis\":\"x\",\"y\":[0.8431758037194796,0.8390891646634537,0.8381083712900075,0.8368006467920792,0.8366371812298382,0.8361467845431151,0.8302620243024378,0.8296081620534737,0.8292812309289915,0.8286273686800274,0.8283004375555453,0.8276465753065811,0.8273196441820991,0.8232330051260732,0.8194732971945293,0.8168578481986727,0.8157135892629854,0.8145693303272982,0.8127712091426468,0.8122808124559237,0.8013286197857742,0.7995304986011228],\"yaxis\":\"y\",\"type\":\"scatter\"},{\"hovertemplate\":\"stratificationid1=RACEWHT<br>obesity_data=%{x}<br>gyms_per_100k=%{y}<extra></extra>\",\"legendgroup\":\"RACEWHT\",\"marker\":{\"color\":\"#FFA15A\",\"symbol\":\"circle\"},\"mode\":\"markers\",\"name\":\"RACEWHT\",\"orientation\":\"v\",\"showlegend\":true,\"x\":[36.0,34.5,36.6,34.1,34.8,33.3,32.2,34.6,null,35.9,34.3,33.2,35.4,36.5,35.3,35.7,34.0,35.8,33.4,34.3,34.3,33.4,33.2,34.5,33.1,34.3,33.1,34.3,35.9,37.7,null,35.0,34.7,32.4,36.2,32.3,34.5,32.4,36.0,34.6,35.6,36.2,35.2,33.6,34.9,35.3,35.0,35.2,34.5,36.8,36.1,33.0],\"xaxis\":\"x\",\"y\":[1.470900801714482,0.3391137150020516,0.6911339607677808,0.7042412440580931,0.5690255224543398,0.7750064498892046,0.42508030475423986,0.5248916754804728,0.7263335052477828,0.596636467089929,1.1896984303089893,0.5812526803961919,0.35313926682637975,0.9538212224268169,0.8351600030609586,0.46782400086828135,0.7418034077343738,0.7556276744926338,0.43668694349707643,0.9060905475594302,0.8911712663954234,0.8104435471722004,0.7313724806906909,0.7754310362653586,0.915382706966319,0.5835278998418982,0.6137889358406425,0.8927163274840576,1.0269428732218484,0.7760821440484603,0.46967555438936853,0.6560819558834091,0.7142495380104125,0.8012961766954225,0.8556448353390324,0.586564925894039,0.48339472066656436,0.8057886062834053,0.3917037153097397,0.6339003572028513,1.0377846159369497,0.8201819436945096,0.6869979118698469,1.0154672059162055,0.7728107698908893,0.8005709106625968,0.5904073393883658,0.514217948972557,0.7939553532439693,1.604740971208115,0.5646829180659532,0.6958702420700615],\"yaxis\":\"y\",\"type\":\"scatter\"},{\"hovertemplate\":\"<b>OLS trendline</b><br>gyms_per_100k = 0.0427468 * obesity_data + -0.73857<br>R<sup>2</sup>=0.049323<br><br>stratificationid1=RACEWHT<br>obesity_data=%{x}<br>gyms_per_100k=%{y} <b>(trend)</b><extra></extra>\",\"legendgroup\":\"RACEWHT\",\"marker\":{\"color\":\"#FFA15A\",\"symbol\":\"circle\"},\"mode\":\"lines\",\"name\":\"RACEWHT\",\"showlegend\":false,\"x\":[32.2,32.3,32.4,32.4,33.0,33.1,33.1,33.2,33.2,33.3,33.4,33.4,33.6,34.0,34.1,34.3,34.3,34.3,34.3,34.3,34.5,34.5,34.5,34.5,34.6,34.6,34.7,34.8,34.9,35.0,35.0,35.2,35.2,35.3,35.3,35.4,35.6,35.7,35.8,35.9,35.9,36.0,36.0,36.1,36.2,36.2,36.5,36.6,36.8,37.7],\"xaxis\":\"x\",\"y\":[0.6378779508556837,0.6421526334496196,0.6464273160435557,0.6464273160435557,0.6720754116071724,0.6763500942011086,0.6763500942011086,0.6806247767950447,0.6806247767950447,0.6848994593889807,0.6891741419829168,0.6891741419829168,0.6977235071707891,0.7148222375465335,0.7190969201404697,0.7276462853283415,0.7276462853283415,0.7276462853283415,0.7276462853283415,0.7276462853283415,0.736195650516214,0.736195650516214,0.736195650516214,0.736195650516214,0.7404703331101502,0.7404703331101502,0.7447450157040864,0.7490196982980221,0.7532943808919582,0.7575690634858944,0.7575690634858944,0.7661184286737669,0.7661184286737669,0.7703931112677026,0.7703931112677026,0.7746677938616388,0.7832171590495111,0.7874918416434472,0.7917665242373831,0.7960412068313193,0.7960412068313193,0.8003158894252554,0.8003158894252554,0.8045905720191916,0.8088652546131277,0.8088652546131277,0.821689302394936,0.8259639849888721,0.8345133501767442,0.8729854935221694],\"yaxis\":\"y\",\"type\":\"scatter\"},{\"hovertemplate\":\"stratificationid1=RACEHPI<br>obesity_data=%{x}<br>gyms_per_100k=%{y}<extra></extra>\",\"legendgroup\":\"RACEHPI\",\"marker\":{\"color\":\"#19d3f3\",\"symbol\":\"circle\"},\"mode\":\"markers\",\"name\":\"RACEHPI\",\"orientation\":\"v\",\"showlegend\":true,\"x\":[null,null,null,null,null,null,null,null,null,null,null,null,29.1,null,null,null,null,null,null,null,null,null,null,null,null,null,null,null,null,null,null,null,null,null,null,null,null,null,null,null,null,null,null,null,null,null,null,null,null,null,29.3,null],\"xaxis\":\"x\",\"y\":[1.470900801714482,0.3391137150020516,0.6911339607677808,0.7042412440580931,0.5690255224543398,0.7750064498892046,0.42508030475423986,0.5248916754804728,0.7263335052477828,0.596636467089929,1.1896984303089893,0.5812526803961919,0.35313926682637975,0.9538212224268169,0.8351600030609586,0.46782400086828135,0.7418034077343738,0.7556276744926338,0.43668694349707643,0.9060905475594302,0.8911712663954234,0.8104435471722004,0.7313724806906909,0.7754310362653586,0.915382706966319,0.5835278998418982,0.6137889358406425,0.8927163274840576,1.0269428732218484,0.7760821440484603,0.46967555438936853,0.6560819558834091,0.7142495380104125,0.8012961766954225,0.8556448353390324,0.586564925894039,0.48339472066656436,0.8057886062834053,0.3917037153097397,0.6339003572028513,1.0377846159369497,0.8201819436945096,0.6869979118698469,1.0154672059162055,0.7728107698908893,0.8005709106625968,0.5904073393883658,0.514217948972557,0.7939553532439693,1.604740971208115,0.5646829180659532,0.6958702420700615],\"yaxis\":\"y\",\"type\":\"scatter\"},{\"hovertemplate\":\"<b>OLS trendline</b><br>gyms_per_100k = 1.05772 * obesity_data + -30.4265<br>R<sup>2</sup>=1.000000<br><br>stratificationid1=RACEHPI<br>obesity_data=%{x}<br>gyms_per_100k=%{y} <b>(trend)</b><extra></extra>\",\"legendgroup\":\"RACEHPI\",\"marker\":{\"color\":\"#19d3f3\",\"symbol\":\"circle\"},\"mode\":\"lines\",\"name\":\"RACEHPI\",\"showlegend\":false,\"x\":[29.1,29.3],\"xaxis\":\"x\",\"y\":[0.3531392668263962,0.5646829180659658],\"yaxis\":\"y\",\"type\":\"scatter\"},{\"hovertemplate\":\"stratificationid1=RACEBLK<br>obesity_data=%{x}<br>gyms_per_100k=%{y}<extra></extra>\",\"legendgroup\":\"RACEBLK\",\"marker\":{\"color\":\"#FF6692\",\"symbol\":\"circle\"},\"mode\":\"markers\",\"name\":\"RACEBLK\",\"orientation\":\"v\",\"showlegend\":true,\"x\":[null,null,null,36.3,30.5,26.5,31.6,30.7,null,30.2,37.1,35.2,48.1,32.6,32.7,null,34.5,36.0,31.3,27.4,32.9,26.8,29.4,33.2,33.4,30.4,33.4,null,36.0,33.9,null,30.3,33.2,null,37.0,32.8,42.2,26.4,null,29.2,29.8,39.7,26.3,29.5,30.4,31.2,35.0,31.5,31.3,26.8,37.5,26.4],\"xaxis\":\"x\",\"y\":[1.470900801714482,0.3391137150020516,0.6911339607677808,0.7042412440580931,0.5690255224543398,0.7750064498892046,0.42508030475423986,0.5248916754804728,0.7263335052477828,0.596636467089929,1.1896984303089893,0.5812526803961919,0.35313926682637975,0.9538212224268169,0.8351600030609586,0.46782400086828135,0.7418034077343738,0.7556276744926338,0.43668694349707643,0.9060905475594302,0.8911712663954234,0.8104435471722004,0.7313724806906909,0.7754310362653586,0.915382706966319,0.5835278998418982,0.6137889358406425,0.8927163274840576,1.0269428732218484,0.7760821440484603,0.46967555438936853,0.6560819558834091,0.7142495380104125,0.8012961766954225,0.8556448353390324,0.586564925894039,0.48339472066656436,0.8057886062834053,0.3917037153097397,0.6339003572028513,1.0377846159369497,0.8201819436945096,0.6869979118698469,1.0154672059162055,0.7728107698908893,0.8005709106625968,0.5904073393883658,0.514217948972557,0.7939553532439693,1.604740971208115,0.5646829180659532,0.6958702420700615],\"yaxis\":\"y\",\"type\":\"scatter\"},{\"hovertemplate\":\"<b>OLS trendline</b><br>gyms_per_100k = -0.0135067 * obesity_data + 1.18533<br>R<sup>2</sup>=0.072023<br><br>stratificationid1=RACEBLK<br>obesity_data=%{x}<br>gyms_per_100k=%{y} <b>(trend)</b><extra></extra>\",\"legendgroup\":\"RACEBLK\",\"marker\":{\"color\":\"#FF6692\",\"symbol\":\"circle\"},\"mode\":\"lines\",\"name\":\"RACEBLK\",\"showlegend\":false,\"x\":[26.3,26.4,26.4,26.5,26.8,26.8,27.4,29.2,29.4,29.5,29.8,30.2,30.3,30.4,30.4,30.5,30.7,31.2,31.3,31.3,31.5,31.6,32.6,32.7,32.8,32.9,33.2,33.2,33.4,33.4,33.9,34.5,35.0,35.2,36.0,36.0,36.3,37.0,37.1,37.5,39.7,42.2,48.1],\"xaxis\":\"x\",\"y\":[0.8301013017411083,0.8287506287361419,0.8287506287361419,0.8273999557311754,0.823347936716276,0.823347936716276,0.8152438986864772,0.7909317845970808,0.7882304385871479,0.7868797655821813,0.7828277465672819,0.7774250545474161,0.7760743815424496,0.7747237085374832,0.7747237085374832,0.7733730355325167,0.7706716895225838,0.7639183244977514,0.7625676514927848,0.7625676514927848,0.7598663054828521,0.7585156324778854,0.7450089024282208,0.7436582294232543,0.7423075564182879,0.7409568834133214,0.736904864398422,0.736904864398422,0.7342035183884891,0.7342035183884891,0.7274501533636568,0.7193461153338578,0.7125927503090256,0.7098914042990926,0.6990860202593608,0.6990860202593608,0.6950340012444616,0.6855792902096962,0.6842286172047297,0.6788259251848638,0.6491111190756015,0.6153442939514397,0.535654586658418],\"yaxis\":\"y\",\"type\":\"scatter\"},{\"hovertemplate\":\"stratificationid1=RACENAA<br>obesity_data=%{x}<br>gyms_per_100k=%{y}<extra></extra>\",\"legendgroup\":\"RACENAA\",\"marker\":{\"color\":\"#B6E880\",\"symbol\":\"circle\"},\"mode\":\"markers\",\"name\":\"RACENAA\",\"orientation\":\"v\",\"showlegend\":true,\"x\":[null,25.2,null,29.1,33.9,null,null,33.4,null,35.6,null,28.3,null,32.2,23.6,32.2,null,29.7,29.8,30.7,42.4,40.4,null,32.5,39.4,27.2,null,45.1,null,36.3,null,null,null,28.0,null,47.5,null,null,42.6,28.1,null,29.1,10.3,null,null,35.2,42.0,37.1,40.1,null,32.9,48.8],\"xaxis\":\"x\",\"y\":[1.470900801714482,0.3391137150020516,0.6911339607677808,0.7042412440580931,0.5690255224543398,0.7750064498892046,0.42508030475423986,0.5248916754804728,0.7263335052477828,0.596636467089929,1.1896984303089893,0.5812526803961919,0.35313926682637975,0.9538212224268169,0.8351600030609586,0.46782400086828135,0.7418034077343738,0.7556276744926338,0.43668694349707643,0.9060905475594302,0.8911712663954234,0.8104435471722004,0.7313724806906909,0.7754310362653586,0.915382706966319,0.5835278998418982,0.6137889358406425,0.8927163274840576,1.0269428732218484,0.7760821440484603,0.46967555438936853,0.6560819558834091,0.7142495380104125,0.8012961766954225,0.8556448353390324,0.586564925894039,0.48339472066656436,0.8057886062834053,0.3917037153097397,0.6339003572028513,1.0377846159369497,0.8201819436945096,0.6869979118698469,1.0154672059162055,0.7728107698908893,0.8005709106625968,0.5904073393883658,0.514217948972557,0.7939553532439693,1.604740971208115,0.5646829180659532,0.6958702420700615],\"yaxis\":\"y\",\"type\":\"scatter\"},{\"hovertemplate\":\"<b>OLS trendline</b><br>gyms_per_100k = 0.0019117 * obesity_data + 0.619054<br>R<sup>2</sup>=0.008248<br><br>stratificationid1=RACENAA<br>obesity_data=%{x}<br>gyms_per_100k=%{y} <b>(trend)</b><extra></extra>\",\"legendgroup\":\"RACENAA\",\"marker\":{\"color\":\"#B6E880\",\"symbol\":\"circle\"},\"mode\":\"lines\",\"name\":\"RACENAA\",\"showlegend\":false,\"x\":[10.3,23.6,25.2,27.2,28.0,28.1,28.3,29.1,29.1,29.7,29.8,30.7,32.2,32.2,32.5,32.9,33.4,33.9,35.2,35.6,36.3,37.1,39.4,40.1,40.4,42.0,42.4,42.6,45.1,47.5,48.8],\"xaxis\":\"x\",\"y\":[0.6387446039577498,0.6641702078482045,0.6672289271132216,0.671052326194493,0.6725816858270015,0.672772855781065,0.6731551956891922,0.6746845553217008,0.6746845553217008,0.6758315750460822,0.6760227450001457,0.6777432745867178,0.6806108238976714,0.6806108238976714,0.6811843337598621,0.6819490135761164,0.6829048633464342,0.683860713116752,0.6863459225195785,0.6871106023358328,0.6884487920142777,0.6899781516467862,0.6943750605902483,0.6957132502686934,0.6962867601308841,0.6993454793959012,0.7001101592121555,0.7004924991202826,0.7052717479718718,0.7098598268693974,0.7123450362722239],\"yaxis\":\"y\",\"type\":\"scatter\"}],                        {\"template\":{\"data\":{\"bar\":[{\"error_x\":{\"color\":\"#2a3f5f\"},\"error_y\":{\"color\":\"#2a3f5f\"},\"marker\":{\"line\":{\"color\":\"#E5ECF6\",\"width\":0.5},\"pattern\":{\"fillmode\":\"overlay\",\"size\":10,\"solidity\":0.2}},\"type\":\"bar\"}],\"barpolar\":[{\"marker\":{\"line\":{\"color\":\"#E5ECF6\",\"width\":0.5},\"pattern\":{\"fillmode\":\"overlay\",\"size\":10,\"solidity\":0.2}},\"type\":\"barpolar\"}],\"carpet\":[{\"aaxis\":{\"endlinecolor\":\"#2a3f5f\",\"gridcolor\":\"white\",\"linecolor\":\"white\",\"minorgridcolor\":\"white\",\"startlinecolor\":\"#2a3f5f\"},\"baxis\":{\"endlinecolor\":\"#2a3f5f\",\"gridcolor\":\"white\",\"linecolor\":\"white\",\"minorgridcolor\":\"white\",\"startlinecolor\":\"#2a3f5f\"},\"type\":\"carpet\"}],\"choropleth\":[{\"colorbar\":{\"outlinewidth\":0,\"ticks\":\"\"},\"type\":\"choropleth\"}],\"contour\":[{\"colorbar\":{\"outlinewidth\":0,\"ticks\":\"\"},\"colorscale\":[[0.0,\"#0d0887\"],[0.1111111111111111,\"#46039f\"],[0.2222222222222222,\"#7201a8\"],[0.3333333333333333,\"#9c179e\"],[0.4444444444444444,\"#bd3786\"],[0.5555555555555556,\"#d8576b\"],[0.6666666666666666,\"#ed7953\"],[0.7777777777777778,\"#fb9f3a\"],[0.8888888888888888,\"#fdca26\"],[1.0,\"#f0f921\"]],\"type\":\"contour\"}],\"contourcarpet\":[{\"colorbar\":{\"outlinewidth\":0,\"ticks\":\"\"},\"type\":\"contourcarpet\"}],\"heatmap\":[{\"colorbar\":{\"outlinewidth\":0,\"ticks\":\"\"},\"colorscale\":[[0.0,\"#0d0887\"],[0.1111111111111111,\"#46039f\"],[0.2222222222222222,\"#7201a8\"],[0.3333333333333333,\"#9c179e\"],[0.4444444444444444,\"#bd3786\"],[0.5555555555555556,\"#d8576b\"],[0.6666666666666666,\"#ed7953\"],[0.7777777777777778,\"#fb9f3a\"],[0.8888888888888888,\"#fdca26\"],[1.0,\"#f0f921\"]],\"type\":\"heatmap\"}],\"heatmapgl\":[{\"colorbar\":{\"outlinewidth\":0,\"ticks\":\"\"},\"colorscale\":[[0.0,\"#0d0887\"],[0.1111111111111111,\"#46039f\"],[0.2222222222222222,\"#7201a8\"],[0.3333333333333333,\"#9c179e\"],[0.4444444444444444,\"#bd3786\"],[0.5555555555555556,\"#d8576b\"],[0.6666666666666666,\"#ed7953\"],[0.7777777777777778,\"#fb9f3a\"],[0.8888888888888888,\"#fdca26\"],[1.0,\"#f0f921\"]],\"type\":\"heatmapgl\"}],\"histogram\":[{\"marker\":{\"pattern\":{\"fillmode\":\"overlay\",\"size\":10,\"solidity\":0.2}},\"type\":\"histogram\"}],\"histogram2d\":[{\"colorbar\":{\"outlinewidth\":0,\"ticks\":\"\"},\"colorscale\":[[0.0,\"#0d0887\"],[0.1111111111111111,\"#46039f\"],[0.2222222222222222,\"#7201a8\"],[0.3333333333333333,\"#9c179e\"],[0.4444444444444444,\"#bd3786\"],[0.5555555555555556,\"#d8576b\"],[0.6666666666666666,\"#ed7953\"],[0.7777777777777778,\"#fb9f3a\"],[0.8888888888888888,\"#fdca26\"],[1.0,\"#f0f921\"]],\"type\":\"histogram2d\"}],\"histogram2dcontour\":[{\"colorbar\":{\"outlinewidth\":0,\"ticks\":\"\"},\"colorscale\":[[0.0,\"#0d0887\"],[0.1111111111111111,\"#46039f\"],[0.2222222222222222,\"#7201a8\"],[0.3333333333333333,\"#9c179e\"],[0.4444444444444444,\"#bd3786\"],[0.5555555555555556,\"#d8576b\"],[0.6666666666666666,\"#ed7953\"],[0.7777777777777778,\"#fb9f3a\"],[0.8888888888888888,\"#fdca26\"],[1.0,\"#f0f921\"]],\"type\":\"histogram2dcontour\"}],\"mesh3d\":[{\"colorbar\":{\"outlinewidth\":0,\"ticks\":\"\"},\"type\":\"mesh3d\"}],\"parcoords\":[{\"line\":{\"colorbar\":{\"outlinewidth\":0,\"ticks\":\"\"}},\"type\":\"parcoords\"}],\"pie\":[{\"automargin\":true,\"type\":\"pie\"}],\"scatter\":[{\"marker\":{\"colorbar\":{\"outlinewidth\":0,\"ticks\":\"\"}},\"type\":\"scatter\"}],\"scatter3d\":[{\"line\":{\"colorbar\":{\"outlinewidth\":0,\"ticks\":\"\"}},\"marker\":{\"colorbar\":{\"outlinewidth\":0,\"ticks\":\"\"}},\"type\":\"scatter3d\"}],\"scattercarpet\":[{\"marker\":{\"colorbar\":{\"outlinewidth\":0,\"ticks\":\"\"}},\"type\":\"scattercarpet\"}],\"scattergeo\":[{\"marker\":{\"colorbar\":{\"outlinewidth\":0,\"ticks\":\"\"}},\"type\":\"scattergeo\"}],\"scattergl\":[{\"marker\":{\"colorbar\":{\"outlinewidth\":0,\"ticks\":\"\"}},\"type\":\"scattergl\"}],\"scattermapbox\":[{\"marker\":{\"colorbar\":{\"outlinewidth\":0,\"ticks\":\"\"}},\"type\":\"scattermapbox\"}],\"scatterpolar\":[{\"marker\":{\"colorbar\":{\"outlinewidth\":0,\"ticks\":\"\"}},\"type\":\"scatterpolar\"}],\"scatterpolargl\":[{\"marker\":{\"colorbar\":{\"outlinewidth\":0,\"ticks\":\"\"}},\"type\":\"scatterpolargl\"}],\"scatterternary\":[{\"marker\":{\"colorbar\":{\"outlinewidth\":0,\"ticks\":\"\"}},\"type\":\"scatterternary\"}],\"surface\":[{\"colorbar\":{\"outlinewidth\":0,\"ticks\":\"\"},\"colorscale\":[[0.0,\"#0d0887\"],[0.1111111111111111,\"#46039f\"],[0.2222222222222222,\"#7201a8\"],[0.3333333333333333,\"#9c179e\"],[0.4444444444444444,\"#bd3786\"],[0.5555555555555556,\"#d8576b\"],[0.6666666666666666,\"#ed7953\"],[0.7777777777777778,\"#fb9f3a\"],[0.8888888888888888,\"#fdca26\"],[1.0,\"#f0f921\"]],\"type\":\"surface\"}],\"table\":[{\"cells\":{\"fill\":{\"color\":\"#EBF0F8\"},\"line\":{\"color\":\"white\"}},\"header\":{\"fill\":{\"color\":\"#C8D4E3\"},\"line\":{\"color\":\"white\"}},\"type\":\"table\"}]},\"layout\":{\"annotationdefaults\":{\"arrowcolor\":\"#2a3f5f\",\"arrowhead\":0,\"arrowwidth\":1},\"autotypenumbers\":\"strict\",\"coloraxis\":{\"colorbar\":{\"outlinewidth\":0,\"ticks\":\"\"}},\"colorscale\":{\"diverging\":[[0,\"#8e0152\"],[0.1,\"#c51b7d\"],[0.2,\"#de77ae\"],[0.3,\"#f1b6da\"],[0.4,\"#fde0ef\"],[0.5,\"#f7f7f7\"],[0.6,\"#e6f5d0\"],[0.7,\"#b8e186\"],[0.8,\"#7fbc41\"],[0.9,\"#4d9221\"],[1,\"#276419\"]],\"sequential\":[[0.0,\"#0d0887\"],[0.1111111111111111,\"#46039f\"],[0.2222222222222222,\"#7201a8\"],[0.3333333333333333,\"#9c179e\"],[0.4444444444444444,\"#bd3786\"],[0.5555555555555556,\"#d8576b\"],[0.6666666666666666,\"#ed7953\"],[0.7777777777777778,\"#fb9f3a\"],[0.8888888888888888,\"#fdca26\"],[1.0,\"#f0f921\"]],\"sequentialminus\":[[0.0,\"#0d0887\"],[0.1111111111111111,\"#46039f\"],[0.2222222222222222,\"#7201a8\"],[0.3333333333333333,\"#9c179e\"],[0.4444444444444444,\"#bd3786\"],[0.5555555555555556,\"#d8576b\"],[0.6666666666666666,\"#ed7953\"],[0.7777777777777778,\"#fb9f3a\"],[0.8888888888888888,\"#fdca26\"],[1.0,\"#f0f921\"]]},\"colorway\":[\"#636efa\",\"#EF553B\",\"#00cc96\",\"#ab63fa\",\"#FFA15A\",\"#19d3f3\",\"#FF6692\",\"#B6E880\",\"#FF97FF\",\"#FECB52\"],\"font\":{\"color\":\"#2a3f5f\"},\"geo\":{\"bgcolor\":\"white\",\"lakecolor\":\"white\",\"landcolor\":\"#E5ECF6\",\"showlakes\":true,\"showland\":true,\"subunitcolor\":\"white\"},\"hoverlabel\":{\"align\":\"left\"},\"hovermode\":\"closest\",\"mapbox\":{\"style\":\"light\"},\"paper_bgcolor\":\"white\",\"plot_bgcolor\":\"#E5ECF6\",\"polar\":{\"angularaxis\":{\"gridcolor\":\"white\",\"linecolor\":\"white\",\"ticks\":\"\"},\"bgcolor\":\"#E5ECF6\",\"radialaxis\":{\"gridcolor\":\"white\",\"linecolor\":\"white\",\"ticks\":\"\"}},\"scene\":{\"xaxis\":{\"backgroundcolor\":\"#E5ECF6\",\"gridcolor\":\"white\",\"gridwidth\":2,\"linecolor\":\"white\",\"showbackground\":true,\"ticks\":\"\",\"zerolinecolor\":\"white\"},\"yaxis\":{\"backgroundcolor\":\"#E5ECF6\",\"gridcolor\":\"white\",\"gridwidth\":2,\"linecolor\":\"white\",\"showbackground\":true,\"ticks\":\"\",\"zerolinecolor\":\"white\"},\"zaxis\":{\"backgroundcolor\":\"#E5ECF6\",\"gridcolor\":\"white\",\"gridwidth\":2,\"linecolor\":\"white\",\"showbackground\":true,\"ticks\":\"\",\"zerolinecolor\":\"white\"}},\"shapedefaults\":{\"line\":{\"color\":\"#2a3f5f\"}},\"ternary\":{\"aaxis\":{\"gridcolor\":\"white\",\"linecolor\":\"white\",\"ticks\":\"\"},\"baxis\":{\"gridcolor\":\"white\",\"linecolor\":\"white\",\"ticks\":\"\"},\"bgcolor\":\"#E5ECF6\",\"caxis\":{\"gridcolor\":\"white\",\"linecolor\":\"white\",\"ticks\":\"\"}},\"title\":{\"x\":0.05},\"xaxis\":{\"automargin\":true,\"gridcolor\":\"white\",\"linecolor\":\"white\",\"ticks\":\"\",\"title\":{\"standoff\":15},\"zerolinecolor\":\"white\",\"zerolinewidth\":2},\"yaxis\":{\"automargin\":true,\"gridcolor\":\"white\",\"linecolor\":\"white\",\"ticks\":\"\",\"title\":{\"standoff\":15},\"zerolinecolor\":\"white\",\"zerolinewidth\":2}}},\"xaxis\":{\"anchor\":\"y\",\"domain\":[0.0,1.0],\"title\":{\"text\":\"obesity_data\"}},\"yaxis\":{\"anchor\":\"x\",\"domain\":[0.0,1.0],\"title\":{\"text\":\"gyms_per_100k\"}},\"legend\":{\"title\":{\"text\":\"stratificationid1\"},\"tracegroupgap\":0},\"margin\":{\"t\":60}},                        {\"responsive\": true}                    ).then(function(){\n",
       "                            \n",
       "var gd = document.getElementById('720d844d-fecb-4ccd-9193-f2f296e15d11');\n",
       "var x = new MutationObserver(function (mutations, observer) {{\n",
       "        var display = window.getComputedStyle(gd).display;\n",
       "        if (!display || display === 'none') {{\n",
       "            console.log([gd, 'removed!']);\n",
       "            Plotly.purge(gd);\n",
       "            observer.disconnect();\n",
       "        }}\n",
       "}});\n",
       "\n",
       "// Listen for the removal of the full notebook cells\n",
       "var notebookContainer = gd.closest('#notebook-container');\n",
       "if (notebookContainer) {{\n",
       "    x.observe(notebookContainer, {childList: true});\n",
       "}}\n",
       "\n",
       "// Listen for the clearing of the current output cell\n",
       "var outputEl = gd.closest('.output');\n",
       "if (outputEl) {{\n",
       "    x.observe(outputEl, {childList: true});\n",
       "}}\n",
       "\n",
       "                        })                };                });            </script>        </div>"
      ]
     },
     "metadata": {},
     "output_type": "display_data"
    }
   ],
   "source": [
    "query = \"\"\"\n",
    "SELECT gyms.*,\n",
    "    weight_condition.abbr,\n",
    "    weight_condition.locationdesc,\n",
    "    weight_condition.data_value AS obesity_data,\n",
    "    weight_condition.stratificationcategoryid1,\n",
    "    weight_condition.stratificationid1,\n",
    "    states.*\n",
    "    FROM (SELECT COUNT(gym_locations.abbr) AS n_gyms,gym_locations.State_ID_fk FROM gym_locations\n",
    "GROUP BY State_ID_fk) as gyms\n",
    "JOIN weight_condition ON weight_condition.State_ID_fk = gyms.State_ID_fk\n",
    "AND weight_condition.stratificationcategoryid1 = 'RACE'\n",
    "JOIN states ON states.State_ID_fk = gyms.State_ID_fk\n",
    "\"\"\"\n",
    "agedf = pd.read_sql(query,con=conn)\n",
    "\n",
    "agedf.dtypes\n",
    "agedf['obesity_data'] = agedf['obesity_data'].astype(float)\n",
    "agedf['Pop'] = agedf['Pop'].astype(int)\n",
    "agedf['gyms_per_100k'] = agedf['n_gyms']/(agedf['Pop']/100000)\n",
    "\n",
    "px.scatter(agedf, y = 'gyms_per_100k', x = 'obesity_data', trendline = 'ols', color = 'stratificationid1')"
   ]
  },
  {
   "cell_type": "code",
   "execution_count": 110,
   "id": "f9abd9b3-9162-4dd4-82b4-b9cd235f83f2",
   "metadata": {},
   "outputs": [
    {
     "data": {
      "application/vnd.plotly.v1+json": {
       "config": {
        "plotlyServerURL": "https://plot.ly"
       },
       "data": [
        {
         "hovertemplate": "stratificationid1=AGEYR1824<br>leisure_data=%{x}<br>gyms_per_100k=%{y}<extra></extra>",
         "legendgroup": "AGEYR1824",
         "marker": {
          "color": "#636efa",
          "symbol": "circle"
         },
         "mode": "markers",
         "name": "AGEYR1824",
         "orientation": "v",
         "showlegend": true,
         "type": "scatter",
         "x": [
          13.5,
          10.9,
          17.2,
          14.6,
          12.9,
          18.2,
          20.9,
          25,
          18.6,
          14.2,
          10.9,
          16.8,
          20.6,
          17.2,
          15.4,
          18.9,
          14.3,
          18.2,
          15.2,
          15.6,
          15.1,
          12.3,
          12.5,
          16.1,
          17.3,
          27.4,
          20.4,
          19.3,
          16.7,
          17.9,
          18.2,
          10.2,
          13.5,
          41.8,
          19.1,
          15,
          15,
          17.6,
          15.8,
          null,
          14,
          20,
          16.7,
          21.6,
          12.7,
          21.3,
          17.5,
          20.3,
          14.1,
          24.5,
          14.3,
          10.6
         ],
         "xaxis": "x",
         "y": [
          0.5646829180659532,
          0.43668694349707643,
          0.7754310362653586,
          0.6869979118698469,
          0.8005709106625968,
          0.35313926682637975,
          0.7042412440580931,
          0.8201819436945096,
          0.596636467089929,
          1.1896984303089893,
          0.42508030475423986,
          0.6339003572028513,
          0.6958702420700615,
          0.5835278998418982,
          0.8911712663954234,
          0.7939553532439693,
          0.5904073393883658,
          0.5812526803961919,
          1.0154672059162055,
          0.3917037153097397,
          1.0377846159369497,
          0.8012961766954225,
          0.46782400086828135,
          0.915382706966319,
          0.48339472066656436,
          0.8057886062834053,
          0.9538212224268169,
          0.7750064498892046,
          0.5248916754804728,
          0.586564925894039,
          0.6911339607677808,
          0.6560819558834091,
          0.8556448353390324,
          0.46967555438936853,
          1.604740971208115,
          0.6137889358406425,
          0.7142495380104125,
          0.9060905475594302,
          0.8104435471722004,
          0.7263335052477828,
          0.514217948972557,
          0.7418034077343738,
          0.8927163274840576,
          0.7556276744926338,
          1.470900801714482,
          1.0269428732218484,
          0.7728107698908893,
          0.7760821440484603,
          0.8351600030609586,
          0.7313724806906909,
          0.5690255224543398,
          0.3391137150020516
         ],
         "yaxis": "y"
        },
        {
         "hovertemplate": "<b>OLS trendline</b><br>gyms_per_100k = 0.00112478 * leisure_data + 0.718481<br>R<sup>2</sup>=0.000530<br><br>stratificationid1=AGEYR1824<br>leisure_data=%{x}<br>gyms_per_100k=%{y} <b>(trend)</b><extra></extra>",
         "legendgroup": "AGEYR1824",
         "marker": {
          "color": "#636efa",
          "symbol": "circle"
         },
         "mode": "lines",
         "name": "AGEYR1824",
         "showlegend": false,
         "type": "scatter",
         "x": [
          10.2,
          10.6,
          10.9,
          10.9,
          12.3,
          12.5,
          12.7,
          12.9,
          13.5,
          13.5,
          14,
          14.1,
          14.2,
          14.3,
          14.3,
          14.6,
          15,
          15,
          15.1,
          15.2,
          15.4,
          15.6,
          15.8,
          16.1,
          16.7,
          16.7,
          16.8,
          17.2,
          17.2,
          17.3,
          17.5,
          17.6,
          17.9,
          18.2,
          18.2,
          18.2,
          18.6,
          18.9,
          19.1,
          19.3,
          20,
          20.3,
          20.4,
          20.6,
          20.9,
          21.3,
          21.6,
          24.5,
          25,
          27.4,
          41.8
         ],
         "xaxis": "x",
         "y": [
          0.729953865966025,
          0.7304037791766882,
          0.7307412140846856,
          0.7307412140846856,
          0.7323159103220069,
          0.7325408669273386,
          0.7327658235326702,
          0.7329907801380018,
          0.7336656499539966,
          0.7336656499539966,
          0.7342280414673257,
          0.7343405197699915,
          0.7344529980726573,
          0.7345654763753231,
          0.7345654763753231,
          0.7349029112833205,
          0.7353528244939838,
          0.7353528244939838,
          0.7354653027966496,
          0.7355777810993154,
          0.735802737704647,
          0.7360276943099786,
          0.7362526509153102,
          0.7365900858233076,
          0.7372649556393025,
          0.7372649556393025,
          0.7373774339419683,
          0.7378273471526315,
          0.7378273471526315,
          0.7379398254552973,
          0.738164782060629,
          0.7382772603632948,
          0.7386146952712922,
          0.7389521301792896,
          0.7389521301792896,
          0.7389521301792896,
          0.7394020433899529,
          0.7397394782979503,
          0.7399644349032819,
          0.7401893915086135,
          0.7409767396272742,
          0.7413141745352716,
          0.7414266528379374,
          0.741651609443269,
          0.7419890443512664,
          0.7424389575619297,
          0.7427763924699271,
          0.7460382632472355,
          0.7466006547605646,
          0.749300134024544,
          0.7654970096084203
         ],
         "yaxis": "y"
        },
        {
         "hovertemplate": "stratificationid1=AGEYR5564<br>leisure_data=%{x}<br>gyms_per_100k=%{y}<extra></extra>",
         "legendgroup": "AGEYR5564",
         "marker": {
          "color": "#EF553B",
          "symbol": "circle"
         },
         "mode": "markers",
         "name": "AGEYR5564",
         "orientation": "v",
         "showlegend": true,
         "type": "scatter",
         "x": [
          20.4,
          20.4,
          28.8,
          23.9,
          29.8,
          19.6,
          27.1,
          20.1,
          28,
          21.2,
          17.9,
          26.8,
          35.2,
          29.3,
          25.3,
          22.6,
          19.1,
          32.1,
          27.2,
          24.2,
          21.5,
          22,
          24.6,
          31.6,
          20.7,
          35.4,
          25.8,
          39.1,
          26.9,
          28.2,
          25.1,
          22.2,
          24.7,
          49.9,
          24.9,
          38.4,
          32.4,
          31.1,
          25.5,
          null,
          22,
          30.7,
          26.4,
          25.7,
          21.9,
          30.3,
          40.8,
          37.8,
          29.2,
          34.3,
          22.9,
          29
         ],
         "xaxis": "x",
         "y": [
          0.5646829180659532,
          0.43668694349707643,
          0.7754310362653586,
          0.6869979118698469,
          0.8005709106625968,
          0.35313926682637975,
          0.7042412440580931,
          0.8201819436945096,
          0.596636467089929,
          1.1896984303089893,
          0.42508030475423986,
          0.6339003572028513,
          0.6958702420700615,
          0.5835278998418982,
          0.8911712663954234,
          0.7939553532439693,
          0.5904073393883658,
          0.5812526803961919,
          1.0154672059162055,
          0.3917037153097397,
          1.0377846159369497,
          0.8012961766954225,
          0.46782400086828135,
          0.915382706966319,
          0.48339472066656436,
          0.8057886062834053,
          0.9538212224268169,
          0.7750064498892046,
          0.5248916754804728,
          0.586564925894039,
          0.6911339607677808,
          0.6560819558834091,
          0.8556448353390324,
          0.46967555438936853,
          1.604740971208115,
          0.6137889358406425,
          0.7142495380104125,
          0.9060905475594302,
          0.8104435471722004,
          0.7263335052477828,
          0.514217948972557,
          0.7418034077343738,
          0.8927163274840576,
          0.7556276744926338,
          1.470900801714482,
          1.0269428732218484,
          0.7728107698908893,
          0.7760821440484603,
          0.8351600030609586,
          0.7313724806906909,
          0.5690255224543398,
          0.3391137150020516
         ],
         "yaxis": "y"
        },
        {
         "hovertemplate": "<b>OLS trendline</b><br>gyms_per_100k = -0.000840364 * leisure_data + 0.760912<br>R<sup>2</sup>=0.000470<br><br>stratificationid1=AGEYR5564<br>leisure_data=%{x}<br>gyms_per_100k=%{y} <b>(trend)</b><extra></extra>",
         "legendgroup": "AGEYR5564",
         "marker": {
          "color": "#EF553B",
          "symbol": "circle"
         },
         "mode": "lines",
         "name": "AGEYR5564",
         "showlegend": false,
         "type": "scatter",
         "x": [
          17.9,
          19.1,
          19.6,
          20.1,
          20.4,
          20.4,
          20.7,
          21.2,
          21.5,
          21.9,
          22,
          22,
          22.2,
          22.6,
          22.9,
          23.9,
          24.2,
          24.6,
          24.7,
          24.9,
          25.1,
          25.3,
          25.5,
          25.7,
          25.8,
          26.4,
          26.8,
          26.9,
          27.1,
          27.2,
          28,
          28.2,
          28.8,
          29,
          29.2,
          29.3,
          29.8,
          30.3,
          30.7,
          31.1,
          31.6,
          32.1,
          32.4,
          34.3,
          35.2,
          35.4,
          37.8,
          38.4,
          39.1,
          40.8,
          49.9
         ],
         "xaxis": "x",
         "y": [
          0.7458690888761802,
          0.7448606516441154,
          0.7444404694640884,
          0.7440202872840614,
          0.7437681779760452,
          0.7437681779760452,
          0.743516068668029,
          0.743095886488002,
          0.7428437771799857,
          0.7425076314359642,
          0.7424235949999588,
          0.7424235949999588,
          0.742255522127948,
          0.7419193763839264,
          0.7416672670759101,
          0.7408269027158562,
          0.7405747934078399,
          0.7402386476638183,
          0.7401546112278129,
          0.7399865383558021,
          0.7398184654837914,
          0.7396503926117806,
          0.7394823197397697,
          0.7393142468677589,
          0.7392302104317535,
          0.7387259918157211,
          0.7383898460716996,
          0.7383058096356941,
          0.7381377367636833,
          0.7380537003276779,
          0.7373814088396347,
          0.7372133359676238,
          0.7367091173515915,
          0.7365410444795807,
          0.7363729716075699,
          0.7362889351715645,
          0.7358687529915374,
          0.7354485708115104,
          0.7351124250674889,
          0.7347762793234672,
          0.7343560971434402,
          0.7339359149634133,
          0.733683805655397,
          0.7320871133712944,
          0.7313307854472457,
          0.7311627125752349,
          0.7291458381111053,
          0.7286416194950729,
          0.7280533644430351,
          0.7266247450309433,
          0.7189774293544517
         ],
         "yaxis": "y"
        },
        {
         "hovertemplate": "stratificationid1=AGEYR2534<br>leisure_data=%{x}<br>gyms_per_100k=%{y}<extra></extra>",
         "legendgroup": "AGEYR2534",
         "marker": {
          "color": "#00cc96",
          "symbol": "circle"
         },
         "mode": "markers",
         "name": "AGEYR2534",
         "orientation": "v",
         "showlegend": true,
         "type": "scatter",
         "x": [
          15.5,
          14.5,
          18.3,
          14.1,
          16.4,
          19.9,
          22.8,
          13.1,
          19.3,
          21.2,
          10.2,
          19,
          19.8,
          16.9,
          18.4,
          19.3,
          12.4,
          21.1,
          18.4,
          15.6,
          23.9,
          13.2,
          15.9,
          15.6,
          18.4,
          26.6,
          17.9,
          23.3,
          24.7,
          20.3,
          18.8,
          15.9,
          22.7,
          42.9,
          23.4,
          23.9,
          20.8,
          22.8,
          17.4,
          null,
          16.5,
          22.1,
          21.6,
          17.4,
          17.1,
          24.7,
          29.4,
          19.9,
          21.1,
          25,
          19.9,
          13.5
         ],
         "xaxis": "x",
         "y": [
          0.5646829180659532,
          0.43668694349707643,
          0.7754310362653586,
          0.6869979118698469,
          0.8005709106625968,
          0.35313926682637975,
          0.7042412440580931,
          0.8201819436945096,
          0.596636467089929,
          1.1896984303089893,
          0.42508030475423986,
          0.6339003572028513,
          0.6958702420700615,
          0.5835278998418982,
          0.8911712663954234,
          0.7939553532439693,
          0.5904073393883658,
          0.5812526803961919,
          1.0154672059162055,
          0.3917037153097397,
          1.0377846159369497,
          0.8012961766954225,
          0.46782400086828135,
          0.915382706966319,
          0.48339472066656436,
          0.8057886062834053,
          0.9538212224268169,
          0.7750064498892046,
          0.5248916754804728,
          0.586564925894039,
          0.6911339607677808,
          0.6560819558834091,
          0.8556448353390324,
          0.46967555438936853,
          1.604740971208115,
          0.6137889358406425,
          0.7142495380104125,
          0.9060905475594302,
          0.8104435471722004,
          0.7263335052477828,
          0.514217948972557,
          0.7418034077343738,
          0.8927163274840576,
          0.7556276744926338,
          1.470900801714482,
          1.0269428732218484,
          0.7728107698908893,
          0.7760821440484603,
          0.8351600030609586,
          0.7313724806906909,
          0.5690255224543398,
          0.3391137150020516
         ],
         "yaxis": "y"
        },
        {
         "hovertemplate": "<b>OLS trendline</b><br>gyms_per_100k = 0.00671719 * leisure_data + 0.605764<br>R<sup>2</sup>=0.019436<br><br>stratificationid1=AGEYR2534<br>leisure_data=%{x}<br>gyms_per_100k=%{y} <b>(trend)</b><extra></extra>",
         "legendgroup": "AGEYR2534",
         "marker": {
          "color": "#00cc96",
          "symbol": "circle"
         },
         "mode": "lines",
         "name": "AGEYR2534",
         "showlegend": false,
         "type": "scatter",
         "x": [
          10.2,
          12.4,
          13.1,
          13.2,
          13.5,
          14.1,
          14.5,
          15.5,
          15.6,
          15.6,
          15.9,
          15.9,
          16.4,
          16.5,
          16.9,
          17.1,
          17.4,
          17.4,
          17.9,
          18.3,
          18.4,
          18.4,
          18.4,
          18.8,
          19,
          19.3,
          19.3,
          19.8,
          19.9,
          19.9,
          19.9,
          20.3,
          20.8,
          21.1,
          21.1,
          21.2,
          21.6,
          22.1,
          22.7,
          22.8,
          22.8,
          23.3,
          23.4,
          23.9,
          23.9,
          24.7,
          24.7,
          25,
          26.6,
          29.4,
          42.9
         ],
         "xaxis": "x",
         "y": [
          0.6742796869036773,
          0.6890575145990643,
          0.6937595506839601,
          0.6944312701246595,
          0.6964464284467577,
          0.7004767450909541,
          0.7031636228537518,
          0.7098808172607459,
          0.7105525367014452,
          0.7105525367014452,
          0.7125676950235436,
          0.7125676950235436,
          0.7159262922270405,
          0.71659801166774,
          0.7192848894305376,
          0.7206283283119364,
          0.7226434866340345,
          0.7226434866340345,
          0.7260020838375316,
          0.7286889616003293,
          0.7293606810410287,
          0.7293606810410287,
          0.7293606810410287,
          0.7320475588038263,
          0.7333909976852251,
          0.7354061560073233,
          0.7354061560073233,
          0.7387647532108204,
          0.7394364726515197,
          0.7394364726515197,
          0.7394364726515197,
          0.7421233504143174,
          0.7454819476178144,
          0.7474971059399127,
          0.7474971059399127,
          0.748168825380612,
          0.7508557031434097,
          0.7542143003469067,
          0.7582446169911031,
          0.7589163364318026,
          0.7589163364318026,
          0.7622749336352995,
          0.762946653075999,
          0.766305250279496,
          0.766305250279496,
          0.7716790058050913,
          0.7716790058050913,
          0.7736941641271895,
          0.7844416751783799,
          0.8032498195179634,
          0.8939319440123832
         ],
         "yaxis": "y"
        },
        {
         "hovertemplate": "stratificationid1=AGEYR65PLUS<br>leisure_data=%{x}<br>gyms_per_100k=%{y}<extra></extra>",
         "legendgroup": "AGEYR65PLUS",
         "marker": {
          "color": "#ab63fa",
          "symbol": "circle"
         },
         "mode": "markers",
         "name": "AGEYR65PLUS",
         "orientation": "v",
         "showlegend": true,
         "type": "scatter",
         "x": [
          22.2,
          24.6,
          33.4,
          26.4,
          33.5,
          25.4,
          31.2,
          30.9,
          34.2,
          27.8,
          26.7,
          33,
          40,
          32.5,
          30.2,
          28.2,
          21.4,
          39,
          32.2,
          26.7,
          29.8,
          24.6,
          29.6,
          35.6,
          25.4,
          37.2,
          30,
          41.3,
          30.8,
          34.7,
          29.3,
          28.7,
          32.4,
          51.1,
          29,
          41,
          28.3,
          35.2,
          27.5,
          null,
          27.6,
          36,
          35.1,
          27.4,
          26.4,
          33.2,
          36.2,
          38.5,
          31.3,
          40.5,
          22,
          33.1
         ],
         "xaxis": "x",
         "y": [
          0.5646829180659532,
          0.43668694349707643,
          0.7754310362653586,
          0.6869979118698469,
          0.8005709106625968,
          0.35313926682637975,
          0.7042412440580931,
          0.8201819436945096,
          0.596636467089929,
          1.1896984303089893,
          0.42508030475423986,
          0.6339003572028513,
          0.6958702420700615,
          0.5835278998418982,
          0.8911712663954234,
          0.7939553532439693,
          0.5904073393883658,
          0.5812526803961919,
          1.0154672059162055,
          0.3917037153097397,
          1.0377846159369497,
          0.8012961766954225,
          0.46782400086828135,
          0.915382706966319,
          0.48339472066656436,
          0.8057886062834053,
          0.9538212224268169,
          0.7750064498892046,
          0.5248916754804728,
          0.586564925894039,
          0.6911339607677808,
          0.6560819558834091,
          0.8556448353390324,
          0.46967555438936853,
          1.604740971208115,
          0.6137889358406425,
          0.7142495380104125,
          0.9060905475594302,
          0.8104435471722004,
          0.7263335052477828,
          0.514217948972557,
          0.7418034077343738,
          0.8927163274840576,
          0.7556276744926338,
          1.470900801714482,
          1.0269428732218484,
          0.7728107698908893,
          0.7760821440484603,
          0.8351600030609586,
          0.7313724806906909,
          0.5690255224543398,
          0.3391137150020516
         ],
         "yaxis": "y"
        },
        {
         "hovertemplate": "<b>OLS trendline</b><br>gyms_per_100k = 0.000394621 * leisure_data + 0.725398<br>R<sup>2</sup>=0.000083<br><br>stratificationid1=AGEYR65PLUS<br>leisure_data=%{x}<br>gyms_per_100k=%{y} <b>(trend)</b><extra></extra>",
         "legendgroup": "AGEYR65PLUS",
         "marker": {
          "color": "#ab63fa",
          "symbol": "circle"
         },
         "mode": "lines",
         "name": "AGEYR65PLUS",
         "showlegend": false,
         "type": "scatter",
         "x": [
          21.4,
          22,
          22.2,
          24.6,
          24.6,
          25.4,
          25.4,
          26.4,
          26.4,
          26.7,
          26.7,
          27.4,
          27.5,
          27.6,
          27.8,
          28.2,
          28.3,
          28.7,
          29,
          29.3,
          29.6,
          29.8,
          30,
          30.2,
          30.8,
          30.9,
          31.2,
          31.3,
          32.2,
          32.4,
          32.5,
          33,
          33.1,
          33.2,
          33.4,
          33.5,
          34.2,
          34.7,
          35.1,
          35.2,
          35.6,
          36,
          36.2,
          37.2,
          38.5,
          39,
          40,
          40.5,
          41,
          41.3,
          51.1
         ],
         "xaxis": "x",
         "y": [
          0.7338431846333581,
          0.7340799572817639,
          0.7341588814978991,
          0.7351059720915223,
          0.7351059720915223,
          0.7354216689560633,
          0.7354216689560633,
          0.7358162900367395,
          0.7358162900367395,
          0.7359346763609425,
          0.7359346763609425,
          0.7362109111174159,
          0.7362503732254835,
          0.7362898353335512,
          0.7363687595496864,
          0.7365266079819569,
          0.7365660700900246,
          0.7367239185222951,
          0.7368423048464979,
          0.7369606911707008,
          0.7370790774949038,
          0.737158001711039,
          0.7372369259271743,
          0.7373158501433096,
          0.7375526227917153,
          0.7375920848997829,
          0.7377104712239858,
          0.7377499333320534,
          0.7381050923046621,
          0.7381840165207973,
          0.7382234786288651,
          0.7384207891692032,
          0.7384602512772708,
          0.7384997133853384,
          0.7385786376014737,
          0.7386180997095413,
          0.7388943344660147,
          0.7390916450063528,
          0.7392494934386233,
          0.739288955546691,
          0.7394468039789616,
          0.7396046524112321,
          0.7396835766273673,
          0.7400781977080436,
          0.7405912051129228,
          0.740788515653261,
          0.7411831367339372,
          0.7413804472742754,
          0.7415777578146135,
          0.7416961441388165,
          0.7455634307294442
         ],
         "yaxis": "y"
        },
        {
         "hovertemplate": "stratificationid1=AGEYR3544<br>leisure_data=%{x}<br>gyms_per_100k=%{y}<extra></extra>",
         "legendgroup": "AGEYR3544",
         "marker": {
          "color": "#FFA15A",
          "symbol": "circle"
         },
         "mode": "markers",
         "name": "AGEYR3544",
         "orientation": "v",
         "showlegend": true,
         "type": "scatter",
         "x": [
          16.3,
          14.7,
          20.9,
          15.2,
          20.4,
          14.8,
          23.9,
          13.5,
          23.6,
          18.6,
          14.5,
          21.2,
          28.3,
          18.2,
          19.3,
          18.7,
          14.9,
          21.3,
          20.3,
          19,
          20.7,
          11.5,
          15.8,
          22.4,
          18.9,
          22,
          20.4,
          22.4,
          25.5,
          20.5,
          20.8,
          21.2,
          22.8,
          44.4,
          22.7,
          21.6,
          18.3,
          20.4,
          19.6,
          null,
          17.7,
          22.7,
          22.4,
          18.6,
          18.1,
          22.3,
          26.3,
          22.3,
          21.2,
          21.4,
          18.8,
          25.1
         ],
         "xaxis": "x",
         "y": [
          0.5646829180659532,
          0.43668694349707643,
          0.7754310362653586,
          0.6869979118698469,
          0.8005709106625968,
          0.35313926682637975,
          0.7042412440580931,
          0.8201819436945096,
          0.596636467089929,
          1.1896984303089893,
          0.42508030475423986,
          0.6339003572028513,
          0.6958702420700615,
          0.5835278998418982,
          0.8911712663954234,
          0.7939553532439693,
          0.5904073393883658,
          0.5812526803961919,
          1.0154672059162055,
          0.3917037153097397,
          1.0377846159369497,
          0.8012961766954225,
          0.46782400086828135,
          0.915382706966319,
          0.48339472066656436,
          0.8057886062834053,
          0.9538212224268169,
          0.7750064498892046,
          0.5248916754804728,
          0.586564925894039,
          0.6911339607677808,
          0.6560819558834091,
          0.8556448353390324,
          0.46967555438936853,
          1.604740971208115,
          0.6137889358406425,
          0.7142495380104125,
          0.9060905475594302,
          0.8104435471722004,
          0.7263335052477828,
          0.514217948972557,
          0.7418034077343738,
          0.8927163274840576,
          0.7556276744926338,
          1.470900801714482,
          1.0269428732218484,
          0.7728107698908893,
          0.7760821440484603,
          0.8351600030609586,
          0.7313724806906909,
          0.5690255224543398,
          0.3391137150020516
         ],
         "yaxis": "y"
        },
        {
         "hovertemplate": "<b>OLS trendline</b><br>gyms_per_100k = 0.000201551 * leisure_data + 0.733707<br>R<sup>2</sup>=0.000015<br><br>stratificationid1=AGEYR3544<br>leisure_data=%{x}<br>gyms_per_100k=%{y} <b>(trend)</b><extra></extra>",
         "legendgroup": "AGEYR3544",
         "marker": {
          "color": "#FFA15A",
          "symbol": "circle"
         },
         "mode": "lines",
         "name": "AGEYR3544",
         "showlegend": false,
         "type": "scatter",
         "x": [
          11.5,
          13.5,
          14.5,
          14.7,
          14.8,
          14.9,
          15.2,
          15.8,
          16.3,
          17.7,
          18.1,
          18.2,
          18.3,
          18.6,
          18.6,
          18.7,
          18.8,
          18.9,
          19,
          19.3,
          19.6,
          20.3,
          20.4,
          20.4,
          20.4,
          20.5,
          20.7,
          20.8,
          20.9,
          21.2,
          21.2,
          21.2,
          21.3,
          21.4,
          21.6,
          22,
          22.3,
          22.3,
          22.4,
          22.4,
          22.4,
          22.7,
          22.7,
          22.8,
          23.6,
          23.9,
          25.1,
          25.5,
          26.3,
          28.3,
          44.4
         ],
         "xaxis": "x",
         "y": [
          0.7360252732003164,
          0.7364283743948664,
          0.7366299249921413,
          0.7366702351115963,
          0.7366903901713239,
          0.7367105452310514,
          0.7367710104102339,
          0.7368919407685988,
          0.7369927160672363,
          0.7372748869034212,
          0.7373555071423312,
          0.7373756622020587,
          0.7373958172617863,
          0.7374562824409687,
          0.7374562824409687,
          0.7374764375006962,
          0.7374965925604238,
          0.7375167476201512,
          0.7375369026798787,
          0.7375973678590612,
          0.7376578330382437,
          0.7377989184563362,
          0.7378190735160637,
          0.7378190735160637,
          0.7378190735160637,
          0.7378392285757912,
          0.7378795386952461,
          0.7378996937549737,
          0.7379198488147012,
          0.7379803139938836,
          0.7379803139938836,
          0.7379803139938836,
          0.7380004690536112,
          0.7380206241133387,
          0.7380609342327936,
          0.7381415544717036,
          0.738202019650886,
          0.738202019650886,
          0.7382221747106136,
          0.7382221747106136,
          0.7382221747106136,
          0.7382826398897961,
          0.7382826398897961,
          0.7383027949495236,
          0.7384640354273435,
          0.7385245006065261,
          0.738766361323256,
          0.738846981562166,
          0.739008222039986,
          0.739411323234536,
          0.7426562878506628
         ],
         "yaxis": "y"
        },
        {
         "hovertemplate": "stratificationid1=AGEYR4554<br>leisure_data=%{x}<br>gyms_per_100k=%{y}<extra></extra>",
         "legendgroup": "AGEYR4554",
         "marker": {
          "color": "#19d3f3",
          "symbol": "circle"
         },
         "mode": "markers",
         "name": "AGEYR4554",
         "orientation": "v",
         "showlegend": true,
         "type": "scatter",
         "x": [
          16.6,
          20.2,
          22,
          23,
          25.4,
          18.6,
          25.7,
          21.5,
          25.5,
          19.5,
          18.1,
          26.4,
          33.3,
          23.6,
          24.4,
          19.4,
          17.4,
          33.1,
          24.8,
          18.9,
          21.4,
          15.6,
          20.7,
          27,
          18.2,
          30.7,
          19,
          35.6,
          25.2,
          23.8,
          20.6,
          22.4,
          22.1,
          43.2,
          22.3,
          29.5,
          26.9,
          23.4,
          24.2,
          null,
          19.2,
          27.4,
          26.1,
          23.4,
          17.2,
          25.6,
          30,
          27.2,
          26.9,
          25.6,
          18.9,
          19.9
         ],
         "xaxis": "x",
         "y": [
          0.5646829180659532,
          0.43668694349707643,
          0.7754310362653586,
          0.6869979118698469,
          0.8005709106625968,
          0.35313926682637975,
          0.7042412440580931,
          0.8201819436945096,
          0.596636467089929,
          1.1896984303089893,
          0.42508030475423986,
          0.6339003572028513,
          0.6958702420700615,
          0.5835278998418982,
          0.8911712663954234,
          0.7939553532439693,
          0.5904073393883658,
          0.5812526803961919,
          1.0154672059162055,
          0.3917037153097397,
          1.0377846159369497,
          0.8012961766954225,
          0.46782400086828135,
          0.915382706966319,
          0.48339472066656436,
          0.8057886062834053,
          0.9538212224268169,
          0.7750064498892046,
          0.5248916754804728,
          0.586564925894039,
          0.6911339607677808,
          0.6560819558834091,
          0.8556448353390324,
          0.46967555438936853,
          1.604740971208115,
          0.6137889358406425,
          0.7142495380104125,
          0.9060905475594302,
          0.8104435471722004,
          0.7263335052477828,
          0.514217948972557,
          0.7418034077343738,
          0.8927163274840576,
          0.7556276744926338,
          1.470900801714482,
          1.0269428732218484,
          0.7728107698908893,
          0.7760821440484603,
          0.8351600030609586,
          0.7313724806906909,
          0.5690255224543398,
          0.3391137150020516
         ],
         "yaxis": "y"
        },
        {
         "hovertemplate": "<b>OLS trendline</b><br>gyms_per_100k = -0.00113797 * leisure_data + 0.764989<br>R<sup>2</sup>=0.000583<br><br>stratificationid1=AGEYR4554<br>leisure_data=%{x}<br>gyms_per_100k=%{y} <b>(trend)</b><extra></extra>",
         "legendgroup": "AGEYR4554",
         "marker": {
          "color": "#19d3f3",
          "symbol": "circle"
         },
         "mode": "lines",
         "name": "AGEYR4554",
         "showlegend": false,
         "type": "scatter",
         "x": [
          15.6,
          16.6,
          17.2,
          17.4,
          18.1,
          18.2,
          18.6,
          18.9,
          18.9,
          19,
          19.2,
          19.4,
          19.5,
          19.9,
          20.2,
          20.6,
          20.7,
          21.4,
          21.5,
          22,
          22.1,
          22.3,
          22.4,
          23,
          23.4,
          23.4,
          23.6,
          23.8,
          24.2,
          24.4,
          24.8,
          25.2,
          25.4,
          25.5,
          25.6,
          25.6,
          25.7,
          26.1,
          26.4,
          26.9,
          26.9,
          27,
          27.2,
          27.4,
          29.5,
          30,
          30.7,
          33.1,
          33.3,
          35.6,
          43.2
         ],
         "xaxis": "x",
         "y": [
          0.7472366279616859,
          0.7460986565290418,
          0.7454158736694554,
          0.7451882793829265,
          0.7443916993800758,
          0.7442779022368113,
          0.7438227136637537,
          0.7434813222339605,
          0.7434813222339605,
          0.7433675250906961,
          0.7431399308041673,
          0.7429123365176384,
          0.7427985393743741,
          0.7423433508013165,
          0.7420019593715232,
          0.7415467707984656,
          0.7414329736552012,
          0.7406363936523505,
          0.740522596509086,
          0.739953610792764,
          0.7398398136494996,
          0.7396122193629708,
          0.7394984222197064,
          0.73881563936012,
          0.7383604507870624,
          0.7383604507870624,
          0.7381328565005335,
          0.7379052622140048,
          0.7374500736409471,
          0.7372224793544183,
          0.7367672907813607,
          0.7363121022083031,
          0.7360845079217743,
          0.7359707107785098,
          0.7358569136352454,
          0.7358569136352454,
          0.7357431164919811,
          0.7352879279189234,
          0.7349465364891302,
          0.7343775507728082,
          0.7343775507728082,
          0.7342637536295438,
          0.734036159343015,
          0.7338085650564862,
          0.7314188250479338,
          0.7308498393316117,
          0.7300532593287609,
          0.7273221278904152,
          0.7270945336038863,
          0.724477199308805,
          0.7158286164207104
         ],
         "yaxis": "y"
        }
       ],
       "layout": {
        "autosize": true,
        "legend": {
         "title": {
          "text": "stratificationid1"
         },
         "tracegroupgap": 0
        },
        "margin": {
         "t": 60
        },
        "template": {
         "data": {
          "bar": [
           {
            "error_x": {
             "color": "#2a3f5f"
            },
            "error_y": {
             "color": "#2a3f5f"
            },
            "marker": {
             "line": {
              "color": "#E5ECF6",
              "width": 0.5
             },
             "pattern": {
              "fillmode": "overlay",
              "size": 10,
              "solidity": 0.2
             }
            },
            "type": "bar"
           }
          ],
          "barpolar": [
           {
            "marker": {
             "line": {
              "color": "#E5ECF6",
              "width": 0.5
             },
             "pattern": {
              "fillmode": "overlay",
              "size": 10,
              "solidity": 0.2
             }
            },
            "type": "barpolar"
           }
          ],
          "carpet": [
           {
            "aaxis": {
             "endlinecolor": "#2a3f5f",
             "gridcolor": "white",
             "linecolor": "white",
             "minorgridcolor": "white",
             "startlinecolor": "#2a3f5f"
            },
            "baxis": {
             "endlinecolor": "#2a3f5f",
             "gridcolor": "white",
             "linecolor": "white",
             "minorgridcolor": "white",
             "startlinecolor": "#2a3f5f"
            },
            "type": "carpet"
           }
          ],
          "choropleth": [
           {
            "colorbar": {
             "outlinewidth": 0,
             "ticks": ""
            },
            "type": "choropleth"
           }
          ],
          "contour": [
           {
            "colorbar": {
             "outlinewidth": 0,
             "ticks": ""
            },
            "colorscale": [
             [
              0,
              "#0d0887"
             ],
             [
              0.1111111111111111,
              "#46039f"
             ],
             [
              0.2222222222222222,
              "#7201a8"
             ],
             [
              0.3333333333333333,
              "#9c179e"
             ],
             [
              0.4444444444444444,
              "#bd3786"
             ],
             [
              0.5555555555555556,
              "#d8576b"
             ],
             [
              0.6666666666666666,
              "#ed7953"
             ],
             [
              0.7777777777777778,
              "#fb9f3a"
             ],
             [
              0.8888888888888888,
              "#fdca26"
             ],
             [
              1,
              "#f0f921"
             ]
            ],
            "type": "contour"
           }
          ],
          "contourcarpet": [
           {
            "colorbar": {
             "outlinewidth": 0,
             "ticks": ""
            },
            "type": "contourcarpet"
           }
          ],
          "heatmap": [
           {
            "colorbar": {
             "outlinewidth": 0,
             "ticks": ""
            },
            "colorscale": [
             [
              0,
              "#0d0887"
             ],
             [
              0.1111111111111111,
              "#46039f"
             ],
             [
              0.2222222222222222,
              "#7201a8"
             ],
             [
              0.3333333333333333,
              "#9c179e"
             ],
             [
              0.4444444444444444,
              "#bd3786"
             ],
             [
              0.5555555555555556,
              "#d8576b"
             ],
             [
              0.6666666666666666,
              "#ed7953"
             ],
             [
              0.7777777777777778,
              "#fb9f3a"
             ],
             [
              0.8888888888888888,
              "#fdca26"
             ],
             [
              1,
              "#f0f921"
             ]
            ],
            "type": "heatmap"
           }
          ],
          "heatmapgl": [
           {
            "colorbar": {
             "outlinewidth": 0,
             "ticks": ""
            },
            "colorscale": [
             [
              0,
              "#0d0887"
             ],
             [
              0.1111111111111111,
              "#46039f"
             ],
             [
              0.2222222222222222,
              "#7201a8"
             ],
             [
              0.3333333333333333,
              "#9c179e"
             ],
             [
              0.4444444444444444,
              "#bd3786"
             ],
             [
              0.5555555555555556,
              "#d8576b"
             ],
             [
              0.6666666666666666,
              "#ed7953"
             ],
             [
              0.7777777777777778,
              "#fb9f3a"
             ],
             [
              0.8888888888888888,
              "#fdca26"
             ],
             [
              1,
              "#f0f921"
             ]
            ],
            "type": "heatmapgl"
           }
          ],
          "histogram": [
           {
            "marker": {
             "pattern": {
              "fillmode": "overlay",
              "size": 10,
              "solidity": 0.2
             }
            },
            "type": "histogram"
           }
          ],
          "histogram2d": [
           {
            "colorbar": {
             "outlinewidth": 0,
             "ticks": ""
            },
            "colorscale": [
             [
              0,
              "#0d0887"
             ],
             [
              0.1111111111111111,
              "#46039f"
             ],
             [
              0.2222222222222222,
              "#7201a8"
             ],
             [
              0.3333333333333333,
              "#9c179e"
             ],
             [
              0.4444444444444444,
              "#bd3786"
             ],
             [
              0.5555555555555556,
              "#d8576b"
             ],
             [
              0.6666666666666666,
              "#ed7953"
             ],
             [
              0.7777777777777778,
              "#fb9f3a"
             ],
             [
              0.8888888888888888,
              "#fdca26"
             ],
             [
              1,
              "#f0f921"
             ]
            ],
            "type": "histogram2d"
           }
          ],
          "histogram2dcontour": [
           {
            "colorbar": {
             "outlinewidth": 0,
             "ticks": ""
            },
            "colorscale": [
             [
              0,
              "#0d0887"
             ],
             [
              0.1111111111111111,
              "#46039f"
             ],
             [
              0.2222222222222222,
              "#7201a8"
             ],
             [
              0.3333333333333333,
              "#9c179e"
             ],
             [
              0.4444444444444444,
              "#bd3786"
             ],
             [
              0.5555555555555556,
              "#d8576b"
             ],
             [
              0.6666666666666666,
              "#ed7953"
             ],
             [
              0.7777777777777778,
              "#fb9f3a"
             ],
             [
              0.8888888888888888,
              "#fdca26"
             ],
             [
              1,
              "#f0f921"
             ]
            ],
            "type": "histogram2dcontour"
           }
          ],
          "mesh3d": [
           {
            "colorbar": {
             "outlinewidth": 0,
             "ticks": ""
            },
            "type": "mesh3d"
           }
          ],
          "parcoords": [
           {
            "line": {
             "colorbar": {
              "outlinewidth": 0,
              "ticks": ""
             }
            },
            "type": "parcoords"
           }
          ],
          "pie": [
           {
            "automargin": true,
            "type": "pie"
           }
          ],
          "scatter": [
           {
            "marker": {
             "colorbar": {
              "outlinewidth": 0,
              "ticks": ""
             }
            },
            "type": "scatter"
           }
          ],
          "scatter3d": [
           {
            "line": {
             "colorbar": {
              "outlinewidth": 0,
              "ticks": ""
             }
            },
            "marker": {
             "colorbar": {
              "outlinewidth": 0,
              "ticks": ""
             }
            },
            "type": "scatter3d"
           }
          ],
          "scattercarpet": [
           {
            "marker": {
             "colorbar": {
              "outlinewidth": 0,
              "ticks": ""
             }
            },
            "type": "scattercarpet"
           }
          ],
          "scattergeo": [
           {
            "marker": {
             "colorbar": {
              "outlinewidth": 0,
              "ticks": ""
             }
            },
            "type": "scattergeo"
           }
          ],
          "scattergl": [
           {
            "marker": {
             "colorbar": {
              "outlinewidth": 0,
              "ticks": ""
             }
            },
            "type": "scattergl"
           }
          ],
          "scattermapbox": [
           {
            "marker": {
             "colorbar": {
              "outlinewidth": 0,
              "ticks": ""
             }
            },
            "type": "scattermapbox"
           }
          ],
          "scatterpolar": [
           {
            "marker": {
             "colorbar": {
              "outlinewidth": 0,
              "ticks": ""
             }
            },
            "type": "scatterpolar"
           }
          ],
          "scatterpolargl": [
           {
            "marker": {
             "colorbar": {
              "outlinewidth": 0,
              "ticks": ""
             }
            },
            "type": "scatterpolargl"
           }
          ],
          "scatterternary": [
           {
            "marker": {
             "colorbar": {
              "outlinewidth": 0,
              "ticks": ""
             }
            },
            "type": "scatterternary"
           }
          ],
          "surface": [
           {
            "colorbar": {
             "outlinewidth": 0,
             "ticks": ""
            },
            "colorscale": [
             [
              0,
              "#0d0887"
             ],
             [
              0.1111111111111111,
              "#46039f"
             ],
             [
              0.2222222222222222,
              "#7201a8"
             ],
             [
              0.3333333333333333,
              "#9c179e"
             ],
             [
              0.4444444444444444,
              "#bd3786"
             ],
             [
              0.5555555555555556,
              "#d8576b"
             ],
             [
              0.6666666666666666,
              "#ed7953"
             ],
             [
              0.7777777777777778,
              "#fb9f3a"
             ],
             [
              0.8888888888888888,
              "#fdca26"
             ],
             [
              1,
              "#f0f921"
             ]
            ],
            "type": "surface"
           }
          ],
          "table": [
           {
            "cells": {
             "fill": {
              "color": "#EBF0F8"
             },
             "line": {
              "color": "white"
             }
            },
            "header": {
             "fill": {
              "color": "#C8D4E3"
             },
             "line": {
              "color": "white"
             }
            },
            "type": "table"
           }
          ]
         },
         "layout": {
          "annotationdefaults": {
           "arrowcolor": "#2a3f5f",
           "arrowhead": 0,
           "arrowwidth": 1
          },
          "autotypenumbers": "strict",
          "coloraxis": {
           "colorbar": {
            "outlinewidth": 0,
            "ticks": ""
           }
          },
          "colorscale": {
           "diverging": [
            [
             0,
             "#8e0152"
            ],
            [
             0.1,
             "#c51b7d"
            ],
            [
             0.2,
             "#de77ae"
            ],
            [
             0.3,
             "#f1b6da"
            ],
            [
             0.4,
             "#fde0ef"
            ],
            [
             0.5,
             "#f7f7f7"
            ],
            [
             0.6,
             "#e6f5d0"
            ],
            [
             0.7,
             "#b8e186"
            ],
            [
             0.8,
             "#7fbc41"
            ],
            [
             0.9,
             "#4d9221"
            ],
            [
             1,
             "#276419"
            ]
           ],
           "sequential": [
            [
             0,
             "#0d0887"
            ],
            [
             0.1111111111111111,
             "#46039f"
            ],
            [
             0.2222222222222222,
             "#7201a8"
            ],
            [
             0.3333333333333333,
             "#9c179e"
            ],
            [
             0.4444444444444444,
             "#bd3786"
            ],
            [
             0.5555555555555556,
             "#d8576b"
            ],
            [
             0.6666666666666666,
             "#ed7953"
            ],
            [
             0.7777777777777778,
             "#fb9f3a"
            ],
            [
             0.8888888888888888,
             "#fdca26"
            ],
            [
             1,
             "#f0f921"
            ]
           ],
           "sequentialminus": [
            [
             0,
             "#0d0887"
            ],
            [
             0.1111111111111111,
             "#46039f"
            ],
            [
             0.2222222222222222,
             "#7201a8"
            ],
            [
             0.3333333333333333,
             "#9c179e"
            ],
            [
             0.4444444444444444,
             "#bd3786"
            ],
            [
             0.5555555555555556,
             "#d8576b"
            ],
            [
             0.6666666666666666,
             "#ed7953"
            ],
            [
             0.7777777777777778,
             "#fb9f3a"
            ],
            [
             0.8888888888888888,
             "#fdca26"
            ],
            [
             1,
             "#f0f921"
            ]
           ]
          },
          "colorway": [
           "#636efa",
           "#EF553B",
           "#00cc96",
           "#ab63fa",
           "#FFA15A",
           "#19d3f3",
           "#FF6692",
           "#B6E880",
           "#FF97FF",
           "#FECB52"
          ],
          "font": {
           "color": "#2a3f5f"
          },
          "geo": {
           "bgcolor": "white",
           "lakecolor": "white",
           "landcolor": "#E5ECF6",
           "showlakes": true,
           "showland": true,
           "subunitcolor": "white"
          },
          "hoverlabel": {
           "align": "left"
          },
          "hovermode": "closest",
          "mapbox": {
           "style": "light"
          },
          "paper_bgcolor": "white",
          "plot_bgcolor": "#E5ECF6",
          "polar": {
           "angularaxis": {
            "gridcolor": "white",
            "linecolor": "white",
            "ticks": ""
           },
           "bgcolor": "#E5ECF6",
           "radialaxis": {
            "gridcolor": "white",
            "linecolor": "white",
            "ticks": ""
           }
          },
          "scene": {
           "xaxis": {
            "backgroundcolor": "#E5ECF6",
            "gridcolor": "white",
            "gridwidth": 2,
            "linecolor": "white",
            "showbackground": true,
            "ticks": "",
            "zerolinecolor": "white"
           },
           "yaxis": {
            "backgroundcolor": "#E5ECF6",
            "gridcolor": "white",
            "gridwidth": 2,
            "linecolor": "white",
            "showbackground": true,
            "ticks": "",
            "zerolinecolor": "white"
           },
           "zaxis": {
            "backgroundcolor": "#E5ECF6",
            "gridcolor": "white",
            "gridwidth": 2,
            "linecolor": "white",
            "showbackground": true,
            "ticks": "",
            "zerolinecolor": "white"
           }
          },
          "shapedefaults": {
           "line": {
            "color": "#2a3f5f"
           }
          },
          "ternary": {
           "aaxis": {
            "gridcolor": "white",
            "linecolor": "white",
            "ticks": ""
           },
           "baxis": {
            "gridcolor": "white",
            "linecolor": "white",
            "ticks": ""
           },
           "bgcolor": "#E5ECF6",
           "caxis": {
            "gridcolor": "white",
            "linecolor": "white",
            "ticks": ""
           }
          },
          "title": {
           "x": 0.05
          },
          "xaxis": {
           "automargin": true,
           "gridcolor": "white",
           "linecolor": "white",
           "ticks": "",
           "title": {
            "standoff": 15
           },
           "zerolinecolor": "white",
           "zerolinewidth": 2
          },
          "yaxis": {
           "automargin": true,
           "gridcolor": "white",
           "linecolor": "white",
           "ticks": "",
           "title": {
            "standoff": 15
           },
           "zerolinecolor": "white",
           "zerolinewidth": 2
          }
         }
        },
        "xaxis": {
         "anchor": "y",
         "autorange": true,
         "domain": [
          0,
          1
         ],
         "range": [
          7.709294871794871,
          53.59070512820513
         ],
         "title": {
          "text": "leisure_data"
         },
         "type": "linear"
        },
        "yaxis": {
         "anchor": "x",
         "autorange": true,
         "domain": [
          0,
          1
         ],
         "range": [
          0.241118953694758,
          1.7027357325154087
         ],
         "title": {
          "text": "gyms_per_100k"
         },
         "type": "linear"
        }
       }
      },
      "image/png": "[encoded data removed]",
      "text/html": [
       "<div>                            <div id=\"ac59f20b-49d1-4035-b6a0-3e7098cb3158\" class=\"plotly-graph-div\" style=\"height:525px; width:100%;\"></div>            <script type=\"text/javascript\">                require([\"plotly\"], function(Plotly) {                    window.PLOTLYENV=window.PLOTLYENV || {};                                    if (document.getElementById(\"ac59f20b-49d1-4035-b6a0-3e7098cb3158\")) {                    Plotly.newPlot(                        \"ac59f20b-49d1-4035-b6a0-3e7098cb3158\",                        [{\"hovertemplate\":\"stratificationid1=AGEYR1824<br>leisure_data=%{x}<br>gyms_per_100k=%{y}<extra></extra>\",\"legendgroup\":\"AGEYR1824\",\"marker\":{\"color\":\"#636efa\",\"symbol\":\"circle\"},\"mode\":\"markers\",\"name\":\"AGEYR1824\",\"orientation\":\"v\",\"showlegend\":true,\"x\":[13.5,10.9,17.2,14.6,12.9,18.2,20.9,25.0,18.6,14.2,10.9,16.8,20.6,17.2,15.4,18.9,14.3,18.2,15.2,15.6,15.1,12.3,12.5,16.1,17.3,27.4,20.4,19.3,16.7,17.9,18.2,10.2,13.5,41.8,19.1,15.0,15.0,17.6,15.8,null,14.0,20.0,16.7,21.6,12.7,21.3,17.5,20.3,14.1,24.5,14.3,10.6],\"xaxis\":\"x\",\"y\":[0.5646829180659532,0.43668694349707643,0.7754310362653586,0.6869979118698469,0.8005709106625968,0.35313926682637975,0.7042412440580931,0.8201819436945096,0.596636467089929,1.1896984303089893,0.42508030475423986,0.6339003572028513,0.6958702420700615,0.5835278998418982,0.8911712663954234,0.7939553532439693,0.5904073393883658,0.5812526803961919,1.0154672059162055,0.3917037153097397,1.0377846159369497,0.8012961766954225,0.46782400086828135,0.915382706966319,0.48339472066656436,0.8057886062834053,0.9538212224268169,0.7750064498892046,0.5248916754804728,0.586564925894039,0.6911339607677808,0.6560819558834091,0.8556448353390324,0.46967555438936853,1.604740971208115,0.6137889358406425,0.7142495380104125,0.9060905475594302,0.8104435471722004,0.7263335052477828,0.514217948972557,0.7418034077343738,0.8927163274840576,0.7556276744926338,1.470900801714482,1.0269428732218484,0.7728107698908893,0.7760821440484603,0.8351600030609586,0.7313724806906909,0.5690255224543398,0.3391137150020516],\"yaxis\":\"y\",\"type\":\"scatter\"},{\"hovertemplate\":\"<b>OLS trendline</b><br>gyms_per_100k = 0.00112478 * leisure_data + 0.718481<br>R<sup>2</sup>=0.000530<br><br>stratificationid1=AGEYR1824<br>leisure_data=%{x}<br>gyms_per_100k=%{y} <b>(trend)</b><extra></extra>\",\"legendgroup\":\"AGEYR1824\",\"marker\":{\"color\":\"#636efa\",\"symbol\":\"circle\"},\"mode\":\"lines\",\"name\":\"AGEYR1824\",\"showlegend\":false,\"x\":[10.2,10.6,10.9,10.9,12.3,12.5,12.7,12.9,13.5,13.5,14.0,14.1,14.2,14.3,14.3,14.6,15.0,15.0,15.1,15.2,15.4,15.6,15.8,16.1,16.7,16.7,16.8,17.2,17.2,17.3,17.5,17.6,17.9,18.2,18.2,18.2,18.6,18.9,19.1,19.3,20.0,20.3,20.4,20.6,20.9,21.3,21.6,24.5,25.0,27.4,41.8],\"xaxis\":\"x\",\"y\":[0.729953865966025,0.7304037791766882,0.7307412140846856,0.7307412140846856,0.7323159103220069,0.7325408669273386,0.7327658235326702,0.7329907801380018,0.7336656499539966,0.7336656499539966,0.7342280414673257,0.7343405197699915,0.7344529980726573,0.7345654763753231,0.7345654763753231,0.7349029112833205,0.7353528244939838,0.7353528244939838,0.7354653027966496,0.7355777810993154,0.735802737704647,0.7360276943099786,0.7362526509153102,0.7365900858233076,0.7372649556393025,0.7372649556393025,0.7373774339419683,0.7378273471526315,0.7378273471526315,0.7379398254552973,0.738164782060629,0.7382772603632948,0.7386146952712922,0.7389521301792896,0.7389521301792896,0.7389521301792896,0.7394020433899529,0.7397394782979503,0.7399644349032819,0.7401893915086135,0.7409767396272742,0.7413141745352716,0.7414266528379374,0.741651609443269,0.7419890443512664,0.7424389575619297,0.7427763924699271,0.7460382632472355,0.7466006547605646,0.749300134024544,0.7654970096084203],\"yaxis\":\"y\",\"type\":\"scatter\"},{\"hovertemplate\":\"stratificationid1=AGEYR5564<br>leisure_data=%{x}<br>gyms_per_100k=%{y}<extra></extra>\",\"legendgroup\":\"AGEYR5564\",\"marker\":{\"color\":\"#EF553B\",\"symbol\":\"circle\"},\"mode\":\"markers\",\"name\":\"AGEYR5564\",\"orientation\":\"v\",\"showlegend\":true,\"x\":[20.4,20.4,28.8,23.9,29.8,19.6,27.1,20.1,28.0,21.2,17.9,26.8,35.2,29.3,25.3,22.6,19.1,32.1,27.2,24.2,21.5,22.0,24.6,31.6,20.7,35.4,25.8,39.1,26.9,28.2,25.1,22.2,24.7,49.9,24.9,38.4,32.4,31.1,25.5,null,22.0,30.7,26.4,25.7,21.9,30.3,40.8,37.8,29.2,34.3,22.9,29.0],\"xaxis\":\"x\",\"y\":[0.5646829180659532,0.43668694349707643,0.7754310362653586,0.6869979118698469,0.8005709106625968,0.35313926682637975,0.7042412440580931,0.8201819436945096,0.596636467089929,1.1896984303089893,0.42508030475423986,0.6339003572028513,0.6958702420700615,0.5835278998418982,0.8911712663954234,0.7939553532439693,0.5904073393883658,0.5812526803961919,1.0154672059162055,0.3917037153097397,1.0377846159369497,0.8012961766954225,0.46782400086828135,0.915382706966319,0.48339472066656436,0.8057886062834053,0.9538212224268169,0.7750064498892046,0.5248916754804728,0.586564925894039,0.6911339607677808,0.6560819558834091,0.8556448353390324,0.46967555438936853,1.604740971208115,0.6137889358406425,0.7142495380104125,0.9060905475594302,0.8104435471722004,0.7263335052477828,0.514217948972557,0.7418034077343738,0.8927163274840576,0.7556276744926338,1.470900801714482,1.0269428732218484,0.7728107698908893,0.7760821440484603,0.8351600030609586,0.7313724806906909,0.5690255224543398,0.3391137150020516],\"yaxis\":\"y\",\"type\":\"scatter\"},{\"hovertemplate\":\"<b>OLS trendline</b><br>gyms_per_100k = -0.000840364 * leisure_data + 0.760912<br>R<sup>2</sup>=0.000470<br><br>stratificationid1=AGEYR5564<br>leisure_data=%{x}<br>gyms_per_100k=%{y} <b>(trend)</b><extra></extra>\",\"legendgroup\":\"AGEYR5564\",\"marker\":{\"color\":\"#EF553B\",\"symbol\":\"circle\"},\"mode\":\"lines\",\"name\":\"AGEYR5564\",\"showlegend\":false,\"x\":[17.9,19.1,19.6,20.1,20.4,20.4,20.7,21.2,21.5,21.9,22.0,22.0,22.2,22.6,22.9,23.9,24.2,24.6,24.7,24.9,25.1,25.3,25.5,25.7,25.8,26.4,26.8,26.9,27.1,27.2,28.0,28.2,28.8,29.0,29.2,29.3,29.8,30.3,30.7,31.1,31.6,32.1,32.4,34.3,35.2,35.4,37.8,38.4,39.1,40.8,49.9],\"xaxis\":\"x\",\"y\":[0.7458690888761802,0.7448606516441154,0.7444404694640884,0.7440202872840614,0.7437681779760452,0.7437681779760452,0.743516068668029,0.743095886488002,0.7428437771799857,0.7425076314359642,0.7424235949999588,0.7424235949999588,0.742255522127948,0.7419193763839264,0.7416672670759101,0.7408269027158562,0.7405747934078399,0.7402386476638183,0.7401546112278129,0.7399865383558021,0.7398184654837914,0.7396503926117806,0.7394823197397697,0.7393142468677589,0.7392302104317535,0.7387259918157211,0.7383898460716996,0.7383058096356941,0.7381377367636833,0.7380537003276779,0.7373814088396347,0.7372133359676238,0.7367091173515915,0.7365410444795807,0.7363729716075699,0.7362889351715645,0.7358687529915374,0.7354485708115104,0.7351124250674889,0.7347762793234672,0.7343560971434402,0.7339359149634133,0.733683805655397,0.7320871133712944,0.7313307854472457,0.7311627125752349,0.7291458381111053,0.7286416194950729,0.7280533644430351,0.7266247450309433,0.7189774293544517],\"yaxis\":\"y\",\"type\":\"scatter\"},{\"hovertemplate\":\"stratificationid1=AGEYR2534<br>leisure_data=%{x}<br>gyms_per_100k=%{y}<extra></extra>\",\"legendgroup\":\"AGEYR2534\",\"marker\":{\"color\":\"#00cc96\",\"symbol\":\"circle\"},\"mode\":\"markers\",\"name\":\"AGEYR2534\",\"orientation\":\"v\",\"showlegend\":true,\"x\":[15.5,14.5,18.3,14.1,16.4,19.9,22.8,13.1,19.3,21.2,10.2,19.0,19.8,16.9,18.4,19.3,12.4,21.1,18.4,15.6,23.9,13.2,15.9,15.6,18.4,26.6,17.9,23.3,24.7,20.3,18.8,15.9,22.7,42.9,23.4,23.9,20.8,22.8,17.4,null,16.5,22.1,21.6,17.4,17.1,24.7,29.4,19.9,21.1,25.0,19.9,13.5],\"xaxis\":\"x\",\"y\":[0.5646829180659532,0.43668694349707643,0.7754310362653586,0.6869979118698469,0.8005709106625968,0.35313926682637975,0.7042412440580931,0.8201819436945096,0.596636467089929,1.1896984303089893,0.42508030475423986,0.6339003572028513,0.6958702420700615,0.5835278998418982,0.8911712663954234,0.7939553532439693,0.5904073393883658,0.5812526803961919,1.0154672059162055,0.3917037153097397,1.0377846159369497,0.8012961766954225,0.46782400086828135,0.915382706966319,0.48339472066656436,0.8057886062834053,0.9538212224268169,0.7750064498892046,0.5248916754804728,0.586564925894039,0.6911339607677808,0.6560819558834091,0.8556448353390324,0.46967555438936853,1.604740971208115,0.6137889358406425,0.7142495380104125,0.9060905475594302,0.8104435471722004,0.7263335052477828,0.514217948972557,0.7418034077343738,0.8927163274840576,0.7556276744926338,1.470900801714482,1.0269428732218484,0.7728107698908893,0.7760821440484603,0.8351600030609586,0.7313724806906909,0.5690255224543398,0.3391137150020516],\"yaxis\":\"y\",\"type\":\"scatter\"},{\"hovertemplate\":\"<b>OLS trendline</b><br>gyms_per_100k = 0.00671719 * leisure_data + 0.605764<br>R<sup>2</sup>=0.019436<br><br>stratificationid1=AGEYR2534<br>leisure_data=%{x}<br>gyms_per_100k=%{y} <b>(trend)</b><extra></extra>\",\"legendgroup\":\"AGEYR2534\",\"marker\":{\"color\":\"#00cc96\",\"symbol\":\"circle\"},\"mode\":\"lines\",\"name\":\"AGEYR2534\",\"showlegend\":false,\"x\":[10.2,12.4,13.1,13.2,13.5,14.1,14.5,15.5,15.6,15.6,15.9,15.9,16.4,16.5,16.9,17.1,17.4,17.4,17.9,18.3,18.4,18.4,18.4,18.8,19.0,19.3,19.3,19.8,19.9,19.9,19.9,20.3,20.8,21.1,21.1,21.2,21.6,22.1,22.7,22.8,22.8,23.3,23.4,23.9,23.9,24.7,24.7,25.0,26.6,29.4,42.9],\"xaxis\":\"x\",\"y\":[0.6742796869036773,0.6890575145990643,0.6937595506839601,0.6944312701246595,0.6964464284467577,0.7004767450909541,0.7031636228537518,0.7098808172607459,0.7105525367014452,0.7105525367014452,0.7125676950235436,0.7125676950235436,0.7159262922270405,0.71659801166774,0.7192848894305376,0.7206283283119364,0.7226434866340345,0.7226434866340345,0.7260020838375316,0.7286889616003293,0.7293606810410287,0.7293606810410287,0.7293606810410287,0.7320475588038263,0.7333909976852251,0.7354061560073233,0.7354061560073233,0.7387647532108204,0.7394364726515197,0.7394364726515197,0.7394364726515197,0.7421233504143174,0.7454819476178144,0.7474971059399127,0.7474971059399127,0.748168825380612,0.7508557031434097,0.7542143003469067,0.7582446169911031,0.7589163364318026,0.7589163364318026,0.7622749336352995,0.762946653075999,0.766305250279496,0.766305250279496,0.7716790058050913,0.7716790058050913,0.7736941641271895,0.7844416751783799,0.8032498195179634,0.8939319440123832],\"yaxis\":\"y\",\"type\":\"scatter\"},{\"hovertemplate\":\"stratificationid1=AGEYR65PLUS<br>leisure_data=%{x}<br>gyms_per_100k=%{y}<extra></extra>\",\"legendgroup\":\"AGEYR65PLUS\",\"marker\":{\"color\":\"#ab63fa\",\"symbol\":\"circle\"},\"mode\":\"markers\",\"name\":\"AGEYR65PLUS\",\"orientation\":\"v\",\"showlegend\":true,\"x\":[22.2,24.6,33.4,26.4,33.5,25.4,31.2,30.9,34.2,27.8,26.7,33.0,40.0,32.5,30.2,28.2,21.4,39.0,32.2,26.7,29.8,24.6,29.6,35.6,25.4,37.2,30.0,41.3,30.8,34.7,29.3,28.7,32.4,51.1,29.0,41.0,28.3,35.2,27.5,null,27.6,36.0,35.1,27.4,26.4,33.2,36.2,38.5,31.3,40.5,22.0,33.1],\"xaxis\":\"x\",\"y\":[0.5646829180659532,0.43668694349707643,0.7754310362653586,0.6869979118698469,0.8005709106625968,0.35313926682637975,0.7042412440580931,0.8201819436945096,0.596636467089929,1.1896984303089893,0.42508030475423986,0.6339003572028513,0.6958702420700615,0.5835278998418982,0.8911712663954234,0.7939553532439693,0.5904073393883658,0.5812526803961919,1.0154672059162055,0.3917037153097397,1.0377846159369497,0.8012961766954225,0.46782400086828135,0.915382706966319,0.48339472066656436,0.8057886062834053,0.9538212224268169,0.7750064498892046,0.5248916754804728,0.586564925894039,0.6911339607677808,0.6560819558834091,0.8556448353390324,0.46967555438936853,1.604740971208115,0.6137889358406425,0.7142495380104125,0.9060905475594302,0.8104435471722004,0.7263335052477828,0.514217948972557,0.7418034077343738,0.8927163274840576,0.7556276744926338,1.470900801714482,1.0269428732218484,0.7728107698908893,0.7760821440484603,0.8351600030609586,0.7313724806906909,0.5690255224543398,0.3391137150020516],\"yaxis\":\"y\",\"type\":\"scatter\"},{\"hovertemplate\":\"<b>OLS trendline</b><br>gyms_per_100k = 0.000394621 * leisure_data + 0.725398<br>R<sup>2</sup>=0.000083<br><br>stratificationid1=AGEYR65PLUS<br>leisure_data=%{x}<br>gyms_per_100k=%{y} <b>(trend)</b><extra></extra>\",\"legendgroup\":\"AGEYR65PLUS\",\"marker\":{\"color\":\"#ab63fa\",\"symbol\":\"circle\"},\"mode\":\"lines\",\"name\":\"AGEYR65PLUS\",\"showlegend\":false,\"x\":[21.4,22.0,22.2,24.6,24.6,25.4,25.4,26.4,26.4,26.7,26.7,27.4,27.5,27.6,27.8,28.2,28.3,28.7,29.0,29.3,29.6,29.8,30.0,30.2,30.8,30.9,31.2,31.3,32.2,32.4,32.5,33.0,33.1,33.2,33.4,33.5,34.2,34.7,35.1,35.2,35.6,36.0,36.2,37.2,38.5,39.0,40.0,40.5,41.0,41.3,51.1],\"xaxis\":\"x\",\"y\":[0.7338431846333581,0.7340799572817639,0.7341588814978991,0.7351059720915223,0.7351059720915223,0.7354216689560633,0.7354216689560633,0.7358162900367395,0.7358162900367395,0.7359346763609425,0.7359346763609425,0.7362109111174159,0.7362503732254835,0.7362898353335512,0.7363687595496864,0.7365266079819569,0.7365660700900246,0.7367239185222951,0.7368423048464979,0.7369606911707008,0.7370790774949038,0.737158001711039,0.7372369259271743,0.7373158501433096,0.7375526227917153,0.7375920848997829,0.7377104712239858,0.7377499333320534,0.7381050923046621,0.7381840165207973,0.7382234786288651,0.7384207891692032,0.7384602512772708,0.7384997133853384,0.7385786376014737,0.7386180997095413,0.7388943344660147,0.7390916450063528,0.7392494934386233,0.739288955546691,0.7394468039789616,0.7396046524112321,0.7396835766273673,0.7400781977080436,0.7405912051129228,0.740788515653261,0.7411831367339372,0.7413804472742754,0.7415777578146135,0.7416961441388165,0.7455634307294442],\"yaxis\":\"y\",\"type\":\"scatter\"},{\"hovertemplate\":\"stratificationid1=AGEYR3544<br>leisure_data=%{x}<br>gyms_per_100k=%{y}<extra></extra>\",\"legendgroup\":\"AGEYR3544\",\"marker\":{\"color\":\"#FFA15A\",\"symbol\":\"circle\"},\"mode\":\"markers\",\"name\":\"AGEYR3544\",\"orientation\":\"v\",\"showlegend\":true,\"x\":[16.3,14.7,20.9,15.2,20.4,14.8,23.9,13.5,23.6,18.6,14.5,21.2,28.3,18.2,19.3,18.7,14.9,21.3,20.3,19.0,20.7,11.5,15.8,22.4,18.9,22.0,20.4,22.4,25.5,20.5,20.8,21.2,22.8,44.4,22.7,21.6,18.3,20.4,19.6,null,17.7,22.7,22.4,18.6,18.1,22.3,26.3,22.3,21.2,21.4,18.8,25.1],\"xaxis\":\"x\",\"y\":[0.5646829180659532,0.43668694349707643,0.7754310362653586,0.6869979118698469,0.8005709106625968,0.35313926682637975,0.7042412440580931,0.8201819436945096,0.596636467089929,1.1896984303089893,0.42508030475423986,0.6339003572028513,0.6958702420700615,0.5835278998418982,0.8911712663954234,0.7939553532439693,0.5904073393883658,0.5812526803961919,1.0154672059162055,0.3917037153097397,1.0377846159369497,0.8012961766954225,0.46782400086828135,0.915382706966319,0.48339472066656436,0.8057886062834053,0.9538212224268169,0.7750064498892046,0.5248916754804728,0.586564925894039,0.6911339607677808,0.6560819558834091,0.8556448353390324,0.46967555438936853,1.604740971208115,0.6137889358406425,0.7142495380104125,0.9060905475594302,0.8104435471722004,0.7263335052477828,0.514217948972557,0.7418034077343738,0.8927163274840576,0.7556276744926338,1.470900801714482,1.0269428732218484,0.7728107698908893,0.7760821440484603,0.8351600030609586,0.7313724806906909,0.5690255224543398,0.3391137150020516],\"yaxis\":\"y\",\"type\":\"scatter\"},{\"hovertemplate\":\"<b>OLS trendline</b><br>gyms_per_100k = 0.000201551 * leisure_data + 0.733707<br>R<sup>2</sup>=0.000015<br><br>stratificationid1=AGEYR3544<br>leisure_data=%{x}<br>gyms_per_100k=%{y} <b>(trend)</b><extra></extra>\",\"legendgroup\":\"AGEYR3544\",\"marker\":{\"color\":\"#FFA15A\",\"symbol\":\"circle\"},\"mode\":\"lines\",\"name\":\"AGEYR3544\",\"showlegend\":false,\"x\":[11.5,13.5,14.5,14.7,14.8,14.9,15.2,15.8,16.3,17.7,18.1,18.2,18.3,18.6,18.6,18.7,18.8,18.9,19.0,19.3,19.6,20.3,20.4,20.4,20.4,20.5,20.7,20.8,20.9,21.2,21.2,21.2,21.3,21.4,21.6,22.0,22.3,22.3,22.4,22.4,22.4,22.7,22.7,22.8,23.6,23.9,25.1,25.5,26.3,28.3,44.4],\"xaxis\":\"x\",\"y\":[0.7360252732003164,0.7364283743948664,0.7366299249921413,0.7366702351115963,0.7366903901713239,0.7367105452310514,0.7367710104102339,0.7368919407685988,0.7369927160672363,0.7372748869034212,0.7373555071423312,0.7373756622020587,0.7373958172617863,0.7374562824409687,0.7374562824409687,0.7374764375006962,0.7374965925604238,0.7375167476201512,0.7375369026798787,0.7375973678590612,0.7376578330382437,0.7377989184563362,0.7378190735160637,0.7378190735160637,0.7378190735160637,0.7378392285757912,0.7378795386952461,0.7378996937549737,0.7379198488147012,0.7379803139938836,0.7379803139938836,0.7379803139938836,0.7380004690536112,0.7380206241133387,0.7380609342327936,0.7381415544717036,0.738202019650886,0.738202019650886,0.7382221747106136,0.7382221747106136,0.7382221747106136,0.7382826398897961,0.7382826398897961,0.7383027949495236,0.7384640354273435,0.7385245006065261,0.738766361323256,0.738846981562166,0.739008222039986,0.739411323234536,0.7426562878506628],\"yaxis\":\"y\",\"type\":\"scatter\"},{\"hovertemplate\":\"stratificationid1=AGEYR4554<br>leisure_data=%{x}<br>gyms_per_100k=%{y}<extra></extra>\",\"legendgroup\":\"AGEYR4554\",\"marker\":{\"color\":\"#19d3f3\",\"symbol\":\"circle\"},\"mode\":\"markers\",\"name\":\"AGEYR4554\",\"orientation\":\"v\",\"showlegend\":true,\"x\":[16.6,20.2,22.0,23.0,25.4,18.6,25.7,21.5,25.5,19.5,18.1,26.4,33.3,23.6,24.4,19.4,17.4,33.1,24.8,18.9,21.4,15.6,20.7,27.0,18.2,30.7,19.0,35.6,25.2,23.8,20.6,22.4,22.1,43.2,22.3,29.5,26.9,23.4,24.2,null,19.2,27.4,26.1,23.4,17.2,25.6,30.0,27.2,26.9,25.6,18.9,19.9],\"xaxis\":\"x\",\"y\":[0.5646829180659532,0.43668694349707643,0.7754310362653586,0.6869979118698469,0.8005709106625968,0.35313926682637975,0.7042412440580931,0.8201819436945096,0.596636467089929,1.1896984303089893,0.42508030475423986,0.6339003572028513,0.6958702420700615,0.5835278998418982,0.8911712663954234,0.7939553532439693,0.5904073393883658,0.5812526803961919,1.0154672059162055,0.3917037153097397,1.0377846159369497,0.8012961766954225,0.46782400086828135,0.915382706966319,0.48339472066656436,0.8057886062834053,0.9538212224268169,0.7750064498892046,0.5248916754804728,0.586564925894039,0.6911339607677808,0.6560819558834091,0.8556448353390324,0.46967555438936853,1.604740971208115,0.6137889358406425,0.7142495380104125,0.9060905475594302,0.8104435471722004,0.7263335052477828,0.514217948972557,0.7418034077343738,0.8927163274840576,0.7556276744926338,1.470900801714482,1.0269428732218484,0.7728107698908893,0.7760821440484603,0.8351600030609586,0.7313724806906909,0.5690255224543398,0.3391137150020516],\"yaxis\":\"y\",\"type\":\"scatter\"},{\"hovertemplate\":\"<b>OLS trendline</b><br>gyms_per_100k = -0.00113797 * leisure_data + 0.764989<br>R<sup>2</sup>=0.000583<br><br>stratificationid1=AGEYR4554<br>leisure_data=%{x}<br>gyms_per_100k=%{y} <b>(trend)</b><extra></extra>\",\"legendgroup\":\"AGEYR4554\",\"marker\":{\"color\":\"#19d3f3\",\"symbol\":\"circle\"},\"mode\":\"lines\",\"name\":\"AGEYR4554\",\"showlegend\":false,\"x\":[15.6,16.6,17.2,17.4,18.1,18.2,18.6,18.9,18.9,19.0,19.2,19.4,19.5,19.9,20.2,20.6,20.7,21.4,21.5,22.0,22.1,22.3,22.4,23.0,23.4,23.4,23.6,23.8,24.2,24.4,24.8,25.2,25.4,25.5,25.6,25.6,25.7,26.1,26.4,26.9,26.9,27.0,27.2,27.4,29.5,30.0,30.7,33.1,33.3,35.6,43.2],\"xaxis\":\"x\",\"y\":[0.7472366279616859,0.7460986565290418,0.7454158736694554,0.7451882793829265,0.7443916993800758,0.7442779022368113,0.7438227136637537,0.7434813222339605,0.7434813222339605,0.7433675250906961,0.7431399308041673,0.7429123365176384,0.7427985393743741,0.7423433508013165,0.7420019593715232,0.7415467707984656,0.7414329736552012,0.7406363936523505,0.740522596509086,0.739953610792764,0.7398398136494996,0.7396122193629708,0.7394984222197064,0.73881563936012,0.7383604507870624,0.7383604507870624,0.7381328565005335,0.7379052622140048,0.7374500736409471,0.7372224793544183,0.7367672907813607,0.7363121022083031,0.7360845079217743,0.7359707107785098,0.7358569136352454,0.7358569136352454,0.7357431164919811,0.7352879279189234,0.7349465364891302,0.7343775507728082,0.7343775507728082,0.7342637536295438,0.734036159343015,0.7338085650564862,0.7314188250479338,0.7308498393316117,0.7300532593287609,0.7273221278904152,0.7270945336038863,0.724477199308805,0.7158286164207104],\"yaxis\":\"y\",\"type\":\"scatter\"}],                        {\"template\":{\"data\":{\"bar\":[{\"error_x\":{\"color\":\"#2a3f5f\"},\"error_y\":{\"color\":\"#2a3f5f\"},\"marker\":{\"line\":{\"color\":\"#E5ECF6\",\"width\":0.5},\"pattern\":{\"fillmode\":\"overlay\",\"size\":10,\"solidity\":0.2}},\"type\":\"bar\"}],\"barpolar\":[{\"marker\":{\"line\":{\"color\":\"#E5ECF6\",\"width\":0.5},\"pattern\":{\"fillmode\":\"overlay\",\"size\":10,\"solidity\":0.2}},\"type\":\"barpolar\"}],\"carpet\":[{\"aaxis\":{\"endlinecolor\":\"#2a3f5f\",\"gridcolor\":\"white\",\"linecolor\":\"white\",\"minorgridcolor\":\"white\",\"startlinecolor\":\"#2a3f5f\"},\"baxis\":{\"endlinecolor\":\"#2a3f5f\",\"gridcolor\":\"white\",\"linecolor\":\"white\",\"minorgridcolor\":\"white\",\"startlinecolor\":\"#2a3f5f\"},\"type\":\"carpet\"}],\"choropleth\":[{\"colorbar\":{\"outlinewidth\":0,\"ticks\":\"\"},\"type\":\"choropleth\"}],\"contour\":[{\"colorbar\":{\"outlinewidth\":0,\"ticks\":\"\"},\"colorscale\":[[0.0,\"#0d0887\"],[0.1111111111111111,\"#46039f\"],[0.2222222222222222,\"#7201a8\"],[0.3333333333333333,\"#9c179e\"],[0.4444444444444444,\"#bd3786\"],[0.5555555555555556,\"#d8576b\"],[0.6666666666666666,\"#ed7953\"],[0.7777777777777778,\"#fb9f3a\"],[0.8888888888888888,\"#fdca26\"],[1.0,\"#f0f921\"]],\"type\":\"contour\"}],\"contourcarpet\":[{\"colorbar\":{\"outlinewidth\":0,\"ticks\":\"\"},\"type\":\"contourcarpet\"}],\"heatmap\":[{\"colorbar\":{\"outlinewidth\":0,\"ticks\":\"\"},\"colorscale\":[[0.0,\"#0d0887\"],[0.1111111111111111,\"#46039f\"],[0.2222222222222222,\"#7201a8\"],[0.3333333333333333,\"#9c179e\"],[0.4444444444444444,\"#bd3786\"],[0.5555555555555556,\"#d8576b\"],[0.6666666666666666,\"#ed7953\"],[0.7777777777777778,\"#fb9f3a\"],[0.8888888888888888,\"#fdca26\"],[1.0,\"#f0f921\"]],\"type\":\"heatmap\"}],\"heatmapgl\":[{\"colorbar\":{\"outlinewidth\":0,\"ticks\":\"\"},\"colorscale\":[[0.0,\"#0d0887\"],[0.1111111111111111,\"#46039f\"],[0.2222222222222222,\"#7201a8\"],[0.3333333333333333,\"#9c179e\"],[0.4444444444444444,\"#bd3786\"],[0.5555555555555556,\"#d8576b\"],[0.6666666666666666,\"#ed7953\"],[0.7777777777777778,\"#fb9f3a\"],[0.8888888888888888,\"#fdca26\"],[1.0,\"#f0f921\"]],\"type\":\"heatmapgl\"}],\"histogram\":[{\"marker\":{\"pattern\":{\"fillmode\":\"overlay\",\"size\":10,\"solidity\":0.2}},\"type\":\"histogram\"}],\"histogram2d\":[{\"colorbar\":{\"outlinewidth\":0,\"ticks\":\"\"},\"colorscale\":[[0.0,\"#0d0887\"],[0.1111111111111111,\"#46039f\"],[0.2222222222222222,\"#7201a8\"],[0.3333333333333333,\"#9c179e\"],[0.4444444444444444,\"#bd3786\"],[0.5555555555555556,\"#d8576b\"],[0.6666666666666666,\"#ed7953\"],[0.7777777777777778,\"#fb9f3a\"],[0.8888888888888888,\"#fdca26\"],[1.0,\"#f0f921\"]],\"type\":\"histogram2d\"}],\"histogram2dcontour\":[{\"colorbar\":{\"outlinewidth\":0,\"ticks\":\"\"},\"colorscale\":[[0.0,\"#0d0887\"],[0.1111111111111111,\"#46039f\"],[0.2222222222222222,\"#7201a8\"],[0.3333333333333333,\"#9c179e\"],[0.4444444444444444,\"#bd3786\"],[0.5555555555555556,\"#d8576b\"],[0.6666666666666666,\"#ed7953\"],[0.7777777777777778,\"#fb9f3a\"],[0.8888888888888888,\"#fdca26\"],[1.0,\"#f0f921\"]],\"type\":\"histogram2dcontour\"}],\"mesh3d\":[{\"colorbar\":{\"outlinewidth\":0,\"ticks\":\"\"},\"type\":\"mesh3d\"}],\"parcoords\":[{\"line\":{\"colorbar\":{\"outlinewidth\":0,\"ticks\":\"\"}},\"type\":\"parcoords\"}],\"pie\":[{\"automargin\":true,\"type\":\"pie\"}],\"scatter\":[{\"marker\":{\"colorbar\":{\"outlinewidth\":0,\"ticks\":\"\"}},\"type\":\"scatter\"}],\"scatter3d\":[{\"line\":{\"colorbar\":{\"outlinewidth\":0,\"ticks\":\"\"}},\"marker\":{\"colorbar\":{\"outlinewidth\":0,\"ticks\":\"\"}},\"type\":\"scatter3d\"}],\"scattercarpet\":[{\"marker\":{\"colorbar\":{\"outlinewidth\":0,\"ticks\":\"\"}},\"type\":\"scattercarpet\"}],\"scattergeo\":[{\"marker\":{\"colorbar\":{\"outlinewidth\":0,\"ticks\":\"\"}},\"type\":\"scattergeo\"}],\"scattergl\":[{\"marker\":{\"colorbar\":{\"outlinewidth\":0,\"ticks\":\"\"}},\"type\":\"scattergl\"}],\"scattermapbox\":[{\"marker\":{\"colorbar\":{\"outlinewidth\":0,\"ticks\":\"\"}},\"type\":\"scattermapbox\"}],\"scatterpolar\":[{\"marker\":{\"colorbar\":{\"outlinewidth\":0,\"ticks\":\"\"}},\"type\":\"scatterpolar\"}],\"scatterpolargl\":[{\"marker\":{\"colorbar\":{\"outlinewidth\":0,\"ticks\":\"\"}},\"type\":\"scatterpolargl\"}],\"scatterternary\":[{\"marker\":{\"colorbar\":{\"outlinewidth\":0,\"ticks\":\"\"}},\"type\":\"scatterternary\"}],\"surface\":[{\"colorbar\":{\"outlinewidth\":0,\"ticks\":\"\"},\"colorscale\":[[0.0,\"#0d0887\"],[0.1111111111111111,\"#46039f\"],[0.2222222222222222,\"#7201a8\"],[0.3333333333333333,\"#9c179e\"],[0.4444444444444444,\"#bd3786\"],[0.5555555555555556,\"#d8576b\"],[0.6666666666666666,\"#ed7953\"],[0.7777777777777778,\"#fb9f3a\"],[0.8888888888888888,\"#fdca26\"],[1.0,\"#f0f921\"]],\"type\":\"surface\"}],\"table\":[{\"cells\":{\"fill\":{\"color\":\"#EBF0F8\"},\"line\":{\"color\":\"white\"}},\"header\":{\"fill\":{\"color\":\"#C8D4E3\"},\"line\":{\"color\":\"white\"}},\"type\":\"table\"}]},\"layout\":{\"annotationdefaults\":{\"arrowcolor\":\"#2a3f5f\",\"arrowhead\":0,\"arrowwidth\":1},\"autotypenumbers\":\"strict\",\"coloraxis\":{\"colorbar\":{\"outlinewidth\":0,\"ticks\":\"\"}},\"colorscale\":{\"diverging\":[[0,\"#8e0152\"],[0.1,\"#c51b7d\"],[0.2,\"#de77ae\"],[0.3,\"#f1b6da\"],[0.4,\"#fde0ef\"],[0.5,\"#f7f7f7\"],[0.6,\"#e6f5d0\"],[0.7,\"#b8e186\"],[0.8,\"#7fbc41\"],[0.9,\"#4d9221\"],[1,\"#276419\"]],\"sequential\":[[0.0,\"#0d0887\"],[0.1111111111111111,\"#46039f\"],[0.2222222222222222,\"#7201a8\"],[0.3333333333333333,\"#9c179e\"],[0.4444444444444444,\"#bd3786\"],[0.5555555555555556,\"#d8576b\"],[0.6666666666666666,\"#ed7953\"],[0.7777777777777778,\"#fb9f3a\"],[0.8888888888888888,\"#fdca26\"],[1.0,\"#f0f921\"]],\"sequentialminus\":[[0.0,\"#0d0887\"],[0.1111111111111111,\"#46039f\"],[0.2222222222222222,\"#7201a8\"],[0.3333333333333333,\"#9c179e\"],[0.4444444444444444,\"#bd3786\"],[0.5555555555555556,\"#d8576b\"],[0.6666666666666666,\"#ed7953\"],[0.7777777777777778,\"#fb9f3a\"],[0.8888888888888888,\"#fdca26\"],[1.0,\"#f0f921\"]]},\"colorway\":[\"#636efa\",\"#EF553B\",\"#00cc96\",\"#ab63fa\",\"#FFA15A\",\"#19d3f3\",\"#FF6692\",\"#B6E880\",\"#FF97FF\",\"#FECB52\"],\"font\":{\"color\":\"#2a3f5f\"},\"geo\":{\"bgcolor\":\"white\",\"lakecolor\":\"white\",\"landcolor\":\"#E5ECF6\",\"showlakes\":true,\"showland\":true,\"subunitcolor\":\"white\"},\"hoverlabel\":{\"align\":\"left\"},\"hovermode\":\"closest\",\"mapbox\":{\"style\":\"light\"},\"paper_bgcolor\":\"white\",\"plot_bgcolor\":\"#E5ECF6\",\"polar\":{\"angularaxis\":{\"gridcolor\":\"white\",\"linecolor\":\"white\",\"ticks\":\"\"},\"bgcolor\":\"#E5ECF6\",\"radialaxis\":{\"gridcolor\":\"white\",\"linecolor\":\"white\",\"ticks\":\"\"}},\"scene\":{\"xaxis\":{\"backgroundcolor\":\"#E5ECF6\",\"gridcolor\":\"white\",\"gridwidth\":2,\"linecolor\":\"white\",\"showbackground\":true,\"ticks\":\"\",\"zerolinecolor\":\"white\"},\"yaxis\":{\"backgroundcolor\":\"#E5ECF6\",\"gridcolor\":\"white\",\"gridwidth\":2,\"linecolor\":\"white\",\"showbackground\":true,\"ticks\":\"\",\"zerolinecolor\":\"white\"},\"zaxis\":{\"backgroundcolor\":\"#E5ECF6\",\"gridcolor\":\"white\",\"gridwidth\":2,\"linecolor\":\"white\",\"showbackground\":true,\"ticks\":\"\",\"zerolinecolor\":\"white\"}},\"shapedefaults\":{\"line\":{\"color\":\"#2a3f5f\"}},\"ternary\":{\"aaxis\":{\"gridcolor\":\"white\",\"linecolor\":\"white\",\"ticks\":\"\"},\"baxis\":{\"gridcolor\":\"white\",\"linecolor\":\"white\",\"ticks\":\"\"},\"bgcolor\":\"#E5ECF6\",\"caxis\":{\"gridcolor\":\"white\",\"linecolor\":\"white\",\"ticks\":\"\"}},\"title\":{\"x\":0.05},\"xaxis\":{\"automargin\":true,\"gridcolor\":\"white\",\"linecolor\":\"white\",\"ticks\":\"\",\"title\":{\"standoff\":15},\"zerolinecolor\":\"white\",\"zerolinewidth\":2},\"yaxis\":{\"automargin\":true,\"gridcolor\":\"white\",\"linecolor\":\"white\",\"ticks\":\"\",\"title\":{\"standoff\":15},\"zerolinecolor\":\"white\",\"zerolinewidth\":2}}},\"xaxis\":{\"anchor\":\"y\",\"domain\":[0.0,1.0],\"title\":{\"text\":\"leisure_data\"}},\"yaxis\":{\"anchor\":\"x\",\"domain\":[0.0,1.0],\"title\":{\"text\":\"gyms_per_100k\"}},\"legend\":{\"title\":{\"text\":\"stratificationid1\"},\"tracegroupgap\":0},\"margin\":{\"t\":60}},                        {\"responsive\": true}                    ).then(function(){\n",
       "                            \n",
       "var gd = document.getElementById('ac59f20b-49d1-4035-b6a0-3e7098cb3158');\n",
       "var x = new MutationObserver(function (mutations, observer) {{\n",
       "        var display = window.getComputedStyle(gd).display;\n",
       "        if (!display || display === 'none') {{\n",
       "            console.log([gd, 'removed!']);\n",
       "            Plotly.purge(gd);\n",
       "            observer.disconnect();\n",
       "        }}\n",
       "}});\n",
       "\n",
       "// Listen for the removal of the full notebook cells\n",
       "var notebookContainer = gd.closest('#notebook-container');\n",
       "if (notebookContainer) {{\n",
       "    x.observe(notebookContainer, {childList: true});\n",
       "}}\n",
       "\n",
       "// Listen for the clearing of the current output cell\n",
       "var outputEl = gd.closest('.output');\n",
       "if (outputEl) {{\n",
       "    x.observe(outputEl, {childList: true});\n",
       "}}\n",
       "\n",
       "                        })                };                });            </script>        </div>"
      ]
     },
     "metadata": {},
     "output_type": "display_data"
    }
   ],
   "source": [
    "query = \"\"\"\n",
    "SELECT gyms.*,\n",
    "    leisure.abbr,\n",
    "    leisure.locationdesc,\n",
    "    leisure.data_value AS leisure_data,\n",
    "    leisure.stratificationcategoryid1,\n",
    "    leisure.stratificationid1,\n",
    "    states.*\n",
    "    FROM (SELECT COUNT(gym_locations.abbr) AS n_gyms,gym_locations.State_ID_fk FROM gym_locations\n",
    "GROUP BY State_ID_fk) as gyms\n",
    "JOIN leisure ON leisure.State_ID_fk = gyms.State_ID_fk\n",
    "AND leisure.stratificationcategoryid1 = 'AGEYR'\n",
    "JOIN states ON states.State_ID_fk = gyms.State_ID_fk\n",
    "\"\"\"\n",
    "leis = pd.read_sql(query,con=conn)\n",
    "\n",
    "leis.dtypes\n",
    "leis['leisure_data'] = leis['leisure_data'].astype(float)\n",
    "leis['Pop'] = leis['Pop'].astype(int)\n",
    "leis['gyms_per_100k'] = leis['n_gyms']/(leis['Pop']/100000)\n",
    "\n",
    "px.scatter(leis, y = 'gyms_per_100k', x = 'leisure_data', trendline = 'ols', color = 'stratificationid1')"
   ]
  },
  {
   "cell_type": "code",
   "execution_count": 111,
   "id": "9c8b79f7-a81f-416a-ad0a-ddb8410381ae",
   "metadata": {},
   "outputs": [],
   "source": [
    "agedf.to_csv('obesity_plotdata.csv', index = False)\n",
    "leis.to_csv('leisure_plotdata.csv', index = False)"
   ]
  }
 ],
 "metadata": {
  "kernelspec": {
   "display_name": "Python 3 (ipykernel)",
   "language": "python",
   "name": "python3"
  },
  "language_info": {
   "codemirror_mode": {
    "name": "ipython",
    "version": 3
   },
   "file_extension": ".py",
   "mimetype": "text/x-python",
   "name": "python",
   "nbconvert_exporter": "python",
   "pygments_lexer": "ipython3",
   "version": "3.9.12"
  }
 },
 "nbformat": 4,
 "nbformat_minor": 5
}
